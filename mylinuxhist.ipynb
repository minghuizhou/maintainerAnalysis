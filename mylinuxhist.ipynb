{
 "cells": [
  {
   "cell_type": "code",
   "execution_count": 1,
   "metadata": {
    "collapsed": false
   },
   "outputs": [],
   "source": [
    "#coding=utf-8\n",
    "import re, os, fnmatch, time, collections, pickle\n",
    "import pandas as pd\n",
    "import numpy as np\n",
    "import commands\n",
    "import collections, copy\n",
    "from pandas import DataFrame, Series\n",
    "import commands\n",
    "use_delta = False\n",
    "wkdir = \"/store1/chenqy/linuxhistory/\"\n",
    "repodir = wkdir + 'linux/'\n",
    "mtnrdir = wkdir + 'maintainer/'\n",
    "revdir = mtnrdir + 'rev/'\n",
    "lstreedir = mtnrdir + 'tree/'\n",
    "idmp_fn = 'all.aliase.id.networkx.full'\n",
    "hist_fn = 'MAINTAINERS.h.at.ct'\n",
    "diff_fn = 'diff_maintainer.csv'\n",
    "mtnr_stat_fn = 'mtnr_stat.csv'\n",
    "delta_files_fn = 'unique-files.csv'\n",
    "delta_files_rev_ct_fn = 'delta-files-rev-ct.csv'\n",
    "delta_files_rev_ct_mtnrs_fn = 'delta-files-rev-ct-mtnrs.csv'\n",
    "stat_my_fn = \"mtnr-yearly-stat.csv\"\n",
    "stat_mym_fn = 'mtnr-monthly-stat.csv'\n",
    "if not use_delta:\n",
    "    delta_files_rev_ct_fn = 'lg-files-rev-ct.csv'\n",
    "    delta_files_rev_ct_mtnrs_fn = 'lg-files-rev-ct-mtnrs.csv'\n",
    "    stat_my_fn = \"mtnr-yearly-stat-anyext.csv\"\n",
    "    stat_mym_fn = 'mtnr-monthly-stat-anyext.csv'\n",
    "\n",
    "os.chdir(repodir)\n",
    "log_cmd = \"git log --no-merges --pretty=format:'%H;%at;%ct' MAINTAINERS > {}\".format(hist_fn)\n",
    "show_cmd = \"git show {rev}:MAINTAINERS > {revdir}{rev}\"\n",
    "ls_tree_cmd = 'git ls-tree -r --name-only {rev} > {lstreedir}{rev}'\n",
    "#commands.getoutput(log_cmd)\n"
   ]
  },
  {
   "cell_type": "code",
   "execution_count": 99,
   "metadata": {
    "collapsed": false
   },
   "outputs": [
    {
     "name": "stdout",
     "output_type": "stream",
     "text": [
      "Populating the interactive namespace from numpy and matplotlib\n"
     ]
    },
    {
     "name": "stderr",
     "output_type": "stream",
     "text": [
      "/home/pkuas/chenqy/anaconda2/lib/python2.7/site-packages/IPython/core/magics/pylab.py:161: UserWarning: pylab import has clobbered these variables: ['copy', 'f']\n",
      "`%matplotlib` prevents importing * from pylab and numpy\n",
      "  \"\\n`%matplotlib` prevents importing * from pylab and numpy\"\n"
     ]
    }
   ],
   "source": [
    "%pylab inline"
   ]
  },
  {
   "cell_type": "code",
   "execution_count": 2,
   "metadata": {
    "collapsed": false
   },
   "outputs": [],
   "source": [
    "# with open(mtnrdir + hist_fn) as fin:\n",
    "#     while True:\n",
    "#         line = fin.readline()\n",
    "#         if not line:\n",
    "#             print 'Done'\n",
    "#             break\n",
    "#         rev = line.split(';')[0]\n",
    "#         cmd = show_cmd.format(repodir=repodir, rev=rev, revdir=revdir)\n",
    "#         commands.getoutput(cmd)\n"
   ]
  },
  {
   "cell_type": "code",
   "execution_count": 3,
   "metadata": {
    "collapsed": false
   },
   "outputs": [],
   "source": [
    "# with open(mtnrdir + hist_fn) as fin:\n",
    "#     while True:\n",
    "#         line = fin.readline()\n",
    "#         if not line:\n",
    "#             print 'Done'\n",
    "#             break\n",
    "#         rev = line.split(';')[0]\n",
    "#         cmd = ls_tree_cmd.format(rev=rev, lstreedir=lstreedir)\n",
    "#         commands.getstatusoutput(cmd)"
   ]
  },
  {
   "cell_type": "code",
   "execution_count": 2,
   "metadata": {
    "collapsed": true
   },
   "outputs": [],
   "source": [
    "tmp = pd.read_csv(wkdir + idmp_fn, sep=',', names=['frm', 'to'])\n",
    "idmp = pd.Series(tmp.to.values, index=tmp.frm.values)"
   ]
  },
  {
   "cell_type": "code",
   "execution_count": 3,
   "metadata": {
    "collapsed": true
   },
   "outputs": [],
   "source": [
    "diff_col_names = ['sys_name', 'type', 'obj', 'op', 'rev', 'time', 'm_name', 'm_email'] "
   ]
  },
  {
   "cell_type": "code",
   "execution_count": 4,
   "metadata": {
    "collapsed": true
   },
   "outputs": [],
   "source": [
    "def trans_to_id(name_email):\n",
    "    if name_email[0] in idmp.index:\n",
    "        return idmp.loc[name_email[0]]\n",
    "    elif name_email[1] in idmp.index:\n",
    "        return idmp.loc[name_email[1]]\n",
    "    return name_email[1] if name_email[1] != '' else name_email[0]\n",
    "\n",
    "class SubSys:\n",
    "    def __init__(self, name):\n",
    "        self.name = name\n",
    "        self.mtnrs = dict()\n",
    "        self.teams = dict()\n",
    "        self.files = []\n",
    "        self.files_excluded = []\n",
    "        self.files_regex = []\n",
    "        self.status = ''\n",
    "        # self.mtnrs = mtnrs ?\n",
    "        # self.files = files\n",
    "\n",
    "def is_team(name_email):\n",
    "    name, email = name_email\n",
    "    return re.search('(corp|company|project|team|inc|corporation|incorporation)\\.?$', name_email[0]) != None\n",
    "\n",
    "def retrieve_mntr(line):\n",
    "    line = line[2:].strip().lower()\n",
    "    if '<' in line:\n",
    "        tmp = re.split('<|>', re.sub(',', ' ', line))\n",
    "        if len(tmp) >= 3:\n",
    "            return tmp[0].strip(), tmp[1].strip()\n",
    "    tmp = re.split(',', line)\n",
    "    if len(tmp) >= 2:\n",
    "        return tmp[0].strip(), tmp[1].strip()\n",
    "    if '@' in line:\n",
    "        return '', line\n",
    "    return line, ''\n",
    "    # m = re.match('(.*?),?\\s+<(.*?)>', line)\n",
    "    # if m == None:\n",
    "    #     print 1\n",
    "    #     m = re.match('([^@ ]+?),?\\s+([^ ]*?)', line)\n",
    "    # if m == None:\n",
    "    #     print 2\n",
    "    #     m = re.match('([^@ ]+?)\\s*,\\s*([^ ]*?)', line)\n",
    "    # if m == None:\n",
    "    #     print 3\n",
    "    #     m = re.match('(\\s*)([^ ]+)', line)\n",
    "    # return ('', '') if m == None else m.groups()\n",
    "\n",
    "def retrieve_file(line):\n",
    "    return line[2:].strip()\n",
    "\n",
    "def retrieve_status(line):\n",
    "    return line[2:].strip()\n",
    "\n",
    "def retrieve_subsys_mtnr_file(fn):\n",
    "    res = dict()\n",
    "    fin = open(fn)\n",
    "    lines = fin.readlines()\n",
    "    fin.close()\n",
    "    nline, i = len(lines), 0\n",
    "    nline_1 = nline - 1\n",
    "    while i < nline and (not((len(lines[i].strip()) == 1 or (len(lines[i]) >= 2 and lines[i][1] != ':')) and i < nline_1 and len(lines[i + 1]) >= 2 and lines[i + 1][1] == ':')): # subsys not reached\n",
    "        i += 1\n",
    "    tmp = [l.strip() for l in lines]\n",
    "    lines = tmp\n",
    "    while i < nline:\n",
    "        name = lines[i]\n",
    "        #print 'SubSys:', name\n",
    "        if name == '':\n",
    "            continue\n",
    "        tmpsys = SubSys(name)\n",
    "        i += 1\n",
    "        while i < nline and lines[i] != '':\n",
    "            tl = len(lines[i])\n",
    "            if tl >= 2:\n",
    "                typeflag = lines[i][:2]\n",
    "                if typeflag in ['P:', 'M:']:\n",
    "                    name_email = retrieve_mntr(lines[i])\n",
    "                    tmp_id = trans_to_id(name_email)\n",
    "                    if is_team(name_email):\n",
    "                        tmpsys.teams[tmp_id] = name_email\n",
    "                    elif typeflag == 'P:' or (name_email[0] != ''):\n",
    "                        #print 'tmp_id', lines[i], tmp_id, name_email\n",
    "                        tmpsys.mtnrs[tmp_id] = name_email\n",
    "                elif typeflag == 'F:':\n",
    "                    tmpsys.files.append(retrieve_file(lines[i]))\n",
    "                elif typeflag == 'X:':\n",
    "                    tmpsys.files_excluded.append(retrieve_file(lines[i]))\n",
    "                elif typeflag == 'N:':\n",
    "                    tmpsys.files_regex.append(retrieve_file(lines[i]))\n",
    "                elif typeflag == 'S:':\n",
    "                    tmpsys.status = retrieve_status(lines[i])\n",
    "            i += 1\n",
    "        res[name] = tmpsys\n",
    "        while i < nline and lines[i] == '':\n",
    "            i += 1\n",
    "    return res\n",
    "\n",
    "# type: M, maintainer; F, file; S: sub system\n",
    "col_names = ['sys_name', 'type', 'obj', 'op', 'rev', 'time', 'm_name', 'm_email'] # if type is not M, m_email and m_name are ''\n",
    "def diff_rev(prev, now, prev_rev, now_rev, prev_time, now_time, op_type='+'):\n",
    "    df_dict = dict()\n",
    "    pos = 0\n",
    "    for sys_name in now:\n",
    "        if sys_name not in prev:\n",
    "            df_dict[pos] = (sys_name, 'S', sys_name, op_type, now_rev, now_time, '', '')\n",
    "            pos += 1\n",
    "            dmtnrs = now[sys_name].mtnrs.keys()\n",
    "            dfiles = now[sys_name].files\n",
    "            dfiles_excluded = now[sys_name].files_excluded\n",
    "            dfiles_regex = now[sys_name].files_regex\n",
    "            dteams = now[sys_name].teams.keys()\n",
    "            dstatus = [now[sys_name].status]\n",
    "        else:\n",
    "            dmtnrs = [k for k in now[sys_name].mtnrs if k not in prev[sys_name].mtnrs]\n",
    "            dfiles = [f for f in now[sys_name].files if f not in prev[sys_name].files]\n",
    "            dfiles_excluded = [f for f in now[sys_name].files_excluded if f not in prev[sys_name].files_excluded]\n",
    "            dfiles_regex = [f for f in now[sys_name].files_regex if f not in prev[sys_name].files_regex]\n",
    "            dteams = [t for t in now[sys_name].teams if t not in prev[sys_name].teams]\n",
    "            dstatus = list() if now[sys_name].status == prev[sys_name] else [now[sys_name]]\n",
    "        for m in dmtnrs:\n",
    "            tm = now[sys_name].mtnrs[m]\n",
    "            df_dict[pos] = (sys_name, 'M', m, op_type, now_rev, now_time, tm[0], tm[1])\n",
    "            pos += 1\n",
    "        for f in dfiles:\n",
    "            df_dict[pos] = (sys_name, 'F', f, op_type, now_rev, now_time, '', '')\n",
    "            pos += 1\n",
    "        for f in dfiles_regex:\n",
    "            df_dict[pos] = (sys_name, 'N', f, op_type, now_rev, now_time, '', '')\n",
    "            pos += 1\n",
    "        for f in dfiles_excluded:\n",
    "            df_dict[pos] = (sys_name, 'X', f, op_type, now_rev, now_time, '', '')\n",
    "            pos += 1\n",
    "        for t in dteams:\n",
    "            tt = now[sys_name].teams[t]\n",
    "            df_dict[pos] = (sys_name, 'T', t, op_type, now_rev, now_time, tt[0], tt[1])\n",
    "            pos += 1\n",
    "        for st in dstatus:\n",
    "            df_dict[pos] = (sys_name, 'ST', st, op_type, now_rev, now_time, '', '')\n",
    "            pos += 1\n",
    "            \n",
    "    if len(df_dict.keys()) > 0:\n",
    "        df = pd.DataFrame(df_dict.values(), columns=col_names)\n",
    "    else:\n",
    "        df = pd.DataFrame({}, columns=col_names)\n",
    "    if op_type == '+': # find the infos deleted\n",
    "        df = df.append(diff_rev(now, prev, prev_rev, now_rev, prev_time, now_time, op_type = '-')) # just switch now and prev. no need to switch rev and time\n",
    "    return df\n"
   ]
  },
  {
   "cell_type": "code",
   "execution_count": 6,
   "metadata": {
    "collapsed": false
   },
   "outputs": [],
   "source": [
    "os.chdir(revdir)\n",
    "rev_df = pd.read_csv(mtnrdir + hist_fn, sep=';', names=['rev', 'atm', 'ctm'])\n",
    "#rev_df.sort_values('ctm', inplace=True)\n",
    "rev_df.sort_values('ctm', inplace=True)\n",
    "rev_df.index = rev_df.rev\n",
    "revs = rev_df.rev\n",
    "prev = dict()\n",
    "prev_rev, prev_time = 0, 0\n",
    "if os.path.exists(diff_fn):\n",
    "    os.remove(diff_fn)"
   ]
  },
  {
   "cell_type": "code",
   "execution_count": 7,
   "metadata": {
    "collapsed": false
   },
   "outputs": [],
   "source": [
    "mtnr_rev = dict()\n",
    "df_dict = dict()\n",
    "revs_sorted = revs\n",
    "for i, rev in enumerate(revs[:]): # 498:502\n",
    "    #print 'processing', i, rev\n",
    "    now_time, now_rev = rev_df.ctm.loc[rev], rev\n",
    "    now = retrieve_subsys_mtnr_file(rev) # file name is rev\n",
    "    mtnr_rev[rev] = now\n",
    "    tdf = diff_rev(prev, now, prev_rev, now_rev, prev_time, now_time, op_type='+')\n",
    "    df_dict[rev] = tdf\n",
    "    prev, prev_time, prev_rev = now, now_time, now_rev\n",
    "\n",
    "df = pd.concat(df_dict.values())#, columns=col_names)\n",
    "df.sort_values(['sys_name', 'time'], inplace=True)"
   ]
  },
  {
   "cell_type": "code",
   "execution_count": 8,
   "metadata": {
    "collapsed": false
   },
   "outputs": [
    {
     "data": {
      "text/plain": [
       "(6719590, 8)"
      ]
     },
     "execution_count": 8,
     "metadata": {},
     "output_type": "execute_result"
    }
   ],
   "source": [
    "df.shape"
   ]
  },
  {
   "cell_type": "code",
   "execution_count": 480,
   "metadata": {
    "collapsed": false,
    "scrolled": false
   },
   "outputs": [],
   "source": [
    "df.to_csv(mtnrdir + diff_fn, mode='w', header=False, index=False, sep=';')\n",
    "#df.to_csv(mtnrdir + diff_fn, mode='a' if os.path.exists(diff_fn) else 'w', header=False, index=False, sep=';')\n",
    "\n",
    "\n",
    "v = '''\n",
    "数据在pae上，路径为 /store1/chenqy/linuxhistory/maintainer/diff_maintainer.csv （32M）\n",
    "该文件的一行表示：对于某个Subsyste，该subsystem自身、Maintainer或相关文件在某个时间点发生的某个提交（commit）中被更改（增、删）。\n",
    "\n",
    "各个字段为：\n",
    "- subsystem名称\n",
    "- 更改的对象类型：S，表示Subsystem; M, 表示Maintainer; F，表示File; T, 表示team, project, corp.....; X, files excluded; N, regex files\n",
    "- 更改的对象名称：当更改的对象类型为S时，该字段的值为subsystem名称；当更改的对象类型为M时，表示Maintainer（已通过简单的方法处理了一个名字对应多个邮箱、一个邮箱对应多个名字的情况）；当更改的对象类型为F时，表示增加或删除的文件\n",
    "- 更改的类型：+，表示增加；-，表示删除\n",
    "- 发生更改的commit的hash值\n",
    "- 发生更改的时间：从1970-1-1算起的秒数\n",
    "- 备注1：当更改的对象类型为M时，该字段表示Maintainer的名字，这个名字是直接从文件中提取出来的，未经过处理；不为M时，该字段为空\n",
    "- 备注2：当更改的对象类型为M时，该字段表示Maintainer的邮箱，这个邮箱是直接从文件中提取出来的，未经过处理；不为M时，该字段为空\n",
    "\n",
    "文件的行按照 subsystem名称 和 发生更改的时间 排序。\n",
    "\n",
    "注意点：\n",
    "- 一个Maintainer的名字和邮箱可能在不同的commit中发生更改\n",
    "\n",
    "'''"
   ]
  },
  {
   "cell_type": "code",
   "execution_count": 10,
   "metadata": {
    "collapsed": true
   },
   "outputs": [],
   "source": [
    "# for each element of mtnr_rev, map F: to sub sys name\n",
    "fcate_each_rev_2_subsys = dict()\n",
    "for rev in mtnr_rev.keys():\n",
    "    mr = mtnr_rev[rev]\n",
    "    tfcate2subsys = collections.defaultdict(list)\n",
    "    for sysname in mr.keys():\n",
    "        ss = mr[sysname]\n",
    "        for f in ss.files:\n",
    "            tfcate2subsys[f].append(sysname)\n",
    "    fcate_each_rev_2_subsys[rev] = tfcate2subsys"
   ]
  },
  {
   "cell_type": "code",
   "execution_count": 11,
   "metadata": {
    "collapsed": true
   },
   "outputs": [],
   "source": [
    "for rev in fcate_each_rev_2_subsys:\n",
    "    tmp = fcate_each_rev_2_subsys[rev]\n",
    "    for f in tmp:\n",
    "        tmp[f] = list(np.unique(tmp[f]))\n",
    "    fcate_each_rev_2_subsys[rev] = tmp"
   ]
  },
  {
   "cell_type": "code",
   "execution_count": 12,
   "metadata": {
    "collapsed": false
   },
   "outputs": [],
   "source": [
    "all_mtnrs_of_rev = dict()\n",
    "for rev in mtnr_rev.keys():\n",
    "    mr = mtnr_rev[rev]\n",
    "    tmp = set()\n",
    "    for sysname in mr.keys():\n",
    "        tmp |= set(mr[sysname].mtnrs)\n",
    "    all_mtnrs_of_rev[rev] = tmp"
   ]
  },
  {
   "cell_type": "code",
   "execution_count": null,
   "metadata": {
    "collapsed": true
   },
   "outputs": [],
   "source": []
  },
  {
   "cell_type": "code",
   "execution_count": null,
   "metadata": {
    "collapsed": true
   },
   "outputs": [],
   "source": []
  },
  {
   "cell_type": "markdown",
   "metadata": {},
   "source": [
    "## first read (unique) filenames generated by R"
   ]
  },
  {
   "cell_type": "markdown",
   "metadata": {},
   "source": [
    "### basic idea of map order\n",
    "- filename -> \n",
    "- file cate labeled 'F:' ->\n",
    "- subsystem ->\n",
    "- maintainer"
   ]
  },
  {
   "cell_type": "code",
   "execution_count": 13,
   "metadata": {
    "collapsed": true
   },
   "outputs": [],
   "source": [
    "mh = pd.read_csv(mtnrdir + diff_fn, names=diff_col_names, sep=';')"
   ]
  },
  {
   "cell_type": "code",
   "execution_count": 14,
   "metadata": {
    "collapsed": false
   },
   "outputs": [
    {
     "data": {
      "text/plain": [
       "1"
      ]
     },
     "execution_count": 14,
     "metadata": {},
     "output_type": "execute_result"
    }
   ],
   "source": [
    "mh.fillna({'m_name':'', 'm_email':''}, inplace=True)\n",
    "1"
   ]
  },
  {
   "cell_type": "code",
   "execution_count": 15,
   "metadata": {
    "collapsed": false
   },
   "outputs": [],
   "source": [
    "ufcate = mh['obj'][mh['type'] == 'F'].unique()"
   ]
  },
  {
   "cell_type": "code",
   "execution_count": 16,
   "metadata": {
    "collapsed": false
   },
   "outputs": [],
   "source": [
    "ufcate = Series(ufcate)"
   ]
  },
  {
   "cell_type": "code",
   "execution_count": 17,
   "metadata": {
    "collapsed": false
   },
   "outputs": [],
   "source": [
    "ufcate = ufcate[np.logical_not(np.in1d(ufcate, ['*', '*/']))]"
   ]
  },
  {
   "cell_type": "code",
   "execution_count": 18,
   "metadata": {
    "collapsed": true
   },
   "outputs": [],
   "source": [
    "# def convert_wildcard_fn(fn):\n",
    "#     if fn[-1] == '/':\n",
    "#         return fn + '.*'\n",
    "#     elif fn[-1] == '*':\n",
    "#         return fn[:-1] + '[!/][!/]*'\n",
    "#     return fn"
   ]
  },
  {
   "cell_type": "code",
   "execution_count": 19,
   "metadata": {
    "collapsed": false
   },
   "outputs": [],
   "source": [
    "# a = map(convert_wildcard_fn, ufcate)"
   ]
  },
  {
   "cell_type": "code",
   "execution_count": 20,
   "metadata": {
    "collapsed": false
   },
   "outputs": [],
   "source": [
    "# # translation between two different regex\n",
    "# a = ufcate.str.replace('\\.', '\\.')\n",
    "# a = a.str.replace('\\?', '.')\n",
    "# # seems translation needs more work\n",
    "# ufcate = a"
   ]
  },
  {
   "cell_type": "code",
   "execution_count": 206,
   "metadata": {
    "collapsed": true
   },
   "outputs": [],
   "source": [
    "def calc_sys2mod(sysname=None, flist=[]):\n",
    "    mods = Series(map(lambda x : re.sub('/.*', '', x), flist))\n",
    "    #print mods\n",
    "    mods_cnt = mods.value_counts().sort_values(ascending = False)\n",
    "    #print mods_cnt\n",
    "    for m in mods_cnt.index:\n",
    "        if m not in ['Documentation', 'include']:\n",
    "            return m\n",
    "    if sysname == None:\n",
    "        return mods_cnt.index[0] if len(mods_cnt) > 0 else ''\n",
    "    tmp = sysname.split()\n",
    "    x = {'driver':'drivers', 'arch':'arch'}\n",
    "    for m in x:\n",
    "        if m in tmp:\n",
    "            return x[m]\n",
    "    if len(mods_cnt) > 0:\n",
    "        return mods_cnt.index[0]\n",
    "    return ''\n"
   ]
  },
  {
   "cell_type": "code",
   "execution_count": 22,
   "metadata": {
    "collapsed": false
   },
   "outputs": [
    {
     "data": {
      "text/plain": [
       "['sys_name', 'type', 'obj', 'op', 'rev', 'time', 'm_name', 'm_email']"
      ]
     },
     "execution_count": 22,
     "metadata": {},
     "output_type": "execute_result"
    }
   ],
   "source": [
    "diff_col_names"
   ]
  },
  {
   "cell_type": "code",
   "execution_count": 19,
   "metadata": {
    "collapsed": true
   },
   "outputs": [],
   "source": [
    "sys2mod = collections.defaultdict(str)"
   ]
  },
  {
   "cell_type": "code",
   "execution_count": 20,
   "metadata": {
    "collapsed": false
   },
   "outputs": [],
   "source": [
    "for sysname in set(mh.sys_name):\n",
    "    flist = list(set(mh['obj'][np.logical_and(mh['type'] == 'F', mh['sys_name'] == sysname)]))\n",
    "    sys2mod[sysname] = calc_sys2mod(sysname, flist)"
   ]
  },
  {
   "cell_type": "code",
   "execution_count": 25,
   "metadata": {
    "collapsed": false
   },
   "outputs": [
    {
     "data": {
      "text/plain": [
       "drivers          1191\n",
       "                  226\n",
       "arch              209\n",
       "fs                 61\n",
       "net                57\n",
       "sound              36\n",
       "kernel             31\n",
       "mm                 15\n",
       "security           12\n",
       "scripts             9\n",
       "tools               9\n",
       "Documentation       6\n",
       "include             5\n",
       "block               3\n",
       "lib                 3\n",
       "crypto              2\n",
       "Makefile            2\n",
       "*                   1\n",
       "driver              1\n",
       "certs               1\n",
       "virt                1\n",
       "dtype: int64"
      ]
     },
     "execution_count": 25,
     "metadata": {},
     "output_type": "execute_result"
    }
   ],
   "source": [
    "Series(sys2mod.values()).value_counts()"
   ]
  },
  {
   "cell_type": "code",
   "execution_count": null,
   "metadata": {
    "collapsed": true
   },
   "outputs": [],
   "source": []
  },
  {
   "cell_type": "code",
   "execution_count": 21,
   "metadata": {
    "collapsed": true
   },
   "outputs": [],
   "source": [
    "def my_fnmatch(fn, pattern):\n",
    "    lenp = len(pattern)\n",
    "    if lenp >= 1 and pattern[-1] == '/':\n",
    "        return fnmatch.fnmatch(fn, pattern + '*')\n",
    "    return fn.count('/') == pattern.count('/') and fnmatch.fnmatch(fn, pattern)    "
   ]
  },
  {
   "cell_type": "code",
   "execution_count": 22,
   "metadata": {
    "collapsed": false
   },
   "outputs": [
    {
     "data": {
      "text/plain": [
       "'p'"
      ]
     },
     "execution_count": 22,
     "metadata": {},
     "output_type": "execute_result"
    }
   ],
   "source": [
    "re.sub(\"/.*\", \"\", 'p/asdasd/x.c')"
   ]
  },
  {
   "cell_type": "code",
   "execution_count": 23,
   "metadata": {
    "collapsed": true
   },
   "outputs": [],
   "source": [
    "# get unique files from delta\n",
    "# ufs = pd.read_csv(mtnrdir + delta_files_fn, names=['fn'], sep=',')\n",
    "# ufs = ufs.fn"
   ]
  },
  {
   "cell_type": "code",
   "execution_count": 24,
   "metadata": {
    "collapsed": true
   },
   "outputs": [],
   "source": [
    "# get unifue files from ls-tree of all revs \n",
    "tree_of_rev = collections.defaultdict(list)\n",
    "for r in mtnr_rev.keys():\n",
    "    with open(lstreedir + r) as fin:\n",
    "        tree_of_rev[r] = map(lambda x : x.strip(), fin.readlines())"
   ]
  },
  {
   "cell_type": "code",
   "execution_count": 25,
   "metadata": {
    "collapsed": false
   },
   "outputs": [],
   "source": [
    "ufs = reduce(lambda x, y : set(x) | set(y), tree_of_rev.values(), [])"
   ]
  },
  {
   "cell_type": "code",
   "execution_count": 26,
   "metadata": {
    "collapsed": true
   },
   "outputs": [],
   "source": [
    "ufs = Series(list(ufs))"
   ]
  },
  {
   "cell_type": "code",
   "execution_count": 472,
   "metadata": {
    "collapsed": false
   },
   "outputs": [
    {
     "data": {
      "text/plain": [
       "array([ True], dtype=bool)"
      ]
     },
     "execution_count": 472,
     "metadata": {},
     "output_type": "execute_result"
    }
   ],
   "source": [
    "np.in1d('drivers/infiniband/hw/usnic/usnic_debugfs.c', ufs)"
   ]
  },
  {
   "cell_type": "code",
   "execution_count": 32,
   "metadata": {
    "collapsed": false
   },
   "outputs": [
    {
     "data": {
      "text/plain": [
       "0                              drivers/mfd/rt5033.c\n",
       "1    drivers/net/ethernet/qlogic/qlcnic/qlcnic_hw.h\n",
       "2              arch/mips/mti-sead3/sead3-platform.c\n",
       "3                      include/asm-sparc64/hw_irq.h\n",
       "4    drivers/net/ethernet/qlogic/qlcnic/qlcnic_hw.c\n",
       "dtype: object"
      ]
     },
     "execution_count": 32,
     "metadata": {},
     "output_type": "execute_result"
    }
   ],
   "source": [
    "ufs.head()"
   ]
  },
  {
   "cell_type": "code",
   "execution_count": 473,
   "metadata": {
    "collapsed": false
   },
   "outputs": [
    {
     "data": {
      "text/plain": [
       "False"
      ]
     },
     "execution_count": 473,
     "metadata": {},
     "output_type": "execute_result"
    }
   ],
   "source": [
    "my_fnmatch('drivers/infiniband/hw/usnic/usnic_debugfs.c', 'drivers/infiniband/hw/usnic')"
   ]
  },
  {
   "cell_type": "code",
   "execution_count": 33,
   "metadata": {
    "collapsed": false
   },
   "outputs": [],
   "source": [
    "fcate_of_fn = collections.defaultdict(set)"
   ]
  },
  {
   "cell_type": "code",
   "execution_count": 34,
   "metadata": {
    "collapsed": false
   },
   "outputs": [],
   "source": [
    "for cate in ufcate:\n",
    "    m = map(lambda x:my_fnmatch(x, cate), ufs)\n",
    "    muf = ufs[m]\n",
    "    for f in muf:\n",
    "        fcate_of_fn[f].add(cate)"
   ]
  },
  {
   "cell_type": "code",
   "execution_count": 451,
   "metadata": {
    "collapsed": false
   },
   "outputs": [],
   "source": [
    "with open(mtnrdir + 'fcate_of_fn.pkl', 'w') as fout:\n",
    "    pickle.dump(fcate_of_fn, fout)"
   ]
  },
  {
   "cell_type": "code",
   "execution_count": 27,
   "metadata": {
    "collapsed": true
   },
   "outputs": [],
   "source": [
    "with open(mtnrdir + 'fcate_of_fn.pkl', 'r') as fin:\n",
    "    fcate_of_fn = pickle.load(fin)"
   ]
  },
  {
   "cell_type": "code",
   "execution_count": 28,
   "metadata": {
    "collapsed": false
   },
   "outputs": [
    {
     "data": {
      "text/plain": [
       "['drivers/mfd/rt5033.c',\n",
       " 'drivers/net/ethernet/qlogic/qlcnic/qlcnic_hw.h',\n",
       " 'arch/cris/kernel/process.c',\n",
       " 'drivers/atm/idt77252.c',\n",
       " 'drivers/net/ethernet/qlogic/qlcnic/qlcnic_hw.c']"
      ]
     },
     "execution_count": 28,
     "metadata": {},
     "output_type": "execute_result"
    }
   ],
   "source": [
    "fcate_of_fn.keys()[:5]"
   ]
  },
  {
   "cell_type": "code",
   "execution_count": 36,
   "metadata": {
    "collapsed": false
   },
   "outputs": [
    {
     "data": {
      "text/plain": [
       "{'fs/*'}"
      ]
     },
     "execution_count": 36,
     "metadata": {},
     "output_type": "execute_result"
    }
   ],
   "source": [
    "fcate_of_fn['fs/inode.c']"
   ]
  },
  {
   "cell_type": "code",
   "execution_count": 37,
   "metadata": {
    "collapsed": false
   },
   "outputs": [
    {
     "data": {
      "text/plain": [
       "(89203, 76452)"
      ]
     },
     "execution_count": 37,
     "metadata": {},
     "output_type": "execute_result"
    }
   ],
   "source": [
    "len(ufs), len(fcate_of_fn.keys())"
   ]
  },
  {
   "cell_type": "code",
   "execution_count": 98,
   "metadata": {
    "collapsed": true
   },
   "outputs": [],
   "source": [
    "ks = fcate_of_fn.keys()\n",
    "c = Series(map(lambda k:len(fcate_of_fn[k]), ks), index=ks)"
   ]
  },
  {
   "cell_type": "code",
   "execution_count": 99,
   "metadata": {
    "collapsed": false
   },
   "outputs": [
    {
     "data": {
      "text/plain": [
       "count    89203.000000\n",
       "mean         1.387274\n",
       "std          0.908539\n",
       "min          0.000000\n",
       "25%          1.000000\n",
       "50%          1.000000\n",
       "75%          2.000000\n",
       "max          6.000000\n",
       "dtype: float64"
      ]
     },
     "execution_count": 99,
     "metadata": {},
     "output_type": "execute_result"
    }
   ],
   "source": [
    "c.describe()"
   ]
  },
  {
   "cell_type": "code",
   "execution_count": 40,
   "metadata": {
    "collapsed": false
   },
   "outputs": [
    {
     "data": {
      "text/plain": [
       "arch/arm/kernel/perf_event.c    6\n",
       "dtype: int64"
      ]
     },
     "execution_count": 40,
     "metadata": {},
     "output_type": "execute_result"
    }
   ],
   "source": [
    "c[c>5]"
   ]
  },
  {
   "cell_type": "code",
   "execution_count": 41,
   "metadata": {
    "collapsed": false
   },
   "outputs": [
    {
     "data": {
      "text/plain": [
       "{'arch/*/kernel/perf_event*.c',\n",
       " 'arch/*/kernel/perf_event.c',\n",
       " 'arch/arm*/kernel/perf_*',\n",
       " 'arch/arm/',\n",
       " 'arch/arm/kernel/perf_*',\n",
       " 'arch/arm/kernel/perf_event*'}"
      ]
     },
     "execution_count": 41,
     "metadata": {},
     "output_type": "execute_result"
    }
   ],
   "source": [
    "fcate_of_fn['arch/arm/kernel/perf_event.c']"
   ]
  },
  {
   "cell_type": "code",
   "execution_count": 42,
   "metadata": {
    "collapsed": true
   },
   "outputs": [],
   "source": [
    "x = ufs[np.logical_not(np.in1d(ufs, fcate_of_fn.keys()))]"
   ]
  },
  {
   "cell_type": "code",
   "execution_count": 43,
   "metadata": {
    "collapsed": false
   },
   "outputs": [
    {
     "data": {
      "text/plain": [
       "12751"
      ]
     },
     "execution_count": 43,
     "metadata": {},
     "output_type": "execute_result"
    }
   ],
   "source": [
    "len(x)"
   ]
  },
  {
   "cell_type": "code",
   "execution_count": null,
   "metadata": {
    "collapsed": true
   },
   "outputs": [],
   "source": []
  },
  {
   "cell_type": "code",
   "execution_count": 560,
   "metadata": {
    "collapsed": true
   },
   "outputs": [],
   "source": [
    "xtmp = delta_file_rev_ct.copy()"
   ]
  },
  {
   "cell_type": "code",
   "execution_count": 29,
   "metadata": {
    "collapsed": false
   },
   "outputs": [
    {
     "name": "stderr",
     "output_type": "stream",
     "text": [
      "/home/pkuas/chenqy/anaconda2/lib/python2.7/site-packages/IPython/core/interactiveshell.py:2717: DtypeWarning: Columns (5) have mixed types. Specify dtype option on import or set low_memory=False.\n",
      "  interactivity=interactivity, compiler=compiler, result=result)\n"
     ]
    }
   ],
   "source": [
    "delta_file_rev_ct = pd.read_csv(mtnrdir + delta_files_rev_ct_fn, names=['fn', 'rev', 'cid','ctm', 'aid', 'atm'], sep=',')"
   ]
  },
  {
   "cell_type": "code",
   "execution_count": 30,
   "metadata": {
    "collapsed": false
   },
   "outputs": [
    {
     "data": {
      "text/plain": [
       "(1305334, 6)"
      ]
     },
     "execution_count": 30,
     "metadata": {},
     "output_type": "execute_result"
    }
   ],
   "source": [
    "delta_file_rev_ct.shape"
   ]
  },
  {
   "cell_type": "code",
   "execution_count": 31,
   "metadata": {
    "collapsed": false
   },
   "outputs": [
    {
     "data": {
      "text/plain": [
       "1"
      ]
     },
     "execution_count": 31,
     "metadata": {},
     "output_type": "execute_result"
    }
   ],
   "source": [
    "delta_file_rev_ct.sort_values(['ctm', 'rev'], inplace=True)\n",
    "1"
   ]
  },
  {
   "cell_type": "code",
   "execution_count": 47,
   "metadata": {
    "collapsed": true
   },
   "outputs": [],
   "source": [
    "# for c in xtmp.columns:\n",
    "#     if c not in delta_file_rev_ct.columns:\n",
    "#         delta_file_rev_ct[c] = xtmp[c]"
   ]
  },
  {
   "cell_type": "code",
   "execution_count": 32,
   "metadata": {
    "collapsed": true
   },
   "outputs": [],
   "source": [
    "delta_file_rev_ct['mtnrs'] = ''"
   ]
  },
  {
   "cell_type": "code",
   "execution_count": 49,
   "metadata": {
    "collapsed": false
   },
   "outputs": [
    {
     "data": {
      "text/html": [
       "<div>\n",
       "<table border=\"1\" class=\"dataframe\">\n",
       "  <thead>\n",
       "    <tr style=\"text-align: right;\">\n",
       "      <th></th>\n",
       "      <th>fn</th>\n",
       "      <th>rev</th>\n",
       "      <th>cid</th>\n",
       "      <th>ctm</th>\n",
       "      <th>aid</th>\n",
       "      <th>atm</th>\n",
       "      <th>mtnrs</th>\n",
       "    </tr>\n",
       "  </thead>\n",
       "  <tbody>\n",
       "    <tr>\n",
       "      <th>1288044</th>\n",
       "      <td>fs/cifs/asn1.c</td>\n",
       "      <td>1da177e4c3f41524e886b7f1b8a0c1fc7321cac2</td>\n",
       "      <td>linus torvalds</td>\n",
       "      <td>1113690036</td>\n",
       "      <td>linus torvalds</td>\n",
       "      <td>1113690036</td>\n",
       "      <td></td>\n",
       "    </tr>\n",
       "    <tr>\n",
       "      <th>1288045</th>\n",
       "      <td>include/asm-m32r/resource.h</td>\n",
       "      <td>1da177e4c3f41524e886b7f1b8a0c1fc7321cac2</td>\n",
       "      <td>linus torvalds</td>\n",
       "      <td>1113690036</td>\n",
       "      <td>linus torvalds</td>\n",
       "      <td>1113690036</td>\n",
       "      <td></td>\n",
       "    </tr>\n",
       "    <tr>\n",
       "      <th>1288046</th>\n",
       "      <td>arch/ppc/platforms/pal4_pci.c</td>\n",
       "      <td>1da177e4c3f41524e886b7f1b8a0c1fc7321cac2</td>\n",
       "      <td>linus torvalds</td>\n",
       "      <td>1113690036</td>\n",
       "      <td>linus torvalds</td>\n",
       "      <td>1113690036</td>\n",
       "      <td></td>\n",
       "    </tr>\n",
       "    <tr>\n",
       "      <th>1288047</th>\n",
       "      <td>include/net/sctp/command.h</td>\n",
       "      <td>1da177e4c3f41524e886b7f1b8a0c1fc7321cac2</td>\n",
       "      <td>linus torvalds</td>\n",
       "      <td>1113690036</td>\n",
       "      <td>linus torvalds</td>\n",
       "      <td>1113690036</td>\n",
       "      <td></td>\n",
       "    </tr>\n",
       "    <tr>\n",
       "      <th>1288048</th>\n",
       "      <td>drivers/isdn/hisax/ipac.h</td>\n",
       "      <td>1da177e4c3f41524e886b7f1b8a0c1fc7321cac2</td>\n",
       "      <td>linus torvalds</td>\n",
       "      <td>1113690036</td>\n",
       "      <td>linus torvalds</td>\n",
       "      <td>1113690036</td>\n",
       "      <td></td>\n",
       "    </tr>\n",
       "  </tbody>\n",
       "</table>\n",
       "</div>"
      ],
      "text/plain": [
       "                                    fn  \\\n",
       "1288044                 fs/cifs/asn1.c   \n",
       "1288045    include/asm-m32r/resource.h   \n",
       "1288046  arch/ppc/platforms/pal4_pci.c   \n",
       "1288047     include/net/sctp/command.h   \n",
       "1288048      drivers/isdn/hisax/ipac.h   \n",
       "\n",
       "                                              rev             cid         ctm  \\\n",
       "1288044  1da177e4c3f41524e886b7f1b8a0c1fc7321cac2  linus torvalds  1113690036   \n",
       "1288045  1da177e4c3f41524e886b7f1b8a0c1fc7321cac2  linus torvalds  1113690036   \n",
       "1288046  1da177e4c3f41524e886b7f1b8a0c1fc7321cac2  linus torvalds  1113690036   \n",
       "1288047  1da177e4c3f41524e886b7f1b8a0c1fc7321cac2  linus torvalds  1113690036   \n",
       "1288048  1da177e4c3f41524e886b7f1b8a0c1fc7321cac2  linus torvalds  1113690036   \n",
       "\n",
       "                    aid         atm mtnrs  \n",
       "1288044  linus torvalds  1113690036        \n",
       "1288045  linus torvalds  1113690036        \n",
       "1288046  linus torvalds  1113690036        \n",
       "1288047  linus torvalds  1113690036        \n",
       "1288048  linus torvalds  1113690036        "
      ]
     },
     "execution_count": 49,
     "metadata": {},
     "output_type": "execute_result"
    }
   ],
   "source": [
    "delta_file_rev_ct.head()"
   ]
  },
  {
   "cell_type": "markdown",
   "metadata": {},
   "source": [
    "#### steps:\n",
    "- use ctm to locate an mtnr_rev: the newest mtnr_rev that is older than ctm \n",
    "- fn -> fcate -> subsys -> maintainer list"
   ]
  },
  {
   "cell_type": "code",
   "execution_count": 33,
   "metadata": {
    "collapsed": true
   },
   "outputs": [],
   "source": [
    "def get_maintainer_list_and_subsys_list(fn, fcate_of_fn, fcate_2_subsys, mntr_of_rev):\n",
    "    if fn not in fcate_of_fn:\n",
    "        return idmp['linus torvalds'], Series()\n",
    "    fcates = fcate_of_fn[fn]\n",
    "    ret = []\n",
    "    subsys_list = []\n",
    "    for fc in fcates:\n",
    "        if fc in fcate_2_subsys:\n",
    "            subsys = fcate_2_subsys[fc]\n",
    "            subsys_list.extend(subsys)\n",
    "            for ss in subsys:\n",
    "                ret.extend(mntr_of_rev[ss].mtnrs)\n",
    "\n",
    "    return (idmp['linus torvalds'] if len(ret) == 0 else '#'.join(np.unique(ret))), Series(subsys_list)"
   ]
  },
  {
   "cell_type": "code",
   "execution_count": null,
   "metadata": {
    "collapsed": true
   },
   "outputs": [],
   "source": []
  },
  {
   "cell_type": "code",
   "execution_count": 34,
   "metadata": {
    "collapsed": true
   },
   "outputs": [],
   "source": [
    "tmtnrs_list = [''] *  len(delta_file_rev_ct.index)"
   ]
  },
  {
   "cell_type": "code",
   "execution_count": 35,
   "metadata": {
    "collapsed": true
   },
   "outputs": [],
   "source": [
    "trevs_list = [''] * len(delta_file_rev_ct.index)"
   ]
  },
  {
   "cell_type": "code",
   "execution_count": 36,
   "metadata": {
    "collapsed": true
   },
   "outputs": [],
   "source": [
    "status_list = [''] * len(delta_file_rev_ct.index)"
   ]
  },
  {
   "cell_type": "code",
   "execution_count": 37,
   "metadata": {
    "collapsed": true
   },
   "outputs": [],
   "source": [
    "subsys_list = [''] * len(delta_file_rev_ct.index)"
   ]
  },
  {
   "cell_type": "code",
   "execution_count": 38,
   "metadata": {
    "collapsed": false
   },
   "outputs": [],
   "source": [
    "stidx = delta_file_rev_ct.shape[0] - 3"
   ]
  },
  {
   "cell_type": "code",
   "execution_count": null,
   "metadata": {
    "collapsed": true
   },
   "outputs": [],
   "source": []
  },
  {
   "cell_type": "code",
   "execution_count": 39,
   "metadata": {
    "collapsed": false
   },
   "outputs": [],
   "source": [
    "idx = 0"
   ]
  },
  {
   "cell_type": "code",
   "execution_count": 40,
   "metadata": {
    "collapsed": true
   },
   "outputs": [],
   "source": [
    "itr = delta_file_rev_ct.iloc[idx:].iterrows()"
   ]
  },
  {
   "cell_type": "code",
   "execution_count": 41,
   "metadata": {
    "collapsed": true
   },
   "outputs": [],
   "source": [
    "itr_rev_df = rev_df.iterrows()"
   ]
  },
  {
   "cell_type": "code",
   "execution_count": 42,
   "metadata": {
    "collapsed": true
   },
   "outputs": [],
   "source": [
    "one_rev_of_mtnr = next(itr_rev_df)[1]\n",
    "one_rev_of_mtnr1 = next(itr_rev_df)[1]\n",
    "tmtnr = one_rev_of_mtnr.ctm\n",
    "tmtnr1 = one_rev_of_mtnr1.ctm"
   ]
  },
  {
   "cell_type": "code",
   "execution_count": 43,
   "metadata": {
    "collapsed": true
   },
   "outputs": [],
   "source": [
    "tdelta = delta_file_rev_ct.ctm.iloc[idx]"
   ]
  },
  {
   "cell_type": "code",
   "execution_count": 44,
   "metadata": {
    "collapsed": true
   },
   "outputs": [],
   "source": [
    "while tdelta  < tmtnr:\n",
    "    one_rev_of_mtnr = one_rev_of_mtnr1\n",
    "    one_rev_of_mtnr1 = next(itr_rev_df)[1]\n",
    "    tmtnr = one_rev_of_mtnr.ctm\n",
    "    tmtnr1 = one_rev_of_mtnr1.ctm"
   ]
  },
  {
   "cell_type": "code",
   "execution_count": 155,
   "metadata": {
    "collapsed": false
   },
   "outputs": [
    {
     "data": {
      "text/html": [
       "<div>\n",
       "<table border=\"1\" class=\"dataframe\">\n",
       "  <thead>\n",
       "    <tr style=\"text-align: right;\">\n",
       "      <th></th>\n",
       "      <th>rev</th>\n",
       "      <th>atm</th>\n",
       "      <th>ctm</th>\n",
       "    </tr>\n",
       "    <tr>\n",
       "      <th>rev</th>\n",
       "      <th></th>\n",
       "      <th></th>\n",
       "      <th></th>\n",
       "    </tr>\n",
       "  </thead>\n",
       "  <tbody>\n",
       "    <tr>\n",
       "      <th>a040d532b912b5dd7d88692b580cff9c88b987e3</th>\n",
       "      <td>a040d532b912b5dd7d88692b580cff9c88b987e3</td>\n",
       "      <td>1266914078</td>\n",
       "      <td>1267221550</td>\n",
       "    </tr>\n",
       "    <tr>\n",
       "      <th>ddf0289db22c4ae2192a252706792837528605c6</th>\n",
       "      <td>ddf0289db22c4ae2192a252706792837528605c6</td>\n",
       "      <td>1261344247</td>\n",
       "      <td>1267457742</td>\n",
       "    </tr>\n",
       "    <tr>\n",
       "      <th>661cb9fbf2ce580000a792bf1d394fc341c9ba69</th>\n",
       "      <td>661cb9fbf2ce580000a792bf1d394fc341c9ba69</td>\n",
       "      <td>1267470228</td>\n",
       "      <td>1267470276</td>\n",
       "    </tr>\n",
       "    <tr>\n",
       "      <th>e8e6cb325671daa17c776ad53b70fd6213260368</th>\n",
       "      <td>e8e6cb325671daa17c776ad53b70fd6213260368</td>\n",
       "      <td>1262676506</td>\n",
       "      <td>1267486855</td>\n",
       "    </tr>\n",
       "    <tr>\n",
       "      <th>4c32531324b83672f100692354b680625bcd7fba</th>\n",
       "      <td>4c32531324b83672f100692354b680625bcd7fba</td>\n",
       "      <td>1267692150</td>\n",
       "      <td>1267692834</td>\n",
       "    </tr>\n",
       "  </tbody>\n",
       "</table>\n",
       "</div>"
      ],
      "text/plain": [
       "                                                                               rev  \\\n",
       "rev                                                                                  \n",
       "a040d532b912b5dd7d88692b580cff9c88b987e3  a040d532b912b5dd7d88692b580cff9c88b987e3   \n",
       "ddf0289db22c4ae2192a252706792837528605c6  ddf0289db22c4ae2192a252706792837528605c6   \n",
       "661cb9fbf2ce580000a792bf1d394fc341c9ba69  661cb9fbf2ce580000a792bf1d394fc341c9ba69   \n",
       "e8e6cb325671daa17c776ad53b70fd6213260368  e8e6cb325671daa17c776ad53b70fd6213260368   \n",
       "4c32531324b83672f100692354b680625bcd7fba  4c32531324b83672f100692354b680625bcd7fba   \n",
       "\n",
       "                                                 atm         ctm  \n",
       "rev                                                               \n",
       "a040d532b912b5dd7d88692b580cff9c88b987e3  1266914078  1267221550  \n",
       "ddf0289db22c4ae2192a252706792837528605c6  1261344247  1267457742  \n",
       "661cb9fbf2ce580000a792bf1d394fc341c9ba69  1267470228  1267470276  \n",
       "e8e6cb325671daa17c776ad53b70fd6213260368  1262676506  1267486855  \n",
       "4c32531324b83672f100692354b680625bcd7fba  1267692150  1267692834  "
      ]
     },
     "execution_count": 155,
     "metadata": {},
     "output_type": "execute_result"
    }
   ],
   "source": [
    "rev_df[rev_df.ctm >= 1267221550].head()"
   ]
  },
  {
   "cell_type": "code",
   "execution_count": 157,
   "metadata": {
    "collapsed": false
   },
   "outputs": [
    {
     "data": {
      "text/plain": [
       "(time.struct_time(tm_year=2009, tm_mon=12, tm_mday=20, tm_hour=21, tm_min=24, tm_sec=7, tm_wday=6, tm_yday=354, tm_isdst=0),\n",
       " time.struct_time(tm_year=2010, tm_mon=3, tm_mday=1, tm_hour=15, tm_min=35, tm_sec=42, tm_wday=0, tm_yday=60, tm_isdst=0))"
      ]
     },
     "execution_count": 157,
     "metadata": {},
     "output_type": "execute_result"
    }
   ],
   "source": [
    "time.gmtime(1261344247), time.gmtime(1267457742)"
   ]
  },
  {
   "cell_type": "code",
   "execution_count": 45,
   "metadata": {
    "collapsed": false
   },
   "outputs": [
    {
     "data": {
      "text/plain": [
       "(1113690036, 1113690036, 1113690356)"
      ]
     },
     "execution_count": 45,
     "metadata": {},
     "output_type": "execute_result"
    }
   ],
   "source": [
    "tdelta, tmtnr, tmtnr1"
   ]
  },
  {
   "cell_type": "code",
   "execution_count": 46,
   "metadata": {
    "collapsed": false
   },
   "outputs": [
    {
     "name": "stdout",
     "output_type": "stream",
     "text": [
      "10000 20000 30000 40000 50000 60000 70000 80000 90000 100000 110000 120000 130000 140000 150000 160000 170000 180000 190000 200000 210000 220000 230000 240000 250000 260000 270000 280000 290000 300000 310000 320000 330000 340000 350000 360000 370000 380000 390000 400000 410000 420000 430000 440000 450000 460000 470000 480000 490000 500000 510000 520000 530000 540000 550000 560000 570000 580000 590000 600000 610000 620000 630000 640000 650000 660000 670000 680000 690000 700000 710000 720000 730000 740000 750000 760000 770000 780000 790000 800000 810000 820000 830000 840000 850000 860000 870000 880000 890000 900000 910000 920000 930000 940000 950000 960000 970000 980000 990000 1000000 1010000 1020000 1030000 1040000 1050000 1060000 1070000 1080000 1090000 1100000 1110000 1120000 1130000 1140000 1150000 1160000 1170000 1180000 1190000 1200000 1210000 1220000 1230000 1240000 1250000 1260000 1270000 1280000 1290000 1300000\n"
     ]
    }
   ],
   "source": [
    "while True:\n",
    "    try:\n",
    "        stop_flag = 1\n",
    "        #print '1'\n",
    "        onedelta = next(itr)[1]\n",
    "        #print onedelta\n",
    "        stop_flag = 2\n",
    "        #print '2'\n",
    "        while onedelta.ctm >= tmtnr1:\n",
    "            one_rev_of_mtnr = one_rev_of_mtnr1\n",
    "            one_rev_of_mtnr1 = next(itr_rev_df)[1]\n",
    "            tmtnr1 = one_rev_of_mtnr1.ctm\n",
    "        #print '3'\n",
    "        tmtnr = one_rev_of_mtnr.ctm\n",
    "        #print one_rev_of_mtnr.rev\n",
    "        #def get_maintainer_list_and_subsys_list(fn, fcate_of_fn, fcate_2_subsys, mntr_of_rev):\n",
    "        tmtnrs_list[idx], subsys_list[idx] = get_maintainer_list_and_subsys_list(onedelta.fn, fcate_of_fn, fcate_each_rev_2_subsys[one_rev_of_mtnr.rev], mtnr_rev[one_rev_of_mtnr.rev])\n",
    "        trevs_list[idx] = one_rev_of_mtnr.rev\n",
    "        #status_list[idx] = 'Unknown' if len(subsys_list[idx]) == 0 else mtnr_rev[one_rev_of_mtnr.rev][subsys_list[idx].value_counts().sort_values(ascending=False).index[0]].status\n",
    "        status_list[idx] = 'Unknown' if len(subsys_list[idx]) == 0 else '#'.join([mtnr_rev[one_rev_of_mtnr.rev][sysname].status for sysname in subsys_list[idx]])\n",
    "        idx += 1\n",
    "        if idx % 10000 == 0:\n",
    "            print idx, \n",
    "    except StopIteration:\n",
    "        if stop_flag == 2:\n",
    "            tmtnr = one_rev_of_mtnr.ctm\n",
    "            #def get_maintainer_list_and_subsys_list(fn, fcate_of_fn, fcate_2_subsys, mntr_of_rev):\n",
    "            while True:\n",
    "                try:\n",
    "                    tmtnrs_list[idx], subsys_list[idx] = get_maintainer_list_and_subsys_list(onedelta.fn, fcate_of_fn, fcate_each_rev_2_subsys[one_rev_of_mtnr.rev], mtnr_rev[one_rev_of_mtnr.rev])\n",
    "                    trevs_list[idx] = one_rev_of_mtnr.rev\n",
    "                    status_list[idx] = 'Unknown' if len(subsys_list[idx]) == 0 else '#'.join([mtnr_rev[one_rev_of_mtnr.rev][sysname].status for sysname in subsys_list[idx]])\n",
    "                    idx += 1\n",
    "                    onedelta = next(itr)[1]\n",
    "                    #print onedelta\n",
    "                except StopIteration:\n",
    "                    break\n",
    "        break"
   ]
  },
  {
   "cell_type": "code",
   "execution_count": 47,
   "metadata": {
    "collapsed": true
   },
   "outputs": [],
   "source": [
    "subsys_list_of_idx = dict()\n",
    "for i in range(len(subsys_list)):\n",
    "    subsys_list_of_idx[delta_file_rev_ct.index[i]] = subsys_list[i]"
   ]
  },
  {
   "cell_type": "code",
   "execution_count": 65,
   "metadata": {
    "collapsed": false
   },
   "outputs": [
    {
     "data": {
      "text/plain": [
       "0    1\n",
       "1    2\n",
       "0    3\n",
       "dtype: int64"
      ]
     },
     "execution_count": 65,
     "metadata": {},
     "output_type": "execute_result"
    }
   ],
   "source": [
    "reduce(lambda x, y: x.append(y), [Series([1, 2]), Series([3])])"
   ]
  },
  {
   "cell_type": "code",
   "execution_count": 66,
   "metadata": {
    "collapsed": false
   },
   "outputs": [
    {
     "data": {
      "text/plain": [
       "['seth jennings',\n",
       " 'dmitry torokhov',\n",
       " 'w.sang@pengutronix.de',\n",
       " 'a.zummo@towertech.it#alexandre belloni',\n",
       " 'a.zummo@towertech.it#alexandre belloni#support.opensource@diasemi.com']"
      ]
     },
     "execution_count": 66,
     "metadata": {},
     "output_type": "execute_result"
    }
   ],
   "source": [
    "tmtnrs_list[-5:]"
   ]
  },
  {
   "cell_type": "code",
   "execution_count": 67,
   "metadata": {
    "collapsed": false
   },
   "outputs": [
    {
     "data": {
      "text/plain": [
       "['13cbd906e89a1af42c586dcc4f42b311d23b7fd1',\n",
       " '13cbd906e89a1af42c586dcc4f42b311d23b7fd1',\n",
       " '13cbd906e89a1af42c586dcc4f42b311d23b7fd1',\n",
       " '13cbd906e89a1af42c586dcc4f42b311d23b7fd1',\n",
       " '13cbd906e89a1af42c586dcc4f42b311d23b7fd1']"
      ]
     },
     "execution_count": 67,
     "metadata": {},
     "output_type": "execute_result"
    }
   ],
   "source": [
    "trevs_list[-5:]"
   ]
  },
  {
   "cell_type": "code",
   "execution_count": 48,
   "metadata": {
    "collapsed": false
   },
   "outputs": [],
   "source": [
    "tmtnrs_list_back = copy.copy(tmtnrs_list)"
   ]
  },
  {
   "cell_type": "code",
   "execution_count": 49,
   "metadata": {
    "collapsed": true
   },
   "outputs": [],
   "source": [
    "tmtnrs_list_tmp = [idmp['linus torvalds'] if i == '' else i for i in tmtnrs_list]"
   ]
  },
  {
   "cell_type": "code",
   "execution_count": 50,
   "metadata": {
    "collapsed": true
   },
   "outputs": [],
   "source": [
    "delta_file_rev_ct['mtnrs'] = tmtnrs_list_tmp"
   ]
  },
  {
   "cell_type": "code",
   "execution_count": 51,
   "metadata": {
    "collapsed": true
   },
   "outputs": [],
   "source": [
    "delta_file_rev_ct['mrev'] = trevs_list"
   ]
  },
  {
   "cell_type": "code",
   "execution_count": 52,
   "metadata": {
    "collapsed": true
   },
   "outputs": [],
   "source": [
    "delta_file_rev_ct['num_mtnr'] = map(lambda x:x.count('#') + 1, delta_file_rev_ct['mtnrs'])"
   ]
  },
  {
   "cell_type": "code",
   "execution_count": 73,
   "metadata": {
    "collapsed": false
   },
   "outputs": [
    {
     "data": {
      "text/plain": [
       "alexandre belloni                       alexandre belloni\n",
       "alexandre.belloni@free-electrons.com    alexandre belloni\n",
       "dtype: object"
      ]
     },
     "execution_count": 73,
     "metadata": {},
     "output_type": "execute_result"
    }
   ],
   "source": [
    "idmp[idmp=='alexandre belloni']"
   ]
  },
  {
   "cell_type": "code",
   "execution_count": null,
   "metadata": {
    "collapsed": true
   },
   "outputs": [],
   "source": []
  },
  {
   "cell_type": "markdown",
   "metadata": {},
   "source": [
    "- at the file level:  how much deltas each file has, what fraction is \n",
    "done by ownMaintainers/otherMaintainers/pureAuthors, how many \n",
    "ownMaintainers/otherMaintainers/pureAuthors contributed (authored), how \n",
    "many committers, how often its maintainers change?\n",
    "\n",
    "- at the maintainer level: how many files a maintainer has, how much \n",
    "code is there, how many deltas he authored, how many authors he \n",
    "committed code for, the first time he was added to the maintainers file \n",
    "and the last time he was removed from the file\n"
   ]
  },
  {
   "cell_type": "code",
   "execution_count": 53,
   "metadata": {
    "collapsed": true
   },
   "outputs": [],
   "source": [
    "imlist = dict()\n",
    "for i in delta_file_rev_ct.index:\n",
    "    imlist[i] = delta_file_rev_ct['mtnrs'].loc[i].split('#')"
   ]
  },
  {
   "cell_type": "code",
   "execution_count": 54,
   "metadata": {
    "collapsed": true
   },
   "outputs": [],
   "source": [
    "all_mlist = list({m for i in imlist for m in imlist[i]})"
   ]
  },
  {
   "cell_type": "code",
   "execution_count": 55,
   "metadata": {
    "collapsed": false
   },
   "outputs": [
    {
     "data": {
      "text/plain": [
       "1315"
      ]
     },
     "execution_count": 55,
     "metadata": {},
     "output_type": "execute_result"
    }
   ],
   "source": [
    "len(all_mlist)"
   ]
  },
  {
   "cell_type": "code",
   "execution_count": 56,
   "metadata": {
    "collapsed": true
   },
   "outputs": [],
   "source": [
    "def check_author_is_own_mtnr(i):\n",
    "    return delta_file_rev_ct.aid[i] in imlist[i]\n",
    "\n",
    "def check_author_is_any_mtnr(i):\n",
    "    return delta_file_rev_ct.aid[i] in all_mtnrs_of_rev[delta_file_rev_ct.mrev[i]]"
   ]
  },
  {
   "cell_type": "code",
   "execution_count": 57,
   "metadata": {
    "collapsed": true
   },
   "outputs": [],
   "source": [
    "delta_file_rev_ct['ownMtnr'] = map(check_author_is_own_mtnr, delta_file_rev_ct.index)"
   ]
  },
  {
   "cell_type": "code",
   "execution_count": 58,
   "metadata": {
    "collapsed": false
   },
   "outputs": [],
   "source": [
    "delta_file_rev_ct['anyMtnr'] = map(check_author_is_any_mtnr, delta_file_rev_ct.index)"
   ]
  },
  {
   "cell_type": "code",
   "execution_count": 59,
   "metadata": {
    "collapsed": true
   },
   "outputs": [],
   "source": [
    "delta_file_rev_ct['ownMtnr'] += 0"
   ]
  },
  {
   "cell_type": "code",
   "execution_count": 60,
   "metadata": {
    "collapsed": true
   },
   "outputs": [],
   "source": [
    "delta_file_rev_ct['anyMtnr'] += 0"
   ]
  },
  {
   "cell_type": "code",
   "execution_count": 61,
   "metadata": {
    "collapsed": true
   },
   "outputs": [],
   "source": [
    "delta_file_rev_ct['status'] = status_list"
   ]
  },
  {
   "cell_type": "code",
   "execution_count": 1264,
   "metadata": {
    "collapsed": true
   },
   "outputs": [],
   "source": [
    "# at file level\n"
   ]
  },
  {
   "cell_type": "code",
   "execution_count": 1265,
   "metadata": {
    "collapsed": true
   },
   "outputs": [],
   "source": [
    "delta_file_rev_ct.to_csv(mtnrdir + delta_files_rev_ct_mtnrs_fn, mode='w', header=False, index=False, sep=';', quoting=None)"
   ]
  },
  {
   "cell_type": "code",
   "execution_count": 83,
   "metadata": {
    "collapsed": false
   },
   "outputs": [
    {
     "data": {
      "text/plain": [
       "(0.30000000000000004, 0.3238888888888889)"
      ]
     },
     "execution_count": 83,
     "metadata": {},
     "output_type": "execute_result"
    }
   ],
   "source": [
    "14.97/49.9, 11.66/36"
   ]
  },
  {
   "cell_type": "code",
   "execution_count": 84,
   "metadata": {
    "collapsed": false
   },
   "outputs": [
    {
     "data": {
      "text/plain": [
       "(1305334, 12)"
      ]
     },
     "execution_count": 84,
     "metadata": {},
     "output_type": "execute_result"
    }
   ],
   "source": [
    "delta_file_rev_ct.shape"
   ]
  },
  {
   "cell_type": "code",
   "execution_count": 85,
   "metadata": {
    "collapsed": true
   },
   "outputs": [],
   "source": [
    "fgrp = delta_file_rev_ct.head(10).groupby('fn')"
   ]
  },
  {
   "cell_type": "code",
   "execution_count": 86,
   "metadata": {
    "collapsed": false
   },
   "outputs": [
    {
     "data": {
      "text/html": [
       "<div>\n",
       "<table border=\"1\" class=\"dataframe\">\n",
       "  <thead>\n",
       "    <tr style=\"text-align: right;\">\n",
       "      <th></th>\n",
       "      <th>fn</th>\n",
       "      <th>rev</th>\n",
       "      <th>cid</th>\n",
       "      <th>ctm</th>\n",
       "      <th>aid</th>\n",
       "      <th>atm</th>\n",
       "      <th>mtnrs</th>\n",
       "      <th>mrev</th>\n",
       "      <th>num_mtnr</th>\n",
       "      <th>ownMtnr</th>\n",
       "      <th>anyMtnr</th>\n",
       "      <th>status</th>\n",
       "    </tr>\n",
       "  </thead>\n",
       "  <tbody>\n",
       "    <tr>\n",
       "      <th>2</th>\n",
       "      <td>drivers/i2c/busses/i2c-rcar.c</td>\n",
       "      <td>b4cd08aa1f53c831e67dc5c6bc9f9acff27abcba</td>\n",
       "      <td>w.sang@pengutronix.de</td>\n",
       "      <td>1450522837</td>\n",
       "      <td>w.sang@pengutronix.de</td>\n",
       "      <td>1450292718</td>\n",
       "      <td>w.sang@pengutronix.de</td>\n",
       "      <td>13cbd906e89a1af42c586dcc4f42b311d23b7fd1</td>\n",
       "      <td>1</td>\n",
       "      <td>1</td>\n",
       "      <td>1</td>\n",
       "      <td>Maintained#Maintained</td>\n",
       "    </tr>\n",
       "    <tr>\n",
       "      <th>1</th>\n",
       "      <td>drivers/rtc/rtc-rk808.c</td>\n",
       "      <td>f076ef44a44d02ed91543f820c14c2c7dff53716</td>\n",
       "      <td>alexandre belloni</td>\n",
       "      <td>1450615140</td>\n",
       "      <td>julius werner</td>\n",
       "      <td>1450220569</td>\n",
       "      <td>a.zummo@towertech.it#alexandre belloni</td>\n",
       "      <td>13cbd906e89a1af42c586dcc4f42b311d23b7fd1</td>\n",
       "      <td>2</td>\n",
       "      <td>0</td>\n",
       "      <td>0</td>\n",
       "      <td>Maintained</td>\n",
       "    </tr>\n",
       "    <tr>\n",
       "      <th>0</th>\n",
       "      <td>drivers/rtc/rtc-da9063.c</td>\n",
       "      <td>77535acedc26627f16a1a39c1471f942689fe11e</td>\n",
       "      <td>alexandre belloni</td>\n",
       "      <td>1450615169</td>\n",
       "      <td>opensource [steve twiss]</td>\n",
       "      <td>1449592119</td>\n",
       "      <td>a.zummo@towertech.it#alexandre belloni#support...</td>\n",
       "      <td>13cbd906e89a1af42c586dcc4f42b311d23b7fd1</td>\n",
       "      <td>3</td>\n",
       "      <td>0</td>\n",
       "      <td>0</td>\n",
       "      <td>Maintained#Supported</td>\n",
       "    </tr>\n",
       "  </tbody>\n",
       "</table>\n",
       "</div>"
      ],
      "text/plain": [
       "                              fn                                       rev  \\\n",
       "2  drivers/i2c/busses/i2c-rcar.c  b4cd08aa1f53c831e67dc5c6bc9f9acff27abcba   \n",
       "1        drivers/rtc/rtc-rk808.c  f076ef44a44d02ed91543f820c14c2c7dff53716   \n",
       "0       drivers/rtc/rtc-da9063.c  77535acedc26627f16a1a39c1471f942689fe11e   \n",
       "\n",
       "                     cid         ctm                       aid         atm  \\\n",
       "2  w.sang@pengutronix.de  1450522837     w.sang@pengutronix.de  1450292718   \n",
       "1      alexandre belloni  1450615140             julius werner  1450220569   \n",
       "0      alexandre belloni  1450615169  opensource [steve twiss]  1449592119   \n",
       "\n",
       "                                               mtnrs  \\\n",
       "2                              w.sang@pengutronix.de   \n",
       "1             a.zummo@towertech.it#alexandre belloni   \n",
       "0  a.zummo@towertech.it#alexandre belloni#support...   \n",
       "\n",
       "                                       mrev  num_mtnr  ownMtnr  anyMtnr  \\\n",
       "2  13cbd906e89a1af42c586dcc4f42b311d23b7fd1         1        1        1   \n",
       "1  13cbd906e89a1af42c586dcc4f42b311d23b7fd1         2        0        0   \n",
       "0  13cbd906e89a1af42c586dcc4f42b311d23b7fd1         3        0        0   \n",
       "\n",
       "                  status  \n",
       "2  Maintained#Maintained  \n",
       "1             Maintained  \n",
       "0   Maintained#Supported  "
      ]
     },
     "execution_count": 86,
     "metadata": {},
     "output_type": "execute_result"
    }
   ],
   "source": [
    "delta_file_rev_ct.tail(3)"
   ]
  },
  {
   "cell_type": "code",
   "execution_count": null,
   "metadata": {
    "collapsed": false
   },
   "outputs": [],
   "source": []
  },
  {
   "cell_type": "code",
   "execution_count": 87,
   "metadata": {
    "collapsed": false
   },
   "outputs": [
    {
     "ename": "NameError",
     "evalue": "name 'tf' is not defined",
     "output_type": "error",
     "traceback": [
      "\u001b[0;31m\u001b[0m",
      "\u001b[0;31mNameError\u001b[0mTraceback (most recent call last)",
      "\u001b[0;32m<ipython-input-87-892e8a81ddfb>\u001b[0m in \u001b[0;36m<module>\u001b[0;34m()\u001b[0m\n\u001b[0;32m----> 1\u001b[0;31m \u001b[0mfgrp\u001b[0m\u001b[0;34m.\u001b[0m\u001b[0mfn\u001b[0m\u001b[0;34m.\u001b[0m\u001b[0magg\u001b[0m\u001b[0;34m(\u001b[0m\u001b[0mtf\u001b[0m\u001b[0;34m)\u001b[0m\u001b[0;34m\u001b[0m\u001b[0m\n\u001b[0m",
      "\u001b[0;31mNameError\u001b[0m: name 'tf' is not defined"
     ]
    }
   ],
   "source": [
    "fgrp.fn.agg(tf)"
   ]
  },
  {
   "cell_type": "markdown",
   "metadata": {
    "collapsed": true
   },
   "source": [
    "## maintainer level"
   ]
  },
  {
   "cell_type": "code",
   "execution_count": 592,
   "metadata": {
    "collapsed": true
   },
   "outputs": [],
   "source": [
    "os.chdir(repodir)\n",
    "ftmp = commands.getoutput(\"find . -type f -not -path '*/\\.*'\")"
   ]
  },
  {
   "cell_type": "code",
   "execution_count": 593,
   "metadata": {
    "collapsed": false
   },
   "outputs": [],
   "source": [
    "all_files = ftmp.split('\\n')"
   ]
  },
  {
   "cell_type": "code",
   "execution_count": 596,
   "metadata": {
    "collapsed": false
   },
   "outputs": [
    {
     "data": {
      "text/plain": [
       "['./arch/alpha/boot/bootloader.lds',\n",
       " './arch/alpha/boot/bootp.c',\n",
       " './arch/alpha/boot/bootpz.c',\n",
       " './arch/alpha/boot/head.S',\n",
       " './arch/alpha/boot/main.c']"
      ]
     },
     "execution_count": 596,
     "metadata": {},
     "output_type": "execute_result"
    }
   ],
   "source": [
    "all_files[:5]"
   ]
  },
  {
   "cell_type": "code",
   "execution_count": 597,
   "metadata": {
    "collapsed": true
   },
   "outputs": [],
   "source": [
    "all_files = map(lambda x:x[2:], all_files)"
   ]
  },
  {
   "cell_type": "code",
   "execution_count": 598,
   "metadata": {
    "collapsed": false
   },
   "outputs": [
    {
     "data": {
      "text/plain": [
       "52017"
      ]
     },
     "execution_count": 598,
     "metadata": {},
     "output_type": "execute_result"
    }
   ],
   "source": [
    "len(all_files)"
   ]
  },
  {
   "cell_type": "code",
   "execution_count": 599,
   "metadata": {
    "collapsed": false
   },
   "outputs": [
    {
     "data": {
      "text/plain": [
       "['arch/alpha/boot/bootloader.lds',\n",
       " 'arch/alpha/boot/bootp.c',\n",
       " 'arch/alpha/boot/bootpz.c',\n",
       " 'arch/alpha/boot/head.S',\n",
       " 'arch/alpha/boot/main.c']"
      ]
     },
     "execution_count": 599,
     "metadata": {},
     "output_type": "execute_result"
    }
   ],
   "source": [
    "all_files[:5]"
   ]
  },
  {
   "cell_type": "code",
   "execution_count": null,
   "metadata": {
    "collapsed": true
   },
   "outputs": [],
   "source": []
  },
  {
   "cell_type": "code",
   "execution_count": null,
   "metadata": {
    "collapsed": true
   },
   "outputs": [],
   "source": []
  },
  {
   "cell_type": "code",
   "execution_count": 846,
   "metadata": {
    "collapsed": false
   },
   "outputs": [
    {
     "data": {
      "text/html": [
       "<div>\n",
       "<table border=\"1\" class=\"dataframe\">\n",
       "  <thead>\n",
       "    <tr style=\"text-align: right;\">\n",
       "      <th></th>\n",
       "      <th>fn</th>\n",
       "      <th>rev</th>\n",
       "      <th>cid</th>\n",
       "      <th>ctm</th>\n",
       "      <th>aid</th>\n",
       "      <th>atm</th>\n",
       "      <th>mtnrs</th>\n",
       "      <th>mrev</th>\n",
       "      <th>num_mtnr</th>\n",
       "      <th>ownMtnr</th>\n",
       "      <th>anyMtnr</th>\n",
       "      <th>status</th>\n",
       "      <th>year</th>\n",
       "    </tr>\n",
       "  </thead>\n",
       "  <tbody>\n",
       "    <tr>\n",
       "      <th>4</th>\n",
       "      <td>mm/zswap.c</td>\n",
       "      <td>8bc8b228d076ae93398316f81eab35f3d12c0c4f</td>\n",
       "      <td>linus torvalds</td>\n",
       "      <td>1450477540</td>\n",
       "      <td>dan streetman</td>\n",
       "      <td>1450477324</td>\n",
       "      <td>seth jennings</td>\n",
       "      <td>13cbd906e89a1af42c586dcc4f42b311d23b7fd1</td>\n",
       "      <td>1</td>\n",
       "      <td>0</td>\n",
       "      <td>1</td>\n",
       "      <td>Maintained</td>\n",
       "      <td>2015</td>\n",
       "    </tr>\n",
       "    <tr>\n",
       "      <th>3</th>\n",
       "      <td>drivers/input/touchscreen/elants_i2c.c</td>\n",
       "      <td>478e5ed1c3f6928ece7fffd712ba728b1f92217d</td>\n",
       "      <td>dmitry torokhov</td>\n",
       "      <td>1450484503</td>\n",
       "      <td>james chen</td>\n",
       "      <td>1450482708</td>\n",
       "      <td>dmitry torokhov</td>\n",
       "      <td>13cbd906e89a1af42c586dcc4f42b311d23b7fd1</td>\n",
       "      <td>1</td>\n",
       "      <td>0</td>\n",
       "      <td>0</td>\n",
       "      <td>Maintained</td>\n",
       "      <td>2015</td>\n",
       "    </tr>\n",
       "    <tr>\n",
       "      <th>2</th>\n",
       "      <td>drivers/i2c/busses/i2c-rcar.c</td>\n",
       "      <td>b4cd08aa1f53c831e67dc5c6bc9f9acff27abcba</td>\n",
       "      <td>w.sang@pengutronix.de</td>\n",
       "      <td>1450522837</td>\n",
       "      <td>w.sang@pengutronix.de</td>\n",
       "      <td>1450292718</td>\n",
       "      <td>w.sang@pengutronix.de</td>\n",
       "      <td>13cbd906e89a1af42c586dcc4f42b311d23b7fd1</td>\n",
       "      <td>1</td>\n",
       "      <td>1</td>\n",
       "      <td>1</td>\n",
       "      <td>Maintained</td>\n",
       "      <td>2015</td>\n",
       "    </tr>\n",
       "    <tr>\n",
       "      <th>1</th>\n",
       "      <td>drivers/rtc/rtc-rk808.c</td>\n",
       "      <td>f076ef44a44d02ed91543f820c14c2c7dff53716</td>\n",
       "      <td>alexandre belloni</td>\n",
       "      <td>1450615140</td>\n",
       "      <td>julius werner</td>\n",
       "      <td>1450220569</td>\n",
       "      <td>a.zummo@towertech.it#alexandre belloni</td>\n",
       "      <td>13cbd906e89a1af42c586dcc4f42b311d23b7fd1</td>\n",
       "      <td>2</td>\n",
       "      <td>0</td>\n",
       "      <td>0</td>\n",
       "      <td>Maintained</td>\n",
       "      <td>2015</td>\n",
       "    </tr>\n",
       "    <tr>\n",
       "      <th>0</th>\n",
       "      <td>drivers/rtc/rtc-da9063.c</td>\n",
       "      <td>77535acedc26627f16a1a39c1471f942689fe11e</td>\n",
       "      <td>alexandre belloni</td>\n",
       "      <td>1450615169</td>\n",
       "      <td>opensource [steve twiss]</td>\n",
       "      <td>1449592119</td>\n",
       "      <td>a.zummo@towertech.it#alexandre belloni#support...</td>\n",
       "      <td>13cbd906e89a1af42c586dcc4f42b311d23b7fd1</td>\n",
       "      <td>3</td>\n",
       "      <td>0</td>\n",
       "      <td>0</td>\n",
       "      <td>Supported</td>\n",
       "      <td>2015</td>\n",
       "    </tr>\n",
       "  </tbody>\n",
       "</table>\n",
       "</div>"
      ],
      "text/plain": [
       "                                       fn  \\\n",
       "4                              mm/zswap.c   \n",
       "3  drivers/input/touchscreen/elants_i2c.c   \n",
       "2           drivers/i2c/busses/i2c-rcar.c   \n",
       "1                 drivers/rtc/rtc-rk808.c   \n",
       "0                drivers/rtc/rtc-da9063.c   \n",
       "\n",
       "                                        rev                    cid  \\\n",
       "4  8bc8b228d076ae93398316f81eab35f3d12c0c4f         linus torvalds   \n",
       "3  478e5ed1c3f6928ece7fffd712ba728b1f92217d        dmitry torokhov   \n",
       "2  b4cd08aa1f53c831e67dc5c6bc9f9acff27abcba  w.sang@pengutronix.de   \n",
       "1  f076ef44a44d02ed91543f820c14c2c7dff53716      alexandre belloni   \n",
       "0  77535acedc26627f16a1a39c1471f942689fe11e      alexandre belloni   \n",
       "\n",
       "          ctm                       aid         atm  \\\n",
       "4  1450477540             dan streetman  1450477324   \n",
       "3  1450484503                james chen  1450482708   \n",
       "2  1450522837     w.sang@pengutronix.de  1450292718   \n",
       "1  1450615140             julius werner  1450220569   \n",
       "0  1450615169  opensource [steve twiss]  1449592119   \n",
       "\n",
       "                                               mtnrs  \\\n",
       "4                                      seth jennings   \n",
       "3                                    dmitry torokhov   \n",
       "2                              w.sang@pengutronix.de   \n",
       "1             a.zummo@towertech.it#alexandre belloni   \n",
       "0  a.zummo@towertech.it#alexandre belloni#support...   \n",
       "\n",
       "                                       mrev  num_mtnr  ownMtnr  anyMtnr  \\\n",
       "4  13cbd906e89a1af42c586dcc4f42b311d23b7fd1         1        0        1   \n",
       "3  13cbd906e89a1af42c586dcc4f42b311d23b7fd1         1        0        0   \n",
       "2  13cbd906e89a1af42c586dcc4f42b311d23b7fd1         1        1        1   \n",
       "1  13cbd906e89a1af42c586dcc4f42b311d23b7fd1         2        0        0   \n",
       "0  13cbd906e89a1af42c586dcc4f42b311d23b7fd1         3        0        0   \n",
       "\n",
       "       status  year  \n",
       "4  Maintained  2015  \n",
       "3  Maintained  2015  \n",
       "2  Maintained  2015  \n",
       "1  Maintained  2015  \n",
       "0   Supported  2015  "
      ]
     },
     "execution_count": 846,
     "metadata": {},
     "output_type": "execute_result"
    }
   ],
   "source": [
    "delta_file_rev_ct.tail()"
   ]
  },
  {
   "cell_type": "code",
   "execution_count": null,
   "metadata": {
    "collapsed": true
   },
   "outputs": [],
   "source": []
  },
  {
   "cell_type": "markdown",
   "metadata": {},
   "source": [
    "## yearly maintainer stats"
   ]
  },
  {
   "cell_type": "code",
   "execution_count": 62,
   "metadata": {
    "collapsed": true
   },
   "outputs": [],
   "source": [
    "delta = copy.copy(delta_file_rev_ct)"
   ]
  },
  {
   "cell_type": "code",
   "execution_count": 63,
   "metadata": {
    "collapsed": true
   },
   "outputs": [],
   "source": [
    "delta['year'] = map(lambda t : time.gmtime(t).tm_year, delta['ctm'])"
   ]
  },
  {
   "cell_type": "code",
   "execution_count": 481,
   "metadata": {
    "collapsed": false
   },
   "outputs": [
    {
     "data": {
      "text/plain": [
       "time.struct_time(tm_year=2005, tm_mon=4, tm_mday=16, tm_hour=22, tm_min=20, tm_sec=36, tm_wday=5, tm_yday=106, tm_isdst=0)"
      ]
     },
     "execution_count": 481,
     "metadata": {},
     "output_type": "execute_result"
    }
   ],
   "source": [
    "time.gmtime(1113690036)"
   ]
  },
  {
   "cell_type": "code",
   "execution_count": 64,
   "metadata": {
    "collapsed": false
   },
   "outputs": [],
   "source": [
    "#delta['ym'] = delta['year'].astype(str) + '.' + map(lambda t : '{:0>2}'.format(time.gmtime(t).tm_mon), delta['ctm'])\n",
    "delta['ym'] = delta['year'] + map(lambda t : time.gmtime(t).tm_mon / 100.0, delta['ctm'])"
   ]
  },
  {
   "cell_type": "code",
   "execution_count": 80,
   "metadata": {
    "collapsed": false
   },
   "outputs": [],
   "source": [
    "mh['year'] = map(lambda t : time.gmtime(t).tm_year, mh['time'])\n",
    "mh['ym'] = mh['year'] + map(lambda t : time.gmtime(t).tm_mon / 100.0, mh['time'])"
   ]
  },
  {
   "cell_type": "code",
   "execution_count": 92,
   "metadata": {
    "collapsed": false,
    "scrolled": true
   },
   "outputs": [
    {
     "data": {
      "text/html": [
       "<div>\n",
       "<table border=\"1\" class=\"dataframe\">\n",
       "  <thead>\n",
       "    <tr style=\"text-align: right;\">\n",
       "      <th></th>\n",
       "      <th>fn</th>\n",
       "      <th>rev</th>\n",
       "      <th>cid</th>\n",
       "      <th>ctm</th>\n",
       "      <th>aid</th>\n",
       "      <th>atm</th>\n",
       "      <th>mtnrs</th>\n",
       "      <th>mrev</th>\n",
       "      <th>num_mtnr</th>\n",
       "      <th>ownMtnr</th>\n",
       "      <th>anyMtnr</th>\n",
       "      <th>status</th>\n",
       "      <th>year</th>\n",
       "      <th>ym</th>\n",
       "    </tr>\n",
       "  </thead>\n",
       "  <tbody>\n",
       "    <tr>\n",
       "      <th>1288044</th>\n",
       "      <td>fs/cifs/asn1.c</td>\n",
       "      <td>1da177e4c3f41524e886b7f1b8a0c1fc7321cac2</td>\n",
       "      <td>linus torvalds</td>\n",
       "      <td>1113690036</td>\n",
       "      <td>linus torvalds</td>\n",
       "      <td>1113690036</td>\n",
       "      <td>linus torvalds</td>\n",
       "      <td>1da177e4c3f41524e886b7f1b8a0c1fc7321cac2</td>\n",
       "      <td>1</td>\n",
       "      <td>1</td>\n",
       "      <td>1</td>\n",
       "      <td>Unknown</td>\n",
       "      <td>2005</td>\n",
       "      <td>2005.04</td>\n",
       "    </tr>\n",
       "    <tr>\n",
       "      <th>1288045</th>\n",
       "      <td>include/asm-m32r/resource.h</td>\n",
       "      <td>1da177e4c3f41524e886b7f1b8a0c1fc7321cac2</td>\n",
       "      <td>linus torvalds</td>\n",
       "      <td>1113690036</td>\n",
       "      <td>linus torvalds</td>\n",
       "      <td>1113690036</td>\n",
       "      <td>linus torvalds</td>\n",
       "      <td>1da177e4c3f41524e886b7f1b8a0c1fc7321cac2</td>\n",
       "      <td>1</td>\n",
       "      <td>1</td>\n",
       "      <td>1</td>\n",
       "      <td>Unknown</td>\n",
       "      <td>2005</td>\n",
       "      <td>2005.04</td>\n",
       "    </tr>\n",
       "    <tr>\n",
       "      <th>1288046</th>\n",
       "      <td>arch/ppc/platforms/pal4_pci.c</td>\n",
       "      <td>1da177e4c3f41524e886b7f1b8a0c1fc7321cac2</td>\n",
       "      <td>linus torvalds</td>\n",
       "      <td>1113690036</td>\n",
       "      <td>linus torvalds</td>\n",
       "      <td>1113690036</td>\n",
       "      <td>linus torvalds</td>\n",
       "      <td>1da177e4c3f41524e886b7f1b8a0c1fc7321cac2</td>\n",
       "      <td>1</td>\n",
       "      <td>1</td>\n",
       "      <td>1</td>\n",
       "      <td>Unknown</td>\n",
       "      <td>2005</td>\n",
       "      <td>2005.04</td>\n",
       "    </tr>\n",
       "    <tr>\n",
       "      <th>1288047</th>\n",
       "      <td>include/net/sctp/command.h</td>\n",
       "      <td>1da177e4c3f41524e886b7f1b8a0c1fc7321cac2</td>\n",
       "      <td>linus torvalds</td>\n",
       "      <td>1113690036</td>\n",
       "      <td>linus torvalds</td>\n",
       "      <td>1113690036</td>\n",
       "      <td>linus torvalds</td>\n",
       "      <td>1da177e4c3f41524e886b7f1b8a0c1fc7321cac2</td>\n",
       "      <td>1</td>\n",
       "      <td>1</td>\n",
       "      <td>1</td>\n",
       "      <td>Unknown</td>\n",
       "      <td>2005</td>\n",
       "      <td>2005.04</td>\n",
       "    </tr>\n",
       "    <tr>\n",
       "      <th>1288048</th>\n",
       "      <td>drivers/isdn/hisax/ipac.h</td>\n",
       "      <td>1da177e4c3f41524e886b7f1b8a0c1fc7321cac2</td>\n",
       "      <td>linus torvalds</td>\n",
       "      <td>1113690036</td>\n",
       "      <td>linus torvalds</td>\n",
       "      <td>1113690036</td>\n",
       "      <td>linus torvalds</td>\n",
       "      <td>1da177e4c3f41524e886b7f1b8a0c1fc7321cac2</td>\n",
       "      <td>1</td>\n",
       "      <td>1</td>\n",
       "      <td>1</td>\n",
       "      <td>Unknown</td>\n",
       "      <td>2005</td>\n",
       "      <td>2005.04</td>\n",
       "    </tr>\n",
       "  </tbody>\n",
       "</table>\n",
       "</div>"
      ],
      "text/plain": [
       "                                    fn  \\\n",
       "1288044                 fs/cifs/asn1.c   \n",
       "1288045    include/asm-m32r/resource.h   \n",
       "1288046  arch/ppc/platforms/pal4_pci.c   \n",
       "1288047     include/net/sctp/command.h   \n",
       "1288048      drivers/isdn/hisax/ipac.h   \n",
       "\n",
       "                                              rev             cid         ctm  \\\n",
       "1288044  1da177e4c3f41524e886b7f1b8a0c1fc7321cac2  linus torvalds  1113690036   \n",
       "1288045  1da177e4c3f41524e886b7f1b8a0c1fc7321cac2  linus torvalds  1113690036   \n",
       "1288046  1da177e4c3f41524e886b7f1b8a0c1fc7321cac2  linus torvalds  1113690036   \n",
       "1288047  1da177e4c3f41524e886b7f1b8a0c1fc7321cac2  linus torvalds  1113690036   \n",
       "1288048  1da177e4c3f41524e886b7f1b8a0c1fc7321cac2  linus torvalds  1113690036   \n",
       "\n",
       "                    aid         atm           mtnrs  \\\n",
       "1288044  linus torvalds  1113690036  linus torvalds   \n",
       "1288045  linus torvalds  1113690036  linus torvalds   \n",
       "1288046  linus torvalds  1113690036  linus torvalds   \n",
       "1288047  linus torvalds  1113690036  linus torvalds   \n",
       "1288048  linus torvalds  1113690036  linus torvalds   \n",
       "\n",
       "                                             mrev  num_mtnr  ownMtnr  anyMtnr  \\\n",
       "1288044  1da177e4c3f41524e886b7f1b8a0c1fc7321cac2         1        1        1   \n",
       "1288045  1da177e4c3f41524e886b7f1b8a0c1fc7321cac2         1        1        1   \n",
       "1288046  1da177e4c3f41524e886b7f1b8a0c1fc7321cac2         1        1        1   \n",
       "1288047  1da177e4c3f41524e886b7f1b8a0c1fc7321cac2         1        1        1   \n",
       "1288048  1da177e4c3f41524e886b7f1b8a0c1fc7321cac2         1        1        1   \n",
       "\n",
       "          status  year       ym  \n",
       "1288044  Unknown  2005  2005.04  \n",
       "1288045  Unknown  2005  2005.04  \n",
       "1288046  Unknown  2005  2005.04  \n",
       "1288047  Unknown  2005  2005.04  \n",
       "1288048  Unknown  2005  2005.04  "
      ]
     },
     "execution_count": 92,
     "metadata": {},
     "output_type": "execute_result"
    }
   ],
   "source": [
    "delta.head()"
   ]
  },
  {
   "cell_type": "code",
   "execution_count": null,
   "metadata": {
    "collapsed": true
   },
   "outputs": [],
   "source": [
    "# imlist = dict()\n",
    "# for i in delta.index:\n",
    "#     imlist[i] = delta['mtnrs'].loc[i].split('#')"
   ]
  },
  {
   "cell_type": "code",
   "execution_count": 275,
   "metadata": {
    "collapsed": false
   },
   "outputs": [
    {
     "data": {
      "text/plain": [
       "count    1.305334e+06\n",
       "mean     1.010661e+00\n",
       "std      9.374413e-01\n",
       "min      0.000000e+00\n",
       "25%      0.000000e+00\n",
       "50%      1.000000e+00\n",
       "75%      2.000000e+00\n",
       "max      5.000000e+00\n",
       "dtype: float64"
      ]
     },
     "execution_count": 275,
     "metadata": {},
     "output_type": "execute_result"
    }
   ],
   "source": [
    "Series(map(lambda i:len(subsys_list_of_idx[i]), subsys_list_of_idx.keys())).describe()"
   ]
  },
  {
   "cell_type": "code",
   "execution_count": 66,
   "metadata": {
    "collapsed": true
   },
   "outputs": [],
   "source": [
    "idx_of_mtnr_year = collections.defaultdict(list)"
   ]
  },
  {
   "cell_type": "code",
   "execution_count": 67,
   "metadata": {
    "collapsed": false
   },
   "outputs": [],
   "source": [
    "for idx in delta.index:\n",
    "    iml = delta['mtnrs'].loc[idx].split('#')\n",
    "    for m in iml:\n",
    "        idx_of_mtnr_year[(m, delta['year'].loc[idx])].append(idx)"
   ]
  },
  {
   "cell_type": "code",
   "execution_count": 284,
   "metadata": {
    "collapsed": false
   },
   "outputs": [
    {
     "data": {
      "text/plain": [
       "(False, False)"
      ]
     },
     "execution_count": 284,
     "metadata": {},
     "output_type": "execute_result"
    }
   ],
   "source": [
    "('3chas3@gmail.com', 2005) in idx_of_mtnr_year, ('3chas3@gmail.com', 2005) in  stat_of_mtnr_year"
   ]
  },
  {
   "cell_type": "code",
   "execution_count": 292,
   "metadata": {
    "collapsed": false
   },
   "outputs": [],
   "source": [
    "stat_of_mtnr_year = collections.defaultdict(dict)"
   ]
  },
  {
   "cell_type": "code",
   "execution_count": 293,
   "metadata": {
    "collapsed": false
   },
   "outputs": [],
   "source": [
    "for my in idx_of_mtnr_year.keys():\n",
    "#     v = reduce(lambda x, y : list(set(x + y)), [list(subsys_list_of_idx[i]) for i in idx_of_mtnr_year[my]], [])\n",
    "#     stat_of_mtnr_year[my]['subsys_list'] = v\n",
    "    t = list(set(delta['fn'].loc[idx_of_mtnr_year[my]]))\n",
    "    stat_of_mtnr_year[my]['file_list'] = t    \n",
    "    z = list(set(delta['fn'].loc[idx_of_mtnr_year[my]][delta['status'].loc[idx_of_mtnr_year[my]].str.contains('Supported')]))\n",
    "    stat_of_mtnr_year[my]['supported_file_list'] = z"
   ]
  },
  {
   "cell_type": "code",
   "execution_count": 294,
   "metadata": {
    "collapsed": false
   },
   "outputs": [],
   "source": [
    "#stat_my.subsys_list[:4].str"
   ]
  },
  {
   "cell_type": "code",
   "execution_count": 295,
   "metadata": {
    "collapsed": true
   },
   "outputs": [],
   "source": [
    "def my_add(x, k, v, f, container):\n",
    "    if k not in x:\n",
    "        x[k] = container()\n",
    "    eval('x[k].' + f + '(' + v + ')')"
   ]
  },
  {
   "cell_type": "code",
   "execution_count": null,
   "metadata": {
    "collapsed": true
   },
   "outputs": [],
   "source": [
    "'''\n",
    "按照修改文件来计算时，只要一个maintainer出现在MAINTAINERS文件中，就会为这个maintainer加1条当年的记录\n",
    "'''"
   ]
  },
  {
   "cell_type": "code",
   "execution_count": 296,
   "metadata": {
    "collapsed": false
   },
   "outputs": [],
   "source": [
    "for my in stat_of_mtnr_year.keys():\n",
    "    stat_of_mtnr_year[my]['subsys_list'] = set()\n",
    "    stat_of_mtnr_year[my]['subsys_file_list'] = collections.defaultdict(set)\n",
    "    stat_of_mtnr_year[my]['subsys_supported_file_list'] = collections.defaultdict(set)\n",
    "\n",
    "for rev in mtnr_rev.keys():\n",
    "    try:\n",
    "        y = mh['year'][mh['rev'] == rev].iloc[0] # mh may not have record of rev\n",
    "    except:\n",
    "        continue\n",
    "    mrev = mtnr_rev[rev]\n",
    "    for sysname in mrev:\n",
    "        subsys = mrev[sysname]\n",
    "        for m in subsys.mtnrs.keys():\n",
    "            my = (m, y)\n",
    "            if my not in stat_of_mtnr_year:\n",
    "                stat_of_mtnr_year[my] = {'subsys_list':set(), 'file_list':set(), 'supported_file_list':set(), \n",
    "                                         'subsys_file_list':collections.defaultdict(set), \n",
    "                                        'subsys_supported_file_list':collections.defaultdict(set)}\n",
    "            \n",
    "            stat_of_mtnr_year[my]['subsys_list'].add(sysname)\n",
    "            for f in stat_of_mtnr_year[my]['file_list']:\n",
    "                if f not in fcate_of_fn:\n",
    "                    stat_of_mtnr_year[my]['subsys_file_list']['THE REST'].add(f)\n",
    "                else:\n",
    "                    fca = fcate_of_fn[f]\n",
    "                    for ifca in fca:\n",
    "                        if ifca in subsys.files:\n",
    "                            stat_of_mtnr_year[my]['subsys_file_list'][sysname].add(f)\n",
    "                            if subsys.status == 'Supported':\n",
    "                                stat_of_mtnr_year[my]['subsys_supported_file_list'][sysname].add(f)\n"
   ]
  },
  {
   "cell_type": "code",
   "execution_count": 288,
   "metadata": {
    "collapsed": false
   },
   "outputs": [
    {
     "data": {
      "text/plain": [
       "76452"
      ]
     },
     "execution_count": 288,
     "metadata": {},
     "output_type": "execute_result"
    }
   ],
   "source": [
    "len(fcate_of_fn)"
   ]
  },
  {
   "cell_type": "code",
   "execution_count": 290,
   "metadata": {
    "collapsed": false
   },
   "outputs": [
    {
     "data": {
      "text/plain": [
       "91550"
      ]
     },
     "execution_count": 290,
     "metadata": {},
     "output_type": "execute_result"
    }
   ],
   "source": [
    "len(np.unique(delta.fn))"
   ]
  },
  {
   "cell_type": "code",
   "execution_count": null,
   "metadata": {
    "collapsed": true
   },
   "outputs": [],
   "source": [
    "for i in range(0, 100, 10):\n",
    "    v = stat_of_mtnr_year[stat_of_mtnr_year.keys()[i]]\n",
    "    print 'file_list', len(v['file_list'])\n",
    "    print 'supported_file_list', len(v['supported_file_list'])\n",
    "    print 'subsys_file_list', sum([len(v['subsys_file_list'][k]) for k in v['subsys_file_list']])\n",
    "    print 'subsys_supported_file_list', sum([len(v['subsys_supported_file_list'][k]) for k in v['subsys_supported_file_list']])\n",
    "    print "
   ]
  },
  {
   "cell_type": "code",
   "execution_count": null,
   "metadata": {
    "collapsed": true
   },
   "outputs": [],
   "source": []
  },
  {
   "cell_type": "code",
   "execution_count": 297,
   "metadata": {
    "collapsed": false
   },
   "outputs": [],
   "source": [
    "for my in stat_of_mtnr_year.keys():\n",
    "    try:\n",
    "        m_prevy = (my[0], my[1] - 1)\n",
    "        if m_prevy not in idx_of_mtnr_year:\n",
    "            stat_of_mtnr_year[my]['added_file_list'] = stat_of_mtnr_year[my]['file_list']\n",
    "            stat_of_mtnr_year[my]['deled_file_list'] = []\n",
    "        else:\n",
    "            stat_of_mtnr_year[my]['added_file_list'] = list(np.setdiff1d(stat_of_mtnr_year[my]['file_list'], stat_of_mtnr_year[m_prevy]['file_list']))\n",
    "            stat_of_mtnr_year[my]['deled_file_list'] = list(np.setdiff1d(stat_of_mtnr_year[m_prevy]['file_list'], stat_of_mtnr_year[my]['file_list']))\n",
    "    except Exception, e:\n",
    "            continue"
   ]
  },
  {
   "cell_type": "code",
   "execution_count": 298,
   "metadata": {
    "collapsed": true
   },
   "outputs": [],
   "source": [
    "res = []"
   ]
  },
  {
   "cell_type": "code",
   "execution_count": 299,
   "metadata": {
    "collapsed": false
   },
   "outputs": [],
   "source": [
    "for my in stat_of_mtnr_year:\n",
    "    tmp = dict()\n",
    "    try:\n",
    "        tmp['mtnr'], tmp['year'] = my[0], my[1]\n",
    "    except Exception:\n",
    "        continue\n",
    "    tmp['num_subsys'] = len(stat_of_mtnr_year[my]['subsys_list'])\n",
    "    tmp['subsys_list'] = '#'.join(stat_of_mtnr_year[my]['subsys_list'])\n",
    "    subsys_f_cnt = 0\n",
    "    for (modi, k) in [('mod1', 'subsys_file_list'), ('mod2', 'subsys_supported_file_list')]:\n",
    "        t = stat_of_mtnr_year[my][k]\n",
    "        tmp[k + '_cnt'] = len(reduce(lambda x, y : set(list(x) + list(y)), t.values(), []))\n",
    "        if len(t) <= 0:\n",
    "            continue\n",
    "        x = Series(map(lambda v:len(t[v]), t.keys()), index=t.keys())\n",
    "        tmp[modi] = sys2mod[x.idxmax()]\n",
    "        \n",
    "    \n",
    "    for k in ['file_list', 'supported_file_list', 'added_file_list', 'deled_file_list']:\n",
    "        tmp['num_' + k] = len(stat_of_mtnr_year[my][k])\n",
    "    \n",
    "    res.append(tmp)\n",
    "    "
   ]
  },
  {
   "cell_type": "code",
   "execution_count": 300,
   "metadata": {
    "collapsed": false
   },
   "outputs": [],
   "source": [
    "stat_my = DataFrame(res)"
   ]
  },
  {
   "cell_type": "code",
   "execution_count": 301,
   "metadata": {
    "collapsed": false
   },
   "outputs": [
    {
     "data": {
      "text/plain": [
       "1"
      ]
     },
     "execution_count": 301,
     "metadata": {},
     "output_type": "execute_result"
    }
   ],
   "source": [
    "stat_my.sort_values(['mtnr', 'year'], inplace=True)\n",
    "1"
   ]
  },
  {
   "cell_type": "code",
   "execution_count": null,
   "metadata": {
    "collapsed": false
   },
   "outputs": [],
   "source": [
    "stat_my[(stat_my['num_file_list'] != stat_my['subsys_file_list_cnt'])]\n",
    "1"
   ]
  },
  {
   "cell_type": "code",
   "execution_count": null,
   "metadata": {
    "collapsed": false
   },
   "outputs": [],
   "source": [
    "stat_my.head(10)[new_cols]"
   ]
  },
  {
   "cell_type": "code",
   "execution_count": 302,
   "metadata": {
    "collapsed": false
   },
   "outputs": [],
   "source": [
    "new_cols = ['mtnr', 'year', 'num_subsys', 'subsys_list', 'mod1', 'mod2', 'num_file_list', 'num_supported_file_list', \n",
    "            'subsys_file_list_cnt', 'subsys_supported_file_list_cnt', 'num_added_file_list', 'num_deled_file_list']"
   ]
  },
  {
   "cell_type": "code",
   "execution_count": 303,
   "metadata": {
    "collapsed": false
   },
   "outputs": [
    {
     "data": {
      "text/plain": [
       "mod1                              2489\n",
       "mod2                              5868\n",
       "mtnr                                 0\n",
       "num_added_file_list                  0\n",
       "num_deled_file_list                  0\n",
       "num_file_list                        0\n",
       "num_subsys                           0\n",
       "num_supported_file_list              0\n",
       "subsys_file_list_cnt                 0\n",
       "subsys_list                          0\n",
       "subsys_supported_file_list_cnt       0\n",
       "year                                 0\n",
       "dtype: int64"
      ]
     },
     "execution_count": 303,
     "metadata": {},
     "output_type": "execute_result"
    }
   ],
   "source": [
    "stat_my.isnull().sum()"
   ]
  },
  {
   "cell_type": "code",
   "execution_count": 304,
   "metadata": {
    "collapsed": false
   },
   "outputs": [
    {
     "data": {
      "text/plain": [
       "(7833, 12)"
      ]
     },
     "execution_count": 304,
     "metadata": {},
     "output_type": "execute_result"
    }
   ],
   "source": [
    "stat_my.shape"
   ]
  },
  {
   "cell_type": "code",
   "execution_count": 305,
   "metadata": {
    "collapsed": false
   },
   "outputs": [
    {
     "data": {
      "text/plain": [
       "1"
      ]
     },
     "execution_count": 305,
     "metadata": {},
     "output_type": "execute_result"
    }
   ],
   "source": [
    "stat_my.fillna('', inplace=True)\n",
    "1"
   ]
  },
  {
   "cell_type": "code",
   "execution_count": 1296,
   "metadata": {
    "collapsed": false
   },
   "outputs": [],
   "source": [
    "stat_my[new_cols].to_csv(mtnrdir + stat_my_fn, sep=';', header=True, index=False)"
   ]
  },
  {
   "cell_type": "code",
   "execution_count": null,
   "metadata": {
    "collapsed": true
   },
   "outputs": [],
   "source": []
  },
  {
   "cell_type": "markdown",
   "metadata": {},
   "source": [
    "### monthly stat"
   ]
  },
  {
   "cell_type": "code",
   "execution_count": 482,
   "metadata": {
    "collapsed": false
   },
   "outputs": [
    {
     "data": {
      "text/plain": [
       "(1305334, 14)"
      ]
     },
     "execution_count": 482,
     "metadata": {},
     "output_type": "execute_result"
    }
   ],
   "source": [
    "delta.shape"
   ]
  },
  {
   "cell_type": "code",
   "execution_count": 327,
   "metadata": {
    "collapsed": true
   },
   "outputs": [],
   "source": [
    "idx_of_mtnr_month = collections.defaultdict(list)"
   ]
  },
  {
   "cell_type": "code",
   "execution_count": 328,
   "metadata": {
    "collapsed": true
   },
   "outputs": [],
   "source": [
    "for idx in delta.index:\n",
    "    ym = delta.ym.loc[idx]\n",
    "    for m in imlist[idx]:\n",
    "        idx_of_mtnr_month[(m, ym)].append(idx)"
   ]
  },
  {
   "cell_type": "code",
   "execution_count": 329,
   "metadata": {
    "collapsed": true
   },
   "outputs": [],
   "source": [
    "# stat_of_mtnr_month = collections.defaultdict(dict)"
   ]
  },
  {
   "cell_type": "code",
   "execution_count": 330,
   "metadata": {
    "collapsed": true
   },
   "outputs": [],
   "source": [
    "# for mym in idx_of_mtnr_month:\n",
    "#     m, ym = mym\n",
    "#     for idx in idx_of_mtnr_month[mym]:\n",
    "#         if mym not in stat_of_mtnr_month:\n",
    "#             stat_of_mtnr_month[mym] = {'num_deltas_athr_mtnr':0, 'commits_athr_mtnr':set()}\n",
    "#         stat_of_mtnr_month[mym]"
   ]
  },
  {
   "cell_type": "code",
   "execution_count": null,
   "metadata": {
    "collapsed": true
   },
   "outputs": [],
   "source": [
    "mdelta = delta[np.in1d(delta.aid, all_mlist)]"
   ]
  },
  {
   "cell_type": "code",
   "execution_count": null,
   "metadata": {
    "collapsed": false
   },
   "outputs": [],
   "source": [
    "mdelta.shape, delta.shape"
   ]
  },
  {
   "cell_type": "code",
   "execution_count": null,
   "metadata": {
    "collapsed": false
   },
   "outputs": [],
   "source": [
    "mdelta.head()"
   ]
  },
  {
   "cell_type": "code",
   "execution_count": null,
   "metadata": {
    "collapsed": false
   },
   "outputs": [],
   "source": [
    "grp = mdelta.groupby(['aid', 'ym', 'ownMtnr'])"
   ]
  },
  {
   "cell_type": "code",
   "execution_count": null,
   "metadata": {
    "collapsed": true
   },
   "outputs": [],
   "source": [
    "# def calc_stat_of_mtnr_month(x):\n",
    "#     print x\n",
    "#     return len(x.rev), len(set(x.rev)), sum(x.ownMtnr), len(set(x.rev[x.ownMtnr == 1]))"
   ]
  },
  {
   "cell_type": "code",
   "execution_count": null,
   "metadata": {
    "collapsed": false
   },
   "outputs": [],
   "source": [
    "v = grp.agg({'rev': lambda x : (len(x), len(set(x)))})\n",
    "#v = grp.agg(calc_stat_of_mtnr_month)"
   ]
  },
  {
   "cell_type": "code",
   "execution_count": null,
   "metadata": {
    "collapsed": false
   },
   "outputs": [],
   "source": [
    "type(v), type(v.iloc[0])"
   ]
  },
  {
   "cell_type": "code",
   "execution_count": null,
   "metadata": {
    "collapsed": false
   },
   "outputs": [],
   "source": [
    "v.head()"
   ]
  },
  {
   "cell_type": "code",
   "execution_count": null,
   "metadata": {
    "collapsed": false
   },
   "outputs": [],
   "source": [
    "grp.groups.keys()[:5]"
   ]
  },
  {
   "cell_type": "code",
   "execution_count": null,
   "metadata": {
    "collapsed": false
   },
   "outputs": [],
   "source": [
    "v.rev.loc['broonie+linaro@kernel.org', 2015.1, 1]"
   ]
  },
  {
   "cell_type": "code",
   "execution_count": null,
   "metadata": {
    "collapsed": false
   },
   "outputs": [],
   "source": [
    "stat_of_mym = collections.defaultdict(dict)\n",
    "for k in grp.groups.keys():\n",
    "    m, ym, om = k\n",
    "    mym = (m, ym)\n",
    "    tmpv = v.rev.loc[m, ym, om]\n",
    "    if mym not in stat_of_mym:\n",
    "        stat_of_mym[mym] = {'num_deltas_athr_mtnr':0, 'num_commits_athr_mtnr':0, 'num_deltas_athr':0, 'num_commits_athr':0}\n",
    "    if om == 1:\n",
    "        stat_of_mym[mym]['num_deltas_athr_mtnr'] += tmpv[0]\n",
    "        stat_of_mym[mym]['num_commits_athr_mtnr'] += tmpv[1]\n",
    "    stat_of_mym[mym]['num_deltas_athr'] += tmpv[0]\n",
    "    stat_of_mym[mym]['num_commits_athr'] += tmpv[1]\n",
    "        "
   ]
  },
  {
   "cell_type": "code",
   "execution_count": null,
   "metadata": {
    "collapsed": true
   },
   "outputs": [],
   "source": [
    "res = []\n",
    "for mym in stat_of_mym:\n",
    "    x = stat_of_mym[mym]\n",
    "    tmp_res = {'mtnr':mym[0], 'month':mym[1]}\n",
    "    for k in x:\n",
    "        tmp_res[k] = x[k]\n",
    "    res.append(tmp_res)"
   ]
  },
  {
   "cell_type": "code",
   "execution_count": null,
   "metadata": {
    "collapsed": true
   },
   "outputs": [],
   "source": [
    "df_of_mym = DataFrame(res)[['mtnr', 'month', 'num_commits_athr', 'num_commits_athr_mtnr', 'num_deltas_athr', 'num_deltas_athr_mtnr']]"
   ]
  },
  {
   "cell_type": "code",
   "execution_count": null,
   "metadata": {
    "collapsed": false
   },
   "outputs": [],
   "source": [
    "df_of_mym.sort_values(['mtnr', 'month'], inplace=True)\n",
    "1"
   ]
  },
  {
   "cell_type": "code",
   "execution_count": null,
   "metadata": {
    "collapsed": false
   },
   "outputs": [],
   "source": [
    "df_of_mym.head()"
   ]
  },
  {
   "cell_type": "code",
   "execution_count": null,
   "metadata": {
    "collapsed": true
   },
   "outputs": [],
   "source": []
  },
  {
   "cell_type": "code",
   "execution_count": 1312,
   "metadata": {
    "collapsed": false
   },
   "outputs": [],
   "source": [
    "df_of_mym.to_csv(mtnrdir + stat_mym_fn, mode='w', header=True, index=False, sep=';', quoting=None, float_format ='%.2f')"
   ]
  },
  {
   "cell_type": "code",
   "execution_count": null,
   "metadata": {
    "collapsed": true
   },
   "outputs": [],
   "source": []
  },
  {
   "cell_type": "code",
   "execution_count": null,
   "metadata": {
    "collapsed": true
   },
   "outputs": [],
   "source": []
  },
  {
   "cell_type": "code",
   "execution_count": null,
   "metadata": {
    "collapsed": true
   },
   "outputs": [],
   "source": []
  },
  {
   "cell_type": "code",
   "execution_count": null,
   "metadata": {
    "collapsed": true
   },
   "outputs": [],
   "source": []
  },
  {
   "cell_type": "code",
   "execution_count": 1313,
   "metadata": {
    "collapsed": false
   },
   "outputs": [],
   "source": [
    "#delta[delta.fn == 'drivers/watchdog/sc1200wdt.c']"
   ]
  },
  {
   "cell_type": "markdown",
   "metadata": {},
   "source": [
    "## calc num of maintained files, by maintained, not only those modified"
   ]
  },
  {
   "cell_type": "code",
   "execution_count": null,
   "metadata": {
    "collapsed": true
   },
   "outputs": [],
   "source": [
    "fcate_of_fn_old = fcate_of_fn"
   ]
  },
  {
   "cell_type": "code",
   "execution_count": 230,
   "metadata": {
    "collapsed": true
   },
   "outputs": [],
   "source": [
    "fcate_of_fn = fcate_of_fn_old\n",
    "x = {k:fcate_of_fn[k] for k in fcate_of_fn if len(fcate_of_fn[k]) > 0}\n",
    "fcate_of_fn = x"
   ]
  },
  {
   "cell_type": "code",
   "execution_count": 68,
   "metadata": {
    "collapsed": false
   },
   "outputs": [],
   "source": [
    "res = []"
   ]
  },
  {
   "cell_type": "code",
   "execution_count": 69,
   "metadata": {
    "collapsed": false
   },
   "outputs": [
    {
     "data": {
      "text/plain": [
       "3436"
      ]
     },
     "execution_count": 69,
     "metadata": {},
     "output_type": "execute_result"
    }
   ],
   "source": [
    "len(tree_of_rev)"
   ]
  },
  {
   "cell_type": "code",
   "execution_count": 73,
   "metadata": {
    "collapsed": false
   },
   "outputs": [
    {
     "name": "stdout",
     "output_type": "stream",
     "text": [
      "(0, '81df63a9a5f98edbfaae70729147a33a3b7690a4') * (100, 'f1f6630b53e702648a248fecd881f3df5968a31a') * (200, 'a1cfac48ba4c7481bb749e0f4f37c85cb871b2d1') * (300, '22e7a424854b80f00bd5686b6539726b8ca95420') * (400, 'df4e33ad249b7480d6ba5dd11fc1dac5cfaffce1') * (500, '8fc1b0f87d9fcc7f05873c70b3003328c3d7defa') * (600, '04ac2f46d6ecb995f78c9ae4e2e4707d00b5339f') * (700, 'f7b98477f613a69b74ba4a715856630cc6508c0d') * (800, '8862bf1ed60de49550109b7023a0a33eb7db8b3c') * (900, '8eae0fb7efa99d55afa9e94ce95d101af0830ca6') * (1000, 'a14c0f8fefcb95847fe3a94a4085a7ceb88f19e5') * (1100, 'dc7dfcd838985947ee1a66cdaa41c4968404e0ed') * (1200, 'fbfd8b5622a18afefb53a69d31fbddecba404f64') * (1300, '1392707977de9e0df18123d56c3148cb0b1c6ab5') * (1400, 'db7bee24d23d82cc55c7cbc9a1f82d07066d6fce') * (1500, '48de5beeb0ee821859c79ba5b9462654604d8bf3') * (1600, '8a62ab4c4eaf5bce4d9cc84b77d6402c4742d9ab') * (1700, 'cec7c893d8654723028f09d33341e42673558057') * (1800, '9bb3c4469e317919b0fde8c0e0a3ebe7bd2cf167') * (1900, '56ca9d98772c68368c929ab41d42108319a38da2') * (2000, '6dfca87806eb94c1033b01e4f7a48363b890ec79') * (2100, 'a800c7cc5380fbb6b4f2f3bd89f6776eb3da2242') * (2200, '73b7656ce4e09eb137ee6f845a9e11a7f132df1c') * (2300, '73b35d07ee20d6af95359fb86540528709dd58bb') * (2400, '64dab20450184e6586c12704da11ce48a0918050') * (2500, '599aa6975e7a26ba1fee6a1eee21f46c2730890e') * (2600, 'e7f5b309c9bd6142f395c4a36123ebac4bcdc1b0') * (2700, 'f935f3f8a567d3d2531886e901ed0db183092abe') * (2800, 'e95cf393d2097a7744f98de1c7936fcbde0843e3') * (2900, '130e0371b7d454bb4a861253c822b9f911ad5d19') * (3000, '81d350e013a9a4b743281e16d5fd29cd8955a746') * (3100, '9caeb5324427990db7bc97e674794d201c1f0797') * (3200, '197ba5f406cc29000c70de98eb40d7243b9f9f03') * (3300, 'a16fbd65246ae13a5f6b280937c5c0cd16757141') * (3400, '1a4520bea65f9205a240bbfa473547af1c77ab19') *\n"
     ]
    }
   ],
   "source": [
    "for i in range(len(tree_of_rev.keys())):\n",
    "    if i < newi:\n",
    "        continue\n",
    "    r = tree_of_rev.keys()[i]\n",
    "    if i % 100 == 0:\n",
    "        print (i, r), '*', \n",
    "    tr = tree_of_rev[r]\n",
    "    fcate_2_subsys = fcate_each_rev_2_subsys[r]\n",
    "    mntr_of_rev = mtnr_rev[r]\n",
    "    for f in tr:\n",
    "        if f not in fcate_of_fn:\n",
    "            res.append({'rev':r, 'file':f, 'mtnr':'linus torvalds','subsys':'THE REST', 'status':'Unknown'})\n",
    "        else:\n",
    "            fcates = fcate_of_fn[f]\n",
    "            for fc in fcates:\n",
    "                if fc in fcate_2_subsys:\n",
    "                    subsys = fcate_2_subsys[fc]\n",
    "                    for ss in subsys:\n",
    "                        status = mntr_of_rev[ss].status\n",
    "                        for ms in mntr_of_rev[ss].mtnrs:\n",
    "                            res.append({'rev':r, 'file':f, 'mtnr':ms, 'subsys':ss, 'status':status})\n",
    "#         ml, sl = get_maintainer_list_and_subsys_list(f, fcate_of_fn, fcate_each_rev_2_subsys[r], mtnr_rev[r])\n",
    "#         for m in ml:\n",
    "#             res.append({'rev':r, 'mtnr':m, 'file':f})\n"
   ]
  },
  {
   "cell_type": "code",
   "execution_count": 71,
   "metadata": {
    "collapsed": false
   },
   "outputs": [],
   "source": [
    "i = 0"
   ]
  },
  {
   "cell_type": "code",
   "execution_count": 72,
   "metadata": {
    "collapsed": true
   },
   "outputs": [],
   "source": [
    "newi = i"
   ]
  },
  {
   "cell_type": "code",
   "execution_count": 336,
   "metadata": {
    "collapsed": false
   },
   "outputs": [
    {
     "data": {
      "text/plain": [
       "217284141"
      ]
     },
     "execution_count": 336,
     "metadata": {},
     "output_type": "execute_result"
    }
   ],
   "source": [
    "len(res)"
   ]
  },
  {
   "cell_type": "code",
   "execution_count": 74,
   "metadata": {
    "collapsed": false
   },
   "outputs": [],
   "source": [
    "mf = DataFrame(res)"
   ]
  },
  {
   "cell_type": "code",
   "execution_count": 75,
   "metadata": {
    "collapsed": false
   },
   "outputs": [
    {
     "data": {
      "text/plain": [
       "(217284141, 5)"
      ]
     },
     "execution_count": 75,
     "metadata": {},
     "output_type": "execute_result"
    }
   ],
   "source": [
    "mf.shape"
   ]
  },
  {
   "cell_type": "code",
   "execution_count": 339,
   "metadata": {
    "collapsed": true
   },
   "outputs": [],
   "source": [
    "#mf.to_csv(mtnrdir + 'mf.txt', mode='w', header=True, index=False, sep=';')"
   ]
  },
  {
   "cell_type": "code",
   "execution_count": 142,
   "metadata": {
    "collapsed": false
   },
   "outputs": [
    {
     "data": {
      "text/plain": [
       "1"
      ]
     },
     "execution_count": 142,
     "metadata": {},
     "output_type": "execute_result"
    }
   ],
   "source": [
    "mf.drop_duplicates(inplace=True)\n",
    "1"
   ]
  },
  {
   "cell_type": "code",
   "execution_count": 483,
   "metadata": {
    "collapsed": false
   },
   "outputs": [
    {
     "data": {
      "text/html": [
       "<div>\n",
       "<table border=\"1\" class=\"dataframe\">\n",
       "  <thead>\n",
       "    <tr style=\"text-align: right;\">\n",
       "      <th></th>\n",
       "      <th>file</th>\n",
       "      <th>mtnr</th>\n",
       "      <th>rev</th>\n",
       "      <th>status</th>\n",
       "      <th>subsys</th>\n",
       "    </tr>\n",
       "  </thead>\n",
       "  <tbody>\n",
       "    <tr>\n",
       "      <th>0</th>\n",
       "      <td>.gitignore</td>\n",
       "      <td>linus torvalds</td>\n",
       "      <td>81df63a9a5f98edbfaae70729147a33a3b7690a4</td>\n",
       "      <td>Unknown</td>\n",
       "      <td>THE REST</td>\n",
       "    </tr>\n",
       "    <tr>\n",
       "      <th>1</th>\n",
       "      <td>.mailmap</td>\n",
       "      <td>linus torvalds</td>\n",
       "      <td>81df63a9a5f98edbfaae70729147a33a3b7690a4</td>\n",
       "      <td>Unknown</td>\n",
       "      <td>THE REST</td>\n",
       "    </tr>\n",
       "    <tr>\n",
       "      <th>2</th>\n",
       "      <td>COPYING</td>\n",
       "      <td>linus torvalds</td>\n",
       "      <td>81df63a9a5f98edbfaae70729147a33a3b7690a4</td>\n",
       "      <td>Unknown</td>\n",
       "      <td>THE REST</td>\n",
       "    </tr>\n",
       "    <tr>\n",
       "      <th>3</th>\n",
       "      <td>CREDITS</td>\n",
       "      <td>linus torvalds</td>\n",
       "      <td>81df63a9a5f98edbfaae70729147a33a3b7690a4</td>\n",
       "      <td>Unknown</td>\n",
       "      <td>THE REST</td>\n",
       "    </tr>\n",
       "    <tr>\n",
       "      <th>4</th>\n",
       "      <td>Documentation/.gitignore</td>\n",
       "      <td>rlandley@parallels.com</td>\n",
       "      <td>81df63a9a5f98edbfaae70729147a33a3b7690a4</td>\n",
       "      <td>Maintained</td>\n",
       "      <td>DOCUMENTATION</td>\n",
       "    </tr>\n",
       "  </tbody>\n",
       "</table>\n",
       "</div>"
      ],
      "text/plain": [
       "                       file                    mtnr  \\\n",
       "0                .gitignore          linus torvalds   \n",
       "1                  .mailmap          linus torvalds   \n",
       "2                   COPYING          linus torvalds   \n",
       "3                   CREDITS          linus torvalds   \n",
       "4  Documentation/.gitignore  rlandley@parallels.com   \n",
       "\n",
       "                                        rev      status         subsys  \n",
       "0  81df63a9a5f98edbfaae70729147a33a3b7690a4     Unknown       THE REST  \n",
       "1  81df63a9a5f98edbfaae70729147a33a3b7690a4     Unknown       THE REST  \n",
       "2  81df63a9a5f98edbfaae70729147a33a3b7690a4     Unknown       THE REST  \n",
       "3  81df63a9a5f98edbfaae70729147a33a3b7690a4     Unknown       THE REST  \n",
       "4  81df63a9a5f98edbfaae70729147a33a3b7690a4  Maintained  DOCUMENTATION  "
      ]
     },
     "execution_count": 483,
     "metadata": {},
     "output_type": "execute_result"
    }
   ],
   "source": [
    "mf.head()"
   ]
  },
  {
   "cell_type": "code",
   "execution_count": 341,
   "metadata": {
    "collapsed": false
   },
   "outputs": [
    {
     "data": {
      "text/plain": [
       "Index([u'fn', u'rev', u'cid', u'ctm', u'aid', u'atm', u'mtnrs', u'mrev',\n",
       "       u'num_mtnr', u'ownMtnr', u'anyMtnr', u'status', u'year', u'ym'],\n",
       "      dtype='object')"
      ]
     },
     "execution_count": 341,
     "metadata": {},
     "output_type": "execute_result"
    }
   ],
   "source": [
    "delta.columns"
   ]
  },
  {
   "cell_type": "code",
   "execution_count": 384,
   "metadata": {
    "collapsed": false
   },
   "outputs": [],
   "source": [
    "t = delta[delta.fn == 'MAINTAINERS'][['rev', 'ctm', 'year']].drop_duplicates()"
   ]
  },
  {
   "cell_type": "code",
   "execution_count": 385,
   "metadata": {
    "collapsed": false
   },
   "outputs": [
    {
     "data": {
      "text/plain": [
       "(3452, 3)"
      ]
     },
     "execution_count": 385,
     "metadata": {},
     "output_type": "execute_result"
    }
   ],
   "source": [
    "t.shape"
   ]
  },
  {
   "cell_type": "code",
   "execution_count": 484,
   "metadata": {
    "collapsed": false
   },
   "outputs": [
    {
     "data": {
      "text/html": [
       "<div>\n",
       "<table border=\"1\" class=\"dataframe\">\n",
       "  <thead>\n",
       "    <tr style=\"text-align: right;\">\n",
       "      <th></th>\n",
       "      <th>fn</th>\n",
       "      <th>rev</th>\n",
       "      <th>cid</th>\n",
       "      <th>ctm</th>\n",
       "      <th>aid</th>\n",
       "      <th>atm</th>\n",
       "      <th>mtnrs</th>\n",
       "      <th>mrev</th>\n",
       "      <th>num_mtnr</th>\n",
       "      <th>ownMtnr</th>\n",
       "      <th>anyMtnr</th>\n",
       "      <th>status</th>\n",
       "      <th>year</th>\n",
       "      <th>ym</th>\n",
       "    </tr>\n",
       "  </thead>\n",
       "  <tbody>\n",
       "    <tr>\n",
       "      <th>1288044</th>\n",
       "      <td>fs/cifs/asn1.c</td>\n",
       "      <td>1da177e4c3f41524e886b7f1b8a0c1fc7321cac2</td>\n",
       "      <td>linus torvalds</td>\n",
       "      <td>1113690036</td>\n",
       "      <td>linus torvalds</td>\n",
       "      <td>1113690036</td>\n",
       "      <td>linus torvalds</td>\n",
       "      <td>1da177e4c3f41524e886b7f1b8a0c1fc7321cac2</td>\n",
       "      <td>1</td>\n",
       "      <td>1</td>\n",
       "      <td>1</td>\n",
       "      <td>Unknown</td>\n",
       "      <td>2005</td>\n",
       "      <td>2005.04</td>\n",
       "    </tr>\n",
       "    <tr>\n",
       "      <th>1288045</th>\n",
       "      <td>include/asm-m32r/resource.h</td>\n",
       "      <td>1da177e4c3f41524e886b7f1b8a0c1fc7321cac2</td>\n",
       "      <td>linus torvalds</td>\n",
       "      <td>1113690036</td>\n",
       "      <td>linus torvalds</td>\n",
       "      <td>1113690036</td>\n",
       "      <td>linus torvalds</td>\n",
       "      <td>1da177e4c3f41524e886b7f1b8a0c1fc7321cac2</td>\n",
       "      <td>1</td>\n",
       "      <td>1</td>\n",
       "      <td>1</td>\n",
       "      <td>Unknown</td>\n",
       "      <td>2005</td>\n",
       "      <td>2005.04</td>\n",
       "    </tr>\n",
       "    <tr>\n",
       "      <th>1288046</th>\n",
       "      <td>arch/ppc/platforms/pal4_pci.c</td>\n",
       "      <td>1da177e4c3f41524e886b7f1b8a0c1fc7321cac2</td>\n",
       "      <td>linus torvalds</td>\n",
       "      <td>1113690036</td>\n",
       "      <td>linus torvalds</td>\n",
       "      <td>1113690036</td>\n",
       "      <td>linus torvalds</td>\n",
       "      <td>1da177e4c3f41524e886b7f1b8a0c1fc7321cac2</td>\n",
       "      <td>1</td>\n",
       "      <td>1</td>\n",
       "      <td>1</td>\n",
       "      <td>Unknown</td>\n",
       "      <td>2005</td>\n",
       "      <td>2005.04</td>\n",
       "    </tr>\n",
       "    <tr>\n",
       "      <th>1288047</th>\n",
       "      <td>include/net/sctp/command.h</td>\n",
       "      <td>1da177e4c3f41524e886b7f1b8a0c1fc7321cac2</td>\n",
       "      <td>linus torvalds</td>\n",
       "      <td>1113690036</td>\n",
       "      <td>linus torvalds</td>\n",
       "      <td>1113690036</td>\n",
       "      <td>linus torvalds</td>\n",
       "      <td>1da177e4c3f41524e886b7f1b8a0c1fc7321cac2</td>\n",
       "      <td>1</td>\n",
       "      <td>1</td>\n",
       "      <td>1</td>\n",
       "      <td>Unknown</td>\n",
       "      <td>2005</td>\n",
       "      <td>2005.04</td>\n",
       "    </tr>\n",
       "    <tr>\n",
       "      <th>1288048</th>\n",
       "      <td>drivers/isdn/hisax/ipac.h</td>\n",
       "      <td>1da177e4c3f41524e886b7f1b8a0c1fc7321cac2</td>\n",
       "      <td>linus torvalds</td>\n",
       "      <td>1113690036</td>\n",
       "      <td>linus torvalds</td>\n",
       "      <td>1113690036</td>\n",
       "      <td>linus torvalds</td>\n",
       "      <td>1da177e4c3f41524e886b7f1b8a0c1fc7321cac2</td>\n",
       "      <td>1</td>\n",
       "      <td>1</td>\n",
       "      <td>1</td>\n",
       "      <td>Unknown</td>\n",
       "      <td>2005</td>\n",
       "      <td>2005.04</td>\n",
       "    </tr>\n",
       "  </tbody>\n",
       "</table>\n",
       "</div>"
      ],
      "text/plain": [
       "                                    fn  \\\n",
       "1288044                 fs/cifs/asn1.c   \n",
       "1288045    include/asm-m32r/resource.h   \n",
       "1288046  arch/ppc/platforms/pal4_pci.c   \n",
       "1288047     include/net/sctp/command.h   \n",
       "1288048      drivers/isdn/hisax/ipac.h   \n",
       "\n",
       "                                              rev             cid         ctm  \\\n",
       "1288044  1da177e4c3f41524e886b7f1b8a0c1fc7321cac2  linus torvalds  1113690036   \n",
       "1288045  1da177e4c3f41524e886b7f1b8a0c1fc7321cac2  linus torvalds  1113690036   \n",
       "1288046  1da177e4c3f41524e886b7f1b8a0c1fc7321cac2  linus torvalds  1113690036   \n",
       "1288047  1da177e4c3f41524e886b7f1b8a0c1fc7321cac2  linus torvalds  1113690036   \n",
       "1288048  1da177e4c3f41524e886b7f1b8a0c1fc7321cac2  linus torvalds  1113690036   \n",
       "\n",
       "                    aid         atm           mtnrs  \\\n",
       "1288044  linus torvalds  1113690036  linus torvalds   \n",
       "1288045  linus torvalds  1113690036  linus torvalds   \n",
       "1288046  linus torvalds  1113690036  linus torvalds   \n",
       "1288047  linus torvalds  1113690036  linus torvalds   \n",
       "1288048  linus torvalds  1113690036  linus torvalds   \n",
       "\n",
       "                                             mrev  num_mtnr  ownMtnr  anyMtnr  \\\n",
       "1288044  1da177e4c3f41524e886b7f1b8a0c1fc7321cac2         1        1        1   \n",
       "1288045  1da177e4c3f41524e886b7f1b8a0c1fc7321cac2         1        1        1   \n",
       "1288046  1da177e4c3f41524e886b7f1b8a0c1fc7321cac2         1        1        1   \n",
       "1288047  1da177e4c3f41524e886b7f1b8a0c1fc7321cac2         1        1        1   \n",
       "1288048  1da177e4c3f41524e886b7f1b8a0c1fc7321cac2         1        1        1   \n",
       "\n",
       "          status  year       ym  \n",
       "1288044  Unknown  2005  2005.04  \n",
       "1288045  Unknown  2005  2005.04  \n",
       "1288046  Unknown  2005  2005.04  \n",
       "1288047  Unknown  2005  2005.04  \n",
       "1288048  Unknown  2005  2005.04  "
      ]
     },
     "execution_count": 484,
     "metadata": {},
     "output_type": "execute_result"
    }
   ],
   "source": [
    "delta.head()"
   ]
  },
  {
   "cell_type": "code",
   "execution_count": 386,
   "metadata": {
    "collapsed": false
   },
   "outputs": [],
   "source": [
    "#t.shape, mh.shape, mf.shape, len(np.unique(mf.rev))"
   ]
  },
  {
   "cell_type": "code",
   "execution_count": 387,
   "metadata": {
    "collapsed": false
   },
   "outputs": [
    {
     "data": {
      "text/plain": [
       "Index([u'file', u'mtnr', u'rev', u'status', u'subsys'], dtype='object')"
      ]
     },
     "execution_count": 387,
     "metadata": {},
     "output_type": "execute_result"
    }
   ],
   "source": [
    "mf.columns"
   ]
  },
  {
   "cell_type": "code",
   "execution_count": 388,
   "metadata": {
    "collapsed": false
   },
   "outputs": [
    {
     "data": {
      "text/plain": [
       "(Index([u'file', u'mtnr', u'rev', u'status', u'subsys'], dtype='object'),\n",
       " Index([u'rev', u'ctm', u'year'], dtype='object'))"
      ]
     },
     "execution_count": 388,
     "metadata": {},
     "output_type": "execute_result"
    }
   ],
   "source": [
    "mf.columns, t.columns"
   ]
  },
  {
   "cell_type": "code",
   "execution_count": 389,
   "metadata": {
    "collapsed": false
   },
   "outputs": [],
   "source": [
    "x = mf.merge(t, on=['rev'], how='left')"
   ]
  },
  {
   "cell_type": "code",
   "execution_count": 390,
   "metadata": {
    "collapsed": false
   },
   "outputs": [
    {
     "data": {
      "text/plain": [
       "Index([u'file', u'mtnr', u'rev', u'status', u'subsys', u'ctm', u'year'], dtype='object')"
      ]
     },
     "execution_count": 390,
     "metadata": {},
     "output_type": "execute_result"
    }
   ],
   "source": [
    "x.columns"
   ]
  },
  {
   "cell_type": "code",
   "execution_count": 427,
   "metadata": {
    "collapsed": false
   },
   "outputs": [
    {
     "data": {
      "text/html": [
       "<div>\n",
       "<table border=\"1\" class=\"dataframe\">\n",
       "  <thead>\n",
       "    <tr style=\"text-align: right;\">\n",
       "      <th></th>\n",
       "      <th>file</th>\n",
       "      <th>mtnr</th>\n",
       "      <th>rev</th>\n",
       "      <th>status</th>\n",
       "      <th>subsys</th>\n",
       "      <th>ctm</th>\n",
       "      <th>year</th>\n",
       "    </tr>\n",
       "  </thead>\n",
       "  <tbody>\n",
       "    <tr>\n",
       "      <th>0</th>\n",
       "      <td>.gitignore</td>\n",
       "      <td>linus torvalds</td>\n",
       "      <td>81df63a9a5f98edbfaae70729147a33a3b7690a4</td>\n",
       "      <td>Unknown</td>\n",
       "      <td>THE REST</td>\n",
       "      <td>1389063267</td>\n",
       "      <td>2014</td>\n",
       "    </tr>\n",
       "    <tr>\n",
       "      <th>1</th>\n",
       "      <td>.mailmap</td>\n",
       "      <td>linus torvalds</td>\n",
       "      <td>81df63a9a5f98edbfaae70729147a33a3b7690a4</td>\n",
       "      <td>Unknown</td>\n",
       "      <td>THE REST</td>\n",
       "      <td>1389063267</td>\n",
       "      <td>2014</td>\n",
       "    </tr>\n",
       "    <tr>\n",
       "      <th>2</th>\n",
       "      <td>COPYING</td>\n",
       "      <td>linus torvalds</td>\n",
       "      <td>81df63a9a5f98edbfaae70729147a33a3b7690a4</td>\n",
       "      <td>Unknown</td>\n",
       "      <td>THE REST</td>\n",
       "      <td>1389063267</td>\n",
       "      <td>2014</td>\n",
       "    </tr>\n",
       "    <tr>\n",
       "      <th>3</th>\n",
       "      <td>CREDITS</td>\n",
       "      <td>linus torvalds</td>\n",
       "      <td>81df63a9a5f98edbfaae70729147a33a3b7690a4</td>\n",
       "      <td>Unknown</td>\n",
       "      <td>THE REST</td>\n",
       "      <td>1389063267</td>\n",
       "      <td>2014</td>\n",
       "    </tr>\n",
       "    <tr>\n",
       "      <th>4</th>\n",
       "      <td>Documentation/.gitignore</td>\n",
       "      <td>rlandley@parallels.com</td>\n",
       "      <td>81df63a9a5f98edbfaae70729147a33a3b7690a4</td>\n",
       "      <td>Maintained</td>\n",
       "      <td>DOCUMENTATION</td>\n",
       "      <td>1389063267</td>\n",
       "      <td>2014</td>\n",
       "    </tr>\n",
       "  </tbody>\n",
       "</table>\n",
       "</div>"
      ],
      "text/plain": [
       "                       file                    mtnr  \\\n",
       "0                .gitignore          linus torvalds   \n",
       "1                  .mailmap          linus torvalds   \n",
       "2                   COPYING          linus torvalds   \n",
       "3                   CREDITS          linus torvalds   \n",
       "4  Documentation/.gitignore  rlandley@parallels.com   \n",
       "\n",
       "                                        rev      status         subsys  \\\n",
       "0  81df63a9a5f98edbfaae70729147a33a3b7690a4     Unknown       THE REST   \n",
       "1  81df63a9a5f98edbfaae70729147a33a3b7690a4     Unknown       THE REST   \n",
       "2  81df63a9a5f98edbfaae70729147a33a3b7690a4     Unknown       THE REST   \n",
       "3  81df63a9a5f98edbfaae70729147a33a3b7690a4     Unknown       THE REST   \n",
       "4  81df63a9a5f98edbfaae70729147a33a3b7690a4  Maintained  DOCUMENTATION   \n",
       "\n",
       "          ctm  year  \n",
       "0  1389063267  2014  \n",
       "1  1389063267  2014  \n",
       "2  1389063267  2014  \n",
       "3  1389063267  2014  \n",
       "4  1389063267  2014  "
      ]
     },
     "execution_count": 427,
     "metadata": {},
     "output_type": "execute_result"
    }
   ],
   "source": [
    "x.head()"
   ]
  },
  {
   "cell_type": "code",
   "execution_count": 350,
   "metadata": {
    "collapsed": false
   },
   "outputs": [
    {
     "data": {
      "text/plain": [
       "file      0\n",
       "mtnr      0\n",
       "rev       0\n",
       "status    0\n",
       "subsys    0\n",
       "ctm       0\n",
       "year      0\n",
       "dtype: int64"
      ]
     },
     "execution_count": 350,
     "metadata": {},
     "output_type": "execute_result"
    }
   ],
   "source": [
    "x.isnull().sum()"
   ]
  },
  {
   "cell_type": "code",
   "execution_count": 362,
   "metadata": {
    "collapsed": true
   },
   "outputs": [],
   "source": [
    "dict_my_by_maintained = dict()"
   ]
  },
  {
   "cell_type": "code",
   "execution_count": 363,
   "metadata": {
    "collapsed": true
   },
   "outputs": [],
   "source": [
    "for rev in mtnr_rev.keys():\n",
    "    try:\n",
    "        y = mh['year'][mh['rev'] == rev].iloc[0] # mh may not have record of rev\n",
    "    except:\n",
    "        continue\n",
    "    mrev = mtnr_rev[rev]\n",
    "    for sysname in mrev:\n",
    "        subsys = mrev[sysname]\n",
    "        for m in subsys.mtnrs.keys():\n",
    "            my = (m, y)\n",
    "            if my not in dict_my_by_maintained:\n",
    "                dict_my_by_maintained[my] = {'subsyses':set(), \n",
    "                                             'file_list':set(), 'cfile_list':set(),\n",
    "                                             'subsys_file_list':collections.defaultdict(set), \n",
    "                                             'subsys_supported_file_list':collections.defaultdict(set), \n",
    "                                             'subsys_cfile_list':collections.defaultdict(set), \n",
    "                                             'subsys_supported_cfile_list':collections.defaultdict(set)}"
   ]
  },
  {
   "cell_type": "code",
   "execution_count": 411,
   "metadata": {
    "collapsed": true
   },
   "outputs": [],
   "source": [
    "newi = i"
   ]
  },
  {
   "cell_type": "code",
   "execution_count": 487,
   "metadata": {
    "collapsed": false
   },
   "outputs": [
    {
     "data": {
      "text/html": [
       "<div>\n",
       "<table border=\"1\" class=\"dataframe\">\n",
       "  <thead>\n",
       "    <tr style=\"text-align: right;\">\n",
       "      <th></th>\n",
       "      <th>file</th>\n",
       "      <th>mtnr</th>\n",
       "      <th>rev</th>\n",
       "      <th>status</th>\n",
       "      <th>subsys</th>\n",
       "      <th>ctm</th>\n",
       "      <th>year</th>\n",
       "    </tr>\n",
       "  </thead>\n",
       "  <tbody>\n",
       "    <tr>\n",
       "      <th>0</th>\n",
       "      <td>.gitignore</td>\n",
       "      <td>linus torvalds</td>\n",
       "      <td>81df63a9a5f98edbfaae70729147a33a3b7690a4</td>\n",
       "      <td>Unknown</td>\n",
       "      <td>THE REST</td>\n",
       "      <td>1389063267</td>\n",
       "      <td>2014</td>\n",
       "    </tr>\n",
       "    <tr>\n",
       "      <th>1</th>\n",
       "      <td>.mailmap</td>\n",
       "      <td>linus torvalds</td>\n",
       "      <td>81df63a9a5f98edbfaae70729147a33a3b7690a4</td>\n",
       "      <td>Unknown</td>\n",
       "      <td>THE REST</td>\n",
       "      <td>1389063267</td>\n",
       "      <td>2014</td>\n",
       "    </tr>\n",
       "    <tr>\n",
       "      <th>2</th>\n",
       "      <td>COPYING</td>\n",
       "      <td>linus torvalds</td>\n",
       "      <td>81df63a9a5f98edbfaae70729147a33a3b7690a4</td>\n",
       "      <td>Unknown</td>\n",
       "      <td>THE REST</td>\n",
       "      <td>1389063267</td>\n",
       "      <td>2014</td>\n",
       "    </tr>\n",
       "    <tr>\n",
       "      <th>3</th>\n",
       "      <td>CREDITS</td>\n",
       "      <td>linus torvalds</td>\n",
       "      <td>81df63a9a5f98edbfaae70729147a33a3b7690a4</td>\n",
       "      <td>Unknown</td>\n",
       "      <td>THE REST</td>\n",
       "      <td>1389063267</td>\n",
       "      <td>2014</td>\n",
       "    </tr>\n",
       "    <tr>\n",
       "      <th>4</th>\n",
       "      <td>Documentation/.gitignore</td>\n",
       "      <td>rlandley@parallels.com</td>\n",
       "      <td>81df63a9a5f98edbfaae70729147a33a3b7690a4</td>\n",
       "      <td>Maintained</td>\n",
       "      <td>DOCUMENTATION</td>\n",
       "      <td>1389063267</td>\n",
       "      <td>2014</td>\n",
       "    </tr>\n",
       "  </tbody>\n",
       "</table>\n",
       "</div>"
      ],
      "text/plain": [
       "                       file                    mtnr  \\\n",
       "0                .gitignore          linus torvalds   \n",
       "1                  .mailmap          linus torvalds   \n",
       "2                   COPYING          linus torvalds   \n",
       "3                   CREDITS          linus torvalds   \n",
       "4  Documentation/.gitignore  rlandley@parallels.com   \n",
       "\n",
       "                                        rev      status         subsys  \\\n",
       "0  81df63a9a5f98edbfaae70729147a33a3b7690a4     Unknown       THE REST   \n",
       "1  81df63a9a5f98edbfaae70729147a33a3b7690a4     Unknown       THE REST   \n",
       "2  81df63a9a5f98edbfaae70729147a33a3b7690a4     Unknown       THE REST   \n",
       "3  81df63a9a5f98edbfaae70729147a33a3b7690a4     Unknown       THE REST   \n",
       "4  81df63a9a5f98edbfaae70729147a33a3b7690a4  Maintained  DOCUMENTATION   \n",
       "\n",
       "          ctm  year  \n",
       "0  1389063267  2014  \n",
       "1  1389063267  2014  \n",
       "2  1389063267  2014  \n",
       "3  1389063267  2014  \n",
       "4  1389063267  2014  "
      ]
     },
     "execution_count": 487,
     "metadata": {},
     "output_type": "execute_result"
    }
   ],
   "source": [
    "x.head()"
   ]
  },
  {
   "cell_type": "code",
   "execution_count": 412,
   "metadata": {
    "collapsed": false
   },
   "outputs": [
    {
     "data": {
      "text/plain": [
       "(216055861, 217284141)"
      ]
     },
     "execution_count": 412,
     "metadata": {},
     "output_type": "execute_result"
    }
   ],
   "source": [
    "i, maxi"
   ]
  },
  {
   "cell_type": "code",
   "execution_count": 374,
   "metadata": {
    "collapsed": false
   },
   "outputs": [
    {
     "data": {
      "text/plain": [
       "7833"
      ]
     },
     "execution_count": 374,
     "metadata": {},
     "output_type": "execute_result"
    }
   ],
   "source": [
    "len(dict_my_by_maintained.keys())"
   ]
  },
  {
   "cell_type": "code",
   "execution_count": 376,
   "metadata": {
    "collapsed": true
   },
   "outputs": [
    {
     "data": {
      "text/plain": [
       "{'added_cfile_list': {'drivers/staging/rtl8712/hal_init.c',\n",
       "  'drivers/staging/rtl8712/ieee80211.c',\n",
       "  'drivers/staging/rtl8712/mlme_linux.c',\n",
       "  'drivers/staging/rtl8712/os_intfs.c',\n",
       "  'drivers/staging/rtl8712/recv_linux.c',\n",
       "  'drivers/staging/rtl8712/rtl8712_cmd.c',\n",
       "  'drivers/staging/rtl8712/rtl8712_efuse.c',\n",
       "  'drivers/staging/rtl8712/rtl8712_io.c',\n",
       "  'drivers/staging/rtl8712/rtl8712_led.c',\n",
       "  'drivers/staging/rtl8712/rtl8712_recv.c',\n",
       "  'drivers/staging/rtl8712/rtl8712_xmit.c',\n",
       "  'drivers/staging/rtl8712/rtl871x_cmd.c',\n",
       "  'drivers/staging/rtl8712/rtl871x_eeprom.c',\n",
       "  'drivers/staging/rtl8712/rtl871x_io.c',\n",
       "  'drivers/staging/rtl8712/rtl871x_ioctl_linux.c',\n",
       "  'drivers/staging/rtl8712/rtl871x_ioctl_rtl.c',\n",
       "  'drivers/staging/rtl8712/rtl871x_ioctl_set.c',\n",
       "  'drivers/staging/rtl8712/rtl871x_mlme.c',\n",
       "  'drivers/staging/rtl8712/rtl871x_mp.c',\n",
       "  'drivers/staging/rtl8712/rtl871x_mp_ioctl.c',\n",
       "  'drivers/staging/rtl8712/rtl871x_pwrctrl.c',\n",
       "  'drivers/staging/rtl8712/rtl871x_recv.c',\n",
       "  'drivers/staging/rtl8712/rtl871x_security.c',\n",
       "  'drivers/staging/rtl8712/rtl871x_sta_mgt.c',\n",
       "  'drivers/staging/rtl8712/rtl871x_xmit.c',\n",
       "  'drivers/staging/rtl8712/usb_halinit.c',\n",
       "  'drivers/staging/rtl8712/usb_intf.c',\n",
       "  'drivers/staging/rtl8712/usb_ops.c',\n",
       "  'drivers/staging/rtl8712/usb_ops_linux.c',\n",
       "  'drivers/staging/rtl8712/xmit_linux.c'},\n",
       " 'added_file_list': {'drivers/staging/rtl8712/Kconfig',\n",
       "  'drivers/staging/rtl8712/Makefile',\n",
       "  'drivers/staging/rtl8712/TODO',\n",
       "  'drivers/staging/rtl8712/basic_types.h',\n",
       "  'drivers/staging/rtl8712/big_endian.h',\n",
       "  'drivers/staging/rtl8712/drv_types.h',\n",
       "  'drivers/staging/rtl8712/ethernet.h',\n",
       "  'drivers/staging/rtl8712/generic.h',\n",
       "  'drivers/staging/rtl8712/hal_init.c',\n",
       "  'drivers/staging/rtl8712/ieee80211.c',\n",
       "  'drivers/staging/rtl8712/ieee80211.h',\n",
       "  'drivers/staging/rtl8712/if_ether.h',\n",
       "  'drivers/staging/rtl8712/ip.h',\n",
       "  'drivers/staging/rtl8712/little_endian.h',\n",
       "  'drivers/staging/rtl8712/mlme_linux.c',\n",
       "  'drivers/staging/rtl8712/mlme_osdep.h',\n",
       "  'drivers/staging/rtl8712/mp_custom_oid.h',\n",
       "  'drivers/staging/rtl8712/os_intfs.c',\n",
       "  'drivers/staging/rtl8712/osdep_intf.h',\n",
       "  'drivers/staging/rtl8712/osdep_service.h',\n",
       "  'drivers/staging/rtl8712/recv_linux.c',\n",
       "  'drivers/staging/rtl8712/recv_osdep.h',\n",
       "  'drivers/staging/rtl8712/rtl8712_bitdef.h',\n",
       "  'drivers/staging/rtl8712/rtl8712_cmd.c',\n",
       "  'drivers/staging/rtl8712/rtl8712_cmd.h',\n",
       "  'drivers/staging/rtl8712/rtl8712_cmdctrl_bitdef.h',\n",
       "  'drivers/staging/rtl8712/rtl8712_cmdctrl_regdef.h',\n",
       "  'drivers/staging/rtl8712/rtl8712_debugctrl_bitdef.h',\n",
       "  'drivers/staging/rtl8712/rtl8712_debugctrl_regdef.h',\n",
       "  'drivers/staging/rtl8712/rtl8712_edcasetting_bitdef.h',\n",
       "  'drivers/staging/rtl8712/rtl8712_edcasetting_regdef.h',\n",
       "  'drivers/staging/rtl8712/rtl8712_efuse.c',\n",
       "  'drivers/staging/rtl8712/rtl8712_efuse.h',\n",
       "  'drivers/staging/rtl8712/rtl8712_event.h',\n",
       "  'drivers/staging/rtl8712/rtl8712_fifoctrl_bitdef.h',\n",
       "  'drivers/staging/rtl8712/rtl8712_fifoctrl_regdef.h',\n",
       "  'drivers/staging/rtl8712/rtl8712_gp_bitdef.h',\n",
       "  'drivers/staging/rtl8712/rtl8712_gp_regdef.h',\n",
       "  'drivers/staging/rtl8712/rtl8712_hal.h',\n",
       "  'drivers/staging/rtl8712/rtl8712_interrupt_bitdef.h',\n",
       "  'drivers/staging/rtl8712/rtl8712_io.c',\n",
       "  'drivers/staging/rtl8712/rtl8712_led.c',\n",
       "  'drivers/staging/rtl8712/rtl8712_macsetting_bitdef.h',\n",
       "  'drivers/staging/rtl8712/rtl8712_macsetting_regdef.h',\n",
       "  'drivers/staging/rtl8712/rtl8712_powersave_bitdef.h',\n",
       "  'drivers/staging/rtl8712/rtl8712_powersave_regdef.h',\n",
       "  'drivers/staging/rtl8712/rtl8712_ratectrl_bitdef.h',\n",
       "  'drivers/staging/rtl8712/rtl8712_ratectrl_regdef.h',\n",
       "  'drivers/staging/rtl8712/rtl8712_recv.c',\n",
       "  'drivers/staging/rtl8712/rtl8712_recv.h',\n",
       "  'drivers/staging/rtl8712/rtl8712_regdef.h',\n",
       "  'drivers/staging/rtl8712/rtl8712_security_bitdef.h',\n",
       "  'drivers/staging/rtl8712/rtl8712_spec.h',\n",
       "  'drivers/staging/rtl8712/rtl8712_syscfg_bitdef.h',\n",
       "  'drivers/staging/rtl8712/rtl8712_syscfg_regdef.h',\n",
       "  'drivers/staging/rtl8712/rtl8712_timectrl_bitdef.h',\n",
       "  'drivers/staging/rtl8712/rtl8712_timectrl_regdef.h',\n",
       "  'drivers/staging/rtl8712/rtl8712_wmac_bitdef.h',\n",
       "  'drivers/staging/rtl8712/rtl8712_wmac_regdef.h',\n",
       "  'drivers/staging/rtl8712/rtl8712_xmit.c',\n",
       "  'drivers/staging/rtl8712/rtl8712_xmit.h',\n",
       "  'drivers/staging/rtl8712/rtl871x_byteorder.h',\n",
       "  'drivers/staging/rtl8712/rtl871x_cmd.c',\n",
       "  'drivers/staging/rtl8712/rtl871x_cmd.h',\n",
       "  'drivers/staging/rtl8712/rtl871x_debug.h',\n",
       "  'drivers/staging/rtl8712/rtl871x_eeprom.c',\n",
       "  'drivers/staging/rtl8712/rtl871x_eeprom.h',\n",
       "  'drivers/staging/rtl8712/rtl871x_event.h',\n",
       "  'drivers/staging/rtl8712/rtl871x_ht.h',\n",
       "  'drivers/staging/rtl8712/rtl871x_io.c',\n",
       "  'drivers/staging/rtl8712/rtl871x_io.h',\n",
       "  'drivers/staging/rtl8712/rtl871x_ioctl.h',\n",
       "  'drivers/staging/rtl8712/rtl871x_ioctl_linux.c',\n",
       "  'drivers/staging/rtl8712/rtl871x_ioctl_rtl.c',\n",
       "  'drivers/staging/rtl8712/rtl871x_ioctl_rtl.h',\n",
       "  'drivers/staging/rtl8712/rtl871x_ioctl_set.c',\n",
       "  'drivers/staging/rtl8712/rtl871x_ioctl_set.h',\n",
       "  'drivers/staging/rtl8712/rtl871x_led.h',\n",
       "  'drivers/staging/rtl8712/rtl871x_mlme.c',\n",
       "  'drivers/staging/rtl8712/rtl871x_mlme.h',\n",
       "  'drivers/staging/rtl8712/rtl871x_mp.c',\n",
       "  'drivers/staging/rtl8712/rtl871x_mp.h',\n",
       "  'drivers/staging/rtl8712/rtl871x_mp_ioctl.c',\n",
       "  'drivers/staging/rtl8712/rtl871x_mp_ioctl.h',\n",
       "  'drivers/staging/rtl8712/rtl871x_mp_phy_regdef.h',\n",
       "  'drivers/staging/rtl8712/rtl871x_pwrctrl.c',\n",
       "  'drivers/staging/rtl8712/rtl871x_pwrctrl.h',\n",
       "  'drivers/staging/rtl8712/rtl871x_recv.c',\n",
       "  'drivers/staging/rtl8712/rtl871x_recv.h',\n",
       "  'drivers/staging/rtl8712/rtl871x_rf.h',\n",
       "  'drivers/staging/rtl8712/rtl871x_security.c',\n",
       "  'drivers/staging/rtl8712/rtl871x_security.h',\n",
       "  'drivers/staging/rtl8712/rtl871x_sta_mgt.c',\n",
       "  'drivers/staging/rtl8712/rtl871x_wlan_sme.h',\n",
       "  'drivers/staging/rtl8712/rtl871x_xmit.c',\n",
       "  'drivers/staging/rtl8712/rtl871x_xmit.h',\n",
       "  'drivers/staging/rtl8712/sta_info.h',\n",
       "  'drivers/staging/rtl8712/swab.h',\n",
       "  'drivers/staging/rtl8712/usb_halinit.c',\n",
       "  'drivers/staging/rtl8712/usb_intf.c',\n",
       "  'drivers/staging/rtl8712/usb_ops.c',\n",
       "  'drivers/staging/rtl8712/usb_ops.h',\n",
       "  'drivers/staging/rtl8712/usb_ops_linux.c',\n",
       "  'drivers/staging/rtl8712/usb_osintf.h',\n",
       "  'drivers/staging/rtl8712/usb_vendor_req.h',\n",
       "  'drivers/staging/rtl8712/wifi.h',\n",
       "  'drivers/staging/rtl8712/wlan_bssdef.h',\n",
       "  'drivers/staging/rtl8712/xmit_linux.c',\n",
       "  'drivers/staging/rtl8712/xmit_osdep.h'},\n",
       " 'cfile_list': {'drivers/staging/rtl8712/hal_init.c',\n",
       "  'drivers/staging/rtl8712/ieee80211.c',\n",
       "  'drivers/staging/rtl8712/mlme_linux.c',\n",
       "  'drivers/staging/rtl8712/os_intfs.c',\n",
       "  'drivers/staging/rtl8712/recv_linux.c',\n",
       "  'drivers/staging/rtl8712/rtl8712_cmd.c',\n",
       "  'drivers/staging/rtl8712/rtl8712_efuse.c',\n",
       "  'drivers/staging/rtl8712/rtl8712_io.c',\n",
       "  'drivers/staging/rtl8712/rtl8712_led.c',\n",
       "  'drivers/staging/rtl8712/rtl8712_recv.c',\n",
       "  'drivers/staging/rtl8712/rtl8712_xmit.c',\n",
       "  'drivers/staging/rtl8712/rtl871x_cmd.c',\n",
       "  'drivers/staging/rtl8712/rtl871x_eeprom.c',\n",
       "  'drivers/staging/rtl8712/rtl871x_io.c',\n",
       "  'drivers/staging/rtl8712/rtl871x_ioctl_linux.c',\n",
       "  'drivers/staging/rtl8712/rtl871x_ioctl_rtl.c',\n",
       "  'drivers/staging/rtl8712/rtl871x_ioctl_set.c',\n",
       "  'drivers/staging/rtl8712/rtl871x_mlme.c',\n",
       "  'drivers/staging/rtl8712/rtl871x_mp.c',\n",
       "  'drivers/staging/rtl8712/rtl871x_mp_ioctl.c',\n",
       "  'drivers/staging/rtl8712/rtl871x_pwrctrl.c',\n",
       "  'drivers/staging/rtl8712/rtl871x_recv.c',\n",
       "  'drivers/staging/rtl8712/rtl871x_security.c',\n",
       "  'drivers/staging/rtl8712/rtl871x_sta_mgt.c',\n",
       "  'drivers/staging/rtl8712/rtl871x_xmit.c',\n",
       "  'drivers/staging/rtl8712/usb_halinit.c',\n",
       "  'drivers/staging/rtl8712/usb_intf.c',\n",
       "  'drivers/staging/rtl8712/usb_ops.c',\n",
       "  'drivers/staging/rtl8712/usb_ops_linux.c',\n",
       "  'drivers/staging/rtl8712/xmit_linux.c'},\n",
       " 'deled_cfile_list': [],\n",
       " 'deled_file_list': [],\n",
       " 'file_list': {'drivers/staging/rtl8712/Kconfig',\n",
       "  'drivers/staging/rtl8712/Makefile',\n",
       "  'drivers/staging/rtl8712/TODO',\n",
       "  'drivers/staging/rtl8712/basic_types.h',\n",
       "  'drivers/staging/rtl8712/big_endian.h',\n",
       "  'drivers/staging/rtl8712/drv_types.h',\n",
       "  'drivers/staging/rtl8712/ethernet.h',\n",
       "  'drivers/staging/rtl8712/generic.h',\n",
       "  'drivers/staging/rtl8712/hal_init.c',\n",
       "  'drivers/staging/rtl8712/ieee80211.c',\n",
       "  'drivers/staging/rtl8712/ieee80211.h',\n",
       "  'drivers/staging/rtl8712/if_ether.h',\n",
       "  'drivers/staging/rtl8712/ip.h',\n",
       "  'drivers/staging/rtl8712/little_endian.h',\n",
       "  'drivers/staging/rtl8712/mlme_linux.c',\n",
       "  'drivers/staging/rtl8712/mlme_osdep.h',\n",
       "  'drivers/staging/rtl8712/mp_custom_oid.h',\n",
       "  'drivers/staging/rtl8712/os_intfs.c',\n",
       "  'drivers/staging/rtl8712/osdep_intf.h',\n",
       "  'drivers/staging/rtl8712/osdep_service.h',\n",
       "  'drivers/staging/rtl8712/recv_linux.c',\n",
       "  'drivers/staging/rtl8712/recv_osdep.h',\n",
       "  'drivers/staging/rtl8712/rtl8712_bitdef.h',\n",
       "  'drivers/staging/rtl8712/rtl8712_cmd.c',\n",
       "  'drivers/staging/rtl8712/rtl8712_cmd.h',\n",
       "  'drivers/staging/rtl8712/rtl8712_cmdctrl_bitdef.h',\n",
       "  'drivers/staging/rtl8712/rtl8712_cmdctrl_regdef.h',\n",
       "  'drivers/staging/rtl8712/rtl8712_debugctrl_bitdef.h',\n",
       "  'drivers/staging/rtl8712/rtl8712_debugctrl_regdef.h',\n",
       "  'drivers/staging/rtl8712/rtl8712_edcasetting_bitdef.h',\n",
       "  'drivers/staging/rtl8712/rtl8712_edcasetting_regdef.h',\n",
       "  'drivers/staging/rtl8712/rtl8712_efuse.c',\n",
       "  'drivers/staging/rtl8712/rtl8712_efuse.h',\n",
       "  'drivers/staging/rtl8712/rtl8712_event.h',\n",
       "  'drivers/staging/rtl8712/rtl8712_fifoctrl_bitdef.h',\n",
       "  'drivers/staging/rtl8712/rtl8712_fifoctrl_regdef.h',\n",
       "  'drivers/staging/rtl8712/rtl8712_gp_bitdef.h',\n",
       "  'drivers/staging/rtl8712/rtl8712_gp_regdef.h',\n",
       "  'drivers/staging/rtl8712/rtl8712_hal.h',\n",
       "  'drivers/staging/rtl8712/rtl8712_interrupt_bitdef.h',\n",
       "  'drivers/staging/rtl8712/rtl8712_io.c',\n",
       "  'drivers/staging/rtl8712/rtl8712_led.c',\n",
       "  'drivers/staging/rtl8712/rtl8712_macsetting_bitdef.h',\n",
       "  'drivers/staging/rtl8712/rtl8712_macsetting_regdef.h',\n",
       "  'drivers/staging/rtl8712/rtl8712_powersave_bitdef.h',\n",
       "  'drivers/staging/rtl8712/rtl8712_powersave_regdef.h',\n",
       "  'drivers/staging/rtl8712/rtl8712_ratectrl_bitdef.h',\n",
       "  'drivers/staging/rtl8712/rtl8712_ratectrl_regdef.h',\n",
       "  'drivers/staging/rtl8712/rtl8712_recv.c',\n",
       "  'drivers/staging/rtl8712/rtl8712_recv.h',\n",
       "  'drivers/staging/rtl8712/rtl8712_regdef.h',\n",
       "  'drivers/staging/rtl8712/rtl8712_security_bitdef.h',\n",
       "  'drivers/staging/rtl8712/rtl8712_spec.h',\n",
       "  'drivers/staging/rtl8712/rtl8712_syscfg_bitdef.h',\n",
       "  'drivers/staging/rtl8712/rtl8712_syscfg_regdef.h',\n",
       "  'drivers/staging/rtl8712/rtl8712_timectrl_bitdef.h',\n",
       "  'drivers/staging/rtl8712/rtl8712_timectrl_regdef.h',\n",
       "  'drivers/staging/rtl8712/rtl8712_wmac_bitdef.h',\n",
       "  'drivers/staging/rtl8712/rtl8712_wmac_regdef.h',\n",
       "  'drivers/staging/rtl8712/rtl8712_xmit.c',\n",
       "  'drivers/staging/rtl8712/rtl8712_xmit.h',\n",
       "  'drivers/staging/rtl8712/rtl871x_byteorder.h',\n",
       "  'drivers/staging/rtl8712/rtl871x_cmd.c',\n",
       "  'drivers/staging/rtl8712/rtl871x_cmd.h',\n",
       "  'drivers/staging/rtl8712/rtl871x_debug.h',\n",
       "  'drivers/staging/rtl8712/rtl871x_eeprom.c',\n",
       "  'drivers/staging/rtl8712/rtl871x_eeprom.h',\n",
       "  'drivers/staging/rtl8712/rtl871x_event.h',\n",
       "  'drivers/staging/rtl8712/rtl871x_ht.h',\n",
       "  'drivers/staging/rtl8712/rtl871x_io.c',\n",
       "  'drivers/staging/rtl8712/rtl871x_io.h',\n",
       "  'drivers/staging/rtl8712/rtl871x_ioctl.h',\n",
       "  'drivers/staging/rtl8712/rtl871x_ioctl_linux.c',\n",
       "  'drivers/staging/rtl8712/rtl871x_ioctl_rtl.c',\n",
       "  'drivers/staging/rtl8712/rtl871x_ioctl_rtl.h',\n",
       "  'drivers/staging/rtl8712/rtl871x_ioctl_set.c',\n",
       "  'drivers/staging/rtl8712/rtl871x_ioctl_set.h',\n",
       "  'drivers/staging/rtl8712/rtl871x_led.h',\n",
       "  'drivers/staging/rtl8712/rtl871x_mlme.c',\n",
       "  'drivers/staging/rtl8712/rtl871x_mlme.h',\n",
       "  'drivers/staging/rtl8712/rtl871x_mp.c',\n",
       "  'drivers/staging/rtl8712/rtl871x_mp.h',\n",
       "  'drivers/staging/rtl8712/rtl871x_mp_ioctl.c',\n",
       "  'drivers/staging/rtl8712/rtl871x_mp_ioctl.h',\n",
       "  'drivers/staging/rtl8712/rtl871x_mp_phy_regdef.h',\n",
       "  'drivers/staging/rtl8712/rtl871x_pwrctrl.c',\n",
       "  'drivers/staging/rtl8712/rtl871x_pwrctrl.h',\n",
       "  'drivers/staging/rtl8712/rtl871x_recv.c',\n",
       "  'drivers/staging/rtl8712/rtl871x_recv.h',\n",
       "  'drivers/staging/rtl8712/rtl871x_rf.h',\n",
       "  'drivers/staging/rtl8712/rtl871x_security.c',\n",
       "  'drivers/staging/rtl8712/rtl871x_security.h',\n",
       "  'drivers/staging/rtl8712/rtl871x_sta_mgt.c',\n",
       "  'drivers/staging/rtl8712/rtl871x_wlan_sme.h',\n",
       "  'drivers/staging/rtl8712/rtl871x_xmit.c',\n",
       "  'drivers/staging/rtl8712/rtl871x_xmit.h',\n",
       "  'drivers/staging/rtl8712/sta_info.h',\n",
       "  'drivers/staging/rtl8712/swab.h',\n",
       "  'drivers/staging/rtl8712/usb_halinit.c',\n",
       "  'drivers/staging/rtl8712/usb_intf.c',\n",
       "  'drivers/staging/rtl8712/usb_ops.c',\n",
       "  'drivers/staging/rtl8712/usb_ops.h',\n",
       "  'drivers/staging/rtl8712/usb_ops_linux.c',\n",
       "  'drivers/staging/rtl8712/usb_osintf.h',\n",
       "  'drivers/staging/rtl8712/usb_vendor_req.h',\n",
       "  'drivers/staging/rtl8712/wifi.h',\n",
       "  'drivers/staging/rtl8712/wlan_bssdef.h',\n",
       "  'drivers/staging/rtl8712/xmit_linux.c',\n",
       "  'drivers/staging/rtl8712/xmit_osdep.h'},\n",
       " 'subsys_cfile_list': defaultdict(set,\n",
       "             {'STAGING - REALTEK RTL8712U DRIVERS': {'drivers/staging/rtl8712/hal_init.c',\n",
       "               'drivers/staging/rtl8712/ieee80211.c',\n",
       "               'drivers/staging/rtl8712/mlme_linux.c',\n",
       "               'drivers/staging/rtl8712/os_intfs.c',\n",
       "               'drivers/staging/rtl8712/recv_linux.c',\n",
       "               'drivers/staging/rtl8712/rtl8712_cmd.c',\n",
       "               'drivers/staging/rtl8712/rtl8712_efuse.c',\n",
       "               'drivers/staging/rtl8712/rtl8712_io.c',\n",
       "               'drivers/staging/rtl8712/rtl8712_led.c',\n",
       "               'drivers/staging/rtl8712/rtl8712_recv.c',\n",
       "               'drivers/staging/rtl8712/rtl8712_xmit.c',\n",
       "               'drivers/staging/rtl8712/rtl871x_cmd.c',\n",
       "               'drivers/staging/rtl8712/rtl871x_eeprom.c',\n",
       "               'drivers/staging/rtl8712/rtl871x_io.c',\n",
       "               'drivers/staging/rtl8712/rtl871x_ioctl_linux.c',\n",
       "               'drivers/staging/rtl8712/rtl871x_ioctl_rtl.c',\n",
       "               'drivers/staging/rtl8712/rtl871x_ioctl_set.c',\n",
       "               'drivers/staging/rtl8712/rtl871x_mlme.c',\n",
       "               'drivers/staging/rtl8712/rtl871x_mp.c',\n",
       "               'drivers/staging/rtl8712/rtl871x_mp_ioctl.c',\n",
       "               'drivers/staging/rtl8712/rtl871x_pwrctrl.c',\n",
       "               'drivers/staging/rtl8712/rtl871x_recv.c',\n",
       "               'drivers/staging/rtl8712/rtl871x_security.c',\n",
       "               'drivers/staging/rtl8712/rtl871x_sta_mgt.c',\n",
       "               'drivers/staging/rtl8712/rtl871x_xmit.c',\n",
       "               'drivers/staging/rtl8712/usb_halinit.c',\n",
       "               'drivers/staging/rtl8712/usb_intf.c',\n",
       "               'drivers/staging/rtl8712/usb_ops.c',\n",
       "               'drivers/staging/rtl8712/usb_ops_linux.c',\n",
       "               'drivers/staging/rtl8712/xmit_linux.c'}}),\n",
       " 'subsys_file_list': defaultdict(set,\n",
       "             {'STAGING - REALTEK RTL8712U DRIVERS': {'drivers/staging/rtl8712/Kconfig',\n",
       "               'drivers/staging/rtl8712/Makefile',\n",
       "               'drivers/staging/rtl8712/TODO',\n",
       "               'drivers/staging/rtl8712/basic_types.h',\n",
       "               'drivers/staging/rtl8712/big_endian.h',\n",
       "               'drivers/staging/rtl8712/drv_types.h',\n",
       "               'drivers/staging/rtl8712/ethernet.h',\n",
       "               'drivers/staging/rtl8712/generic.h',\n",
       "               'drivers/staging/rtl8712/hal_init.c',\n",
       "               'drivers/staging/rtl8712/ieee80211.c',\n",
       "               'drivers/staging/rtl8712/ieee80211.h',\n",
       "               'drivers/staging/rtl8712/if_ether.h',\n",
       "               'drivers/staging/rtl8712/ip.h',\n",
       "               'drivers/staging/rtl8712/little_endian.h',\n",
       "               'drivers/staging/rtl8712/mlme_linux.c',\n",
       "               'drivers/staging/rtl8712/mlme_osdep.h',\n",
       "               'drivers/staging/rtl8712/mp_custom_oid.h',\n",
       "               'drivers/staging/rtl8712/os_intfs.c',\n",
       "               'drivers/staging/rtl8712/osdep_intf.h',\n",
       "               'drivers/staging/rtl8712/osdep_service.h',\n",
       "               'drivers/staging/rtl8712/recv_linux.c',\n",
       "               'drivers/staging/rtl8712/recv_osdep.h',\n",
       "               'drivers/staging/rtl8712/rtl8712_bitdef.h',\n",
       "               'drivers/staging/rtl8712/rtl8712_cmd.c',\n",
       "               'drivers/staging/rtl8712/rtl8712_cmd.h',\n",
       "               'drivers/staging/rtl8712/rtl8712_cmdctrl_bitdef.h',\n",
       "               'drivers/staging/rtl8712/rtl8712_cmdctrl_regdef.h',\n",
       "               'drivers/staging/rtl8712/rtl8712_debugctrl_bitdef.h',\n",
       "               'drivers/staging/rtl8712/rtl8712_debugctrl_regdef.h',\n",
       "               'drivers/staging/rtl8712/rtl8712_edcasetting_bitdef.h',\n",
       "               'drivers/staging/rtl8712/rtl8712_edcasetting_regdef.h',\n",
       "               'drivers/staging/rtl8712/rtl8712_efuse.c',\n",
       "               'drivers/staging/rtl8712/rtl8712_efuse.h',\n",
       "               'drivers/staging/rtl8712/rtl8712_event.h',\n",
       "               'drivers/staging/rtl8712/rtl8712_fifoctrl_bitdef.h',\n",
       "               'drivers/staging/rtl8712/rtl8712_fifoctrl_regdef.h',\n",
       "               'drivers/staging/rtl8712/rtl8712_gp_bitdef.h',\n",
       "               'drivers/staging/rtl8712/rtl8712_gp_regdef.h',\n",
       "               'drivers/staging/rtl8712/rtl8712_hal.h',\n",
       "               'drivers/staging/rtl8712/rtl8712_interrupt_bitdef.h',\n",
       "               'drivers/staging/rtl8712/rtl8712_io.c',\n",
       "               'drivers/staging/rtl8712/rtl8712_led.c',\n",
       "               'drivers/staging/rtl8712/rtl8712_macsetting_bitdef.h',\n",
       "               'drivers/staging/rtl8712/rtl8712_macsetting_regdef.h',\n",
       "               'drivers/staging/rtl8712/rtl8712_powersave_bitdef.h',\n",
       "               'drivers/staging/rtl8712/rtl8712_powersave_regdef.h',\n",
       "               'drivers/staging/rtl8712/rtl8712_ratectrl_bitdef.h',\n",
       "               'drivers/staging/rtl8712/rtl8712_ratectrl_regdef.h',\n",
       "               'drivers/staging/rtl8712/rtl8712_recv.c',\n",
       "               'drivers/staging/rtl8712/rtl8712_recv.h',\n",
       "               'drivers/staging/rtl8712/rtl8712_regdef.h',\n",
       "               'drivers/staging/rtl8712/rtl8712_security_bitdef.h',\n",
       "               'drivers/staging/rtl8712/rtl8712_spec.h',\n",
       "               'drivers/staging/rtl8712/rtl8712_syscfg_bitdef.h',\n",
       "               'drivers/staging/rtl8712/rtl8712_syscfg_regdef.h',\n",
       "               'drivers/staging/rtl8712/rtl8712_timectrl_bitdef.h',\n",
       "               'drivers/staging/rtl8712/rtl8712_timectrl_regdef.h',\n",
       "               'drivers/staging/rtl8712/rtl8712_wmac_bitdef.h',\n",
       "               'drivers/staging/rtl8712/rtl8712_wmac_regdef.h',\n",
       "               'drivers/staging/rtl8712/rtl8712_xmit.c',\n",
       "               'drivers/staging/rtl8712/rtl8712_xmit.h',\n",
       "               'drivers/staging/rtl8712/rtl871x_byteorder.h',\n",
       "               'drivers/staging/rtl8712/rtl871x_cmd.c',\n",
       "               'drivers/staging/rtl8712/rtl871x_cmd.h',\n",
       "               'drivers/staging/rtl8712/rtl871x_debug.h',\n",
       "               'drivers/staging/rtl8712/rtl871x_eeprom.c',\n",
       "               'drivers/staging/rtl8712/rtl871x_eeprom.h',\n",
       "               'drivers/staging/rtl8712/rtl871x_event.h',\n",
       "               'drivers/staging/rtl8712/rtl871x_ht.h',\n",
       "               'drivers/staging/rtl8712/rtl871x_io.c',\n",
       "               'drivers/staging/rtl8712/rtl871x_io.h',\n",
       "               'drivers/staging/rtl8712/rtl871x_ioctl.h',\n",
       "               'drivers/staging/rtl8712/rtl871x_ioctl_linux.c',\n",
       "               'drivers/staging/rtl8712/rtl871x_ioctl_rtl.c',\n",
       "               'drivers/staging/rtl8712/rtl871x_ioctl_rtl.h',\n",
       "               'drivers/staging/rtl8712/rtl871x_ioctl_set.c',\n",
       "               'drivers/staging/rtl8712/rtl871x_ioctl_set.h',\n",
       "               'drivers/staging/rtl8712/rtl871x_led.h',\n",
       "               'drivers/staging/rtl8712/rtl871x_mlme.c',\n",
       "               'drivers/staging/rtl8712/rtl871x_mlme.h',\n",
       "               'drivers/staging/rtl8712/rtl871x_mp.c',\n",
       "               'drivers/staging/rtl8712/rtl871x_mp.h',\n",
       "               'drivers/staging/rtl8712/rtl871x_mp_ioctl.c',\n",
       "               'drivers/staging/rtl8712/rtl871x_mp_ioctl.h',\n",
       "               'drivers/staging/rtl8712/rtl871x_mp_phy_regdef.h',\n",
       "               'drivers/staging/rtl8712/rtl871x_pwrctrl.c',\n",
       "               'drivers/staging/rtl8712/rtl871x_pwrctrl.h',\n",
       "               'drivers/staging/rtl8712/rtl871x_recv.c',\n",
       "               'drivers/staging/rtl8712/rtl871x_recv.h',\n",
       "               'drivers/staging/rtl8712/rtl871x_rf.h',\n",
       "               'drivers/staging/rtl8712/rtl871x_security.c',\n",
       "               'drivers/staging/rtl8712/rtl871x_security.h',\n",
       "               'drivers/staging/rtl8712/rtl871x_sta_mgt.c',\n",
       "               'drivers/staging/rtl8712/rtl871x_wlan_sme.h',\n",
       "               'drivers/staging/rtl8712/rtl871x_xmit.c',\n",
       "               'drivers/staging/rtl8712/rtl871x_xmit.h',\n",
       "               'drivers/staging/rtl8712/sta_info.h',\n",
       "               'drivers/staging/rtl8712/swab.h',\n",
       "               'drivers/staging/rtl8712/usb_halinit.c',\n",
       "               'drivers/staging/rtl8712/usb_intf.c',\n",
       "               'drivers/staging/rtl8712/usb_ops.c',\n",
       "               'drivers/staging/rtl8712/usb_ops.h',\n",
       "               'drivers/staging/rtl8712/usb_ops_linux.c',\n",
       "               'drivers/staging/rtl8712/usb_osintf.h',\n",
       "               'drivers/staging/rtl8712/usb_vendor_req.h',\n",
       "               'drivers/staging/rtl8712/wifi.h',\n",
       "               'drivers/staging/rtl8712/wlan_bssdef.h',\n",
       "               'drivers/staging/rtl8712/xmit_linux.c',\n",
       "               'drivers/staging/rtl8712/xmit_osdep.h'}}),\n",
       " 'subsys_supported_cfile_list': defaultdict(set, {}),\n",
       " 'subsys_supported_file_list': defaultdict(set, {}),\n",
       " 'subsyses': {'STAGING - REALTEK RTL8712U DRIVERS'}}"
      ]
     },
     "execution_count": 376,
     "metadata": {},
     "output_type": "execute_result"
    }
   ],
   "source": [
    "dict_my_by_maintained[dict_my_by_maintained.keys()[0]]"
   ]
  },
  {
   "cell_type": "code",
   "execution_count": 410,
   "metadata": {
    "collapsed": false
   },
   "outputs": [
    {
     "data": {
      "text/plain": [
       "(20473512, 216055861, (217284141, 7))"
      ]
     },
     "execution_count": 410,
     "metadata": {},
     "output_type": "execute_result"
    }
   ],
   "source": [
    "newi, i, x.shape"
   ]
  },
  {
   "cell_type": "code",
   "execution_count": null,
   "metadata": {
    "collapsed": true
   },
   "outputs": [],
   "source": []
  },
  {
   "cell_type": "code",
   "execution_count": 413,
   "metadata": {
    "collapsed": false
   },
   "outputs": [
    {
     "name": "stdout",
     "output_type": "stream",
     "text": [
      "0 1 2 3 4 5 6 7 8 9 10 11 12 13 14 15 16 17 18 19 20 21 22 23 24 25 26 27 28 29 30 31 32 33 34 35 36 37 38 39 40 41 42 43 44 45 46 47 48 49 50 51 52 53 54 55 56 57 58 59 60 61 62 63 64 65 66 67 68 69 70 71 72 73 74 75 76 77 78 79 80 81 82 83 84 85 86 87 88 89 90 91 92 93 94 95 96 97 98 99 100 101 102 103 104 105 106 107 108\n"
     ]
    }
   ],
   "source": [
    "maxi = x.shape[0]\n",
    "for i, idx in enumerate(x.index):\n",
    "    if i % 2000000 == 0:\n",
    "        print i / 2000000,\n",
    "    if i < newi:\n",
    "        continue\n",
    "    m, y, ss, f, st = x.get_value(idx, 'mtnr'), x.get_value(idx, 'year'), x.get_value(idx, 'subsys'), x.get_value(idx, 'file'), x.get_value(idx, 'status')\n",
    "    my = (m, y)\n",
    "    if my not in dict_my_by_maintained:\n",
    "        dict_my_by_maintained[my] = {'subsyses':set(), \n",
    "                                     'file_list':set(), 'cfile_list':set(),\n",
    "                                     'subsys_file_list':collections.defaultdict(set), \n",
    "                                     'subsys_supported_file_list':collections.defaultdict(set), \n",
    "                                     'subsys_cfile_list':collections.defaultdict(set), \n",
    "                                     'subsys_supported_cfile_list':collections.defaultdict(set)}\n",
    "    dict_my_by_maintained[my]['subsyses'].add(ss)\n",
    "    dict_my_by_maintained[my]['file_list'].add(f)\n",
    "    dict_my_by_maintained[my]['subsys_file_list'][ss].add(f)\n",
    "    is_supported = st == 'Supported'\n",
    "    if is_supported:\n",
    "        dict_my_by_maintained[my]['subsys_supported_file_list'][ss].add(f)\n",
    "    if f[-1] in ['c', 'C']:\n",
    "        dict_my_by_maintained[my]['cfile_list'].add(f)\n",
    "        dict_my_by_maintained[my]['subsys_cfile_list'][ss].add(f)\n",
    "        if is_supported:\n",
    "            dict_my_by_maintained[my]['subsys_supported_cfile_list'][ss].add(f)"
   ]
  },
  {
   "cell_type": "code",
   "execution_count": 437,
   "metadata": {
    "collapsed": false
   },
   "outputs": [],
   "source": [
    "#dict_my_by_maintained[('21cnbao@gmail.com', 2011)]"
   ]
  },
  {
   "cell_type": "code",
   "execution_count": 438,
   "metadata": {
    "collapsed": false
   },
   "outputs": [],
   "source": [
    "#dict_my_by_maintained[('21cnbao@gmail.com', 2012)]"
   ]
  },
  {
   "cell_type": "code",
   "execution_count": 434,
   "metadata": {
    "collapsed": true
   },
   "outputs": [],
   "source": [
    "for my in dict_my_by_maintained.keys():\n",
    "    try:\n",
    "        m_prevy = (my[0], my[1] - 1)\n",
    "        if m_prevy not in dict_my_by_maintained:\n",
    "            dict_my_by_maintained[my]['added_file_list'] = dict_my_by_maintained[my]['file_list']\n",
    "            dict_my_by_maintained[my]['deled_file_list'] = []\n",
    "            dict_my_by_maintained[my]['added_cfile_list'] = dict_my_by_maintained[my]['cfile_list']\n",
    "            dict_my_by_maintained[my]['deled_cfile_list'] = []\n",
    "        else:\n",
    "            dict_my_by_maintained[my]['added_file_list'] = list(np.setdiff1d(list(dict_my_by_maintained[my]['file_list']), list(dict_my_by_maintained[m_prevy]['file_list'])))\n",
    "            dict_my_by_maintained[my]['deled_file_list'] = list(np.setdiff1d(list(dict_my_by_maintained[m_prevy]['file_list']), list(dict_my_by_maintained[my]['file_list'])))\n",
    "            dict_my_by_maintained[my]['added_cfile_list'] = list(np.setdiff1d(list(dict_my_by_maintained[my]['cfile_list']), list(dict_my_by_maintained[m_prevy]['cfile_list'])))\n",
    "            dict_my_by_maintained[my]['deled_cfile_list'] = list(np.setdiff1d(list(dict_my_by_maintained[m_prevy]['cfile_list']), list(dict_my_by_maintained[my]['cfile_list'])))\n",
    "    except Exception, e:\n",
    "            continue"
   ]
  },
  {
   "cell_type": "code",
   "execution_count": 433,
   "metadata": {
    "collapsed": false
   },
   "outputs": [
    {
     "data": {
      "text/plain": [
       "array(['3'], \n",
       "      dtype='|S1')"
      ]
     },
     "execution_count": 433,
     "metadata": {},
     "output_type": "execute_result"
    }
   ],
   "source": [
    "np.setdiff1d(list({'1', '3'}), list({'1'}))"
   ]
  },
  {
   "cell_type": "code",
   "execution_count": 439,
   "metadata": {
    "collapsed": true
   },
   "outputs": [],
   "source": [
    "res = []"
   ]
  },
  {
   "cell_type": "code",
   "execution_count": 440,
   "metadata": {
    "collapsed": true
   },
   "outputs": [],
   "source": [
    "for my in dict_my_by_maintained:\n",
    "    v_my = dict_my_by_maintained[my]\n",
    "    tmp = dict()\n",
    "    try:\n",
    "        tmp['mtnr'], tmp['year'] = my[0], my[1]\n",
    "    except Exception:\n",
    "        continue\n",
    "    tmp['num_subsyses'] = len(v_my['subsyses'])\n",
    "    tmp['subsys_list'] = '#'.join(v_my['subsyses'])\n",
    "    subsys_f_cnt = 0\n",
    "    for (modi, k) in [('mod1', 'subsys_file_list'), ('mod2', 'subsys_supported_file_list'), ('mod1c', 'subsys_cfile_list'), ('mod2c', 'subsys_supported_cfile_list')]:\n",
    "        t = v_my[k]\n",
    "        tmp['num_' + k[7:-5]] = len(reduce(lambda x, y : set(list(x) + list(y)), t.values(), []))\n",
    "        if len(t) <= 0:\n",
    "            continue\n",
    "        s_cnt = Series(map(lambda v:len(t[v]), t.keys()), index=t.keys())\n",
    "        tmp[modi] = sys2mod[s_cnt.idxmax()]\n",
    "    \n",
    "    for k in ['added_file_list', 'deled_file_list', 'added_cfile_list', 'deled_cfile_list']:\n",
    "        tmp['num_' + k[:-5]] = len(v_my[k])\n",
    "    \n",
    "    res.append(tmp)    "
   ]
  },
  {
   "cell_type": "code",
   "execution_count": 441,
   "metadata": {
    "collapsed": false
   },
   "outputs": [],
   "source": [
    "#stat_my_by_maintained = DataFrame([{'mtnr':k[0], 'year':k[1], 'numfiles':len(v['files']), 'numcfiles':len(v['cfiles']), 'numsubsyses':len(v['subsyses'])} for k, v in dict_my_by_maintained.items()])\n",
    "stat_my_by_maintained = DataFrame(res)"
   ]
  },
  {
   "cell_type": "code",
   "execution_count": 442,
   "metadata": {
    "collapsed": false
   },
   "outputs": [
    {
     "data": {
      "text/plain": [
       "(7833, 16)"
      ]
     },
     "execution_count": 442,
     "metadata": {},
     "output_type": "execute_result"
    }
   ],
   "source": [
    "stat_my_by_maintained.shape"
   ]
  },
  {
   "cell_type": "code",
   "execution_count": 443,
   "metadata": {
    "collapsed": true
   },
   "outputs": [],
   "source": [
    "stat_my_by_maintained.sort_values(['mtnr', 'year'], inplace=True)"
   ]
  },
  {
   "cell_type": "code",
   "execution_count": 445,
   "metadata": {
    "collapsed": false
   },
   "outputs": [
    {
     "data": {
      "text/html": [
       "<div>\n",
       "<table border=\"1\" class=\"dataframe\">\n",
       "  <thead>\n",
       "    <tr style=\"text-align: right;\">\n",
       "      <th></th>\n",
       "      <th>mod1</th>\n",
       "      <th>mod1c</th>\n",
       "      <th>mod2</th>\n",
       "      <th>mod2c</th>\n",
       "      <th>mtnr</th>\n",
       "      <th>num_added_cfile</th>\n",
       "      <th>num_added_file</th>\n",
       "      <th>num_cfile</th>\n",
       "      <th>num_deled_cfile</th>\n",
       "      <th>num_deled_file</th>\n",
       "      <th>num_file</th>\n",
       "      <th>num_subsyses</th>\n",
       "      <th>num_supported_cfile</th>\n",
       "      <th>num_supported_file</th>\n",
       "      <th>subsys_list</th>\n",
       "      <th>year</th>\n",
       "    </tr>\n",
       "  </thead>\n",
       "  <tbody>\n",
       "    <tr>\n",
       "      <th>4359</th>\n",
       "      <td>drivers</td>\n",
       "      <td>drivers</td>\n",
       "      <td>NaN</td>\n",
       "      <td>NaN</td>\n",
       "      <td>21cnbao@gmail.com</td>\n",
       "      <td>10</td>\n",
       "      <td>28</td>\n",
       "      <td>10</td>\n",
       "      <td>0</td>\n",
       "      <td>0</td>\n",
       "      <td>28</td>\n",
       "      <td>1</td>\n",
       "      <td>0</td>\n",
       "      <td>0</td>\n",
       "      <td>ARM/CSR SIRFPRIMA2 MACHINE SUPPORT</td>\n",
       "      <td>2011</td>\n",
       "    </tr>\n",
       "    <tr>\n",
       "      <th>2276</th>\n",
       "      <td>drivers</td>\n",
       "      <td>drivers</td>\n",
       "      <td>NaN</td>\n",
       "      <td>NaN</td>\n",
       "      <td>21cnbao@gmail.com</td>\n",
       "      <td>4</td>\n",
       "      <td>6</td>\n",
       "      <td>14</td>\n",
       "      <td>0</td>\n",
       "      <td>1</td>\n",
       "      <td>33</td>\n",
       "      <td>1</td>\n",
       "      <td>0</td>\n",
       "      <td>0</td>\n",
       "      <td>ARM/CSR SIRFPRIMA2 MACHINE SUPPORT</td>\n",
       "      <td>2012</td>\n",
       "    </tr>\n",
       "    <tr>\n",
       "      <th>2584</th>\n",
       "      <td>drivers</td>\n",
       "      <td>drivers</td>\n",
       "      <td>NaN</td>\n",
       "      <td>NaN</td>\n",
       "      <td>21cnbao@gmail.com</td>\n",
       "      <td>14</td>\n",
       "      <td>17</td>\n",
       "      <td>26</td>\n",
       "      <td>2</td>\n",
       "      <td>6</td>\n",
       "      <td>44</td>\n",
       "      <td>1</td>\n",
       "      <td>0</td>\n",
       "      <td>0</td>\n",
       "      <td>ARM/CSR SIRFPRIMA2 MACHINE SUPPORT</td>\n",
       "      <td>2013</td>\n",
       "    </tr>\n",
       "    <tr>\n",
       "      <th>2888</th>\n",
       "      <td>drivers</td>\n",
       "      <td>drivers</td>\n",
       "      <td>NaN</td>\n",
       "      <td>NaN</td>\n",
       "      <td>21cnbao@gmail.com</td>\n",
       "      <td>3</td>\n",
       "      <td>6</td>\n",
       "      <td>24</td>\n",
       "      <td>5</td>\n",
       "      <td>14</td>\n",
       "      <td>36</td>\n",
       "      <td>1</td>\n",
       "      <td>0</td>\n",
       "      <td>0</td>\n",
       "      <td>ARM/CSR SIRFPRIMA2 MACHINE SUPPORT</td>\n",
       "      <td>2014</td>\n",
       "    </tr>\n",
       "    <tr>\n",
       "      <th>3192</th>\n",
       "      <td>drivers</td>\n",
       "      <td>drivers</td>\n",
       "      <td>NaN</td>\n",
       "      <td>NaN</td>\n",
       "      <td>21cnbao@gmail.com</td>\n",
       "      <td>2</td>\n",
       "      <td>2</td>\n",
       "      <td>14</td>\n",
       "      <td>12</td>\n",
       "      <td>14</td>\n",
       "      <td>24</td>\n",
       "      <td>1</td>\n",
       "      <td>0</td>\n",
       "      <td>0</td>\n",
       "      <td>ARM/CSR SIRFPRIMA2 MACHINE SUPPORT</td>\n",
       "      <td>2015</td>\n",
       "    </tr>\n",
       "  </tbody>\n",
       "</table>\n",
       "</div>"
      ],
      "text/plain": [
       "         mod1    mod1c mod2 mod2c               mtnr  num_added_cfile  \\\n",
       "4359  drivers  drivers  NaN   NaN  21cnbao@gmail.com               10   \n",
       "2276  drivers  drivers  NaN   NaN  21cnbao@gmail.com                4   \n",
       "2584  drivers  drivers  NaN   NaN  21cnbao@gmail.com               14   \n",
       "2888  drivers  drivers  NaN   NaN  21cnbao@gmail.com                3   \n",
       "3192  drivers  drivers  NaN   NaN  21cnbao@gmail.com                2   \n",
       "\n",
       "      num_added_file  num_cfile  num_deled_cfile  num_deled_file  num_file  \\\n",
       "4359              28         10                0               0        28   \n",
       "2276               6         14                0               1        33   \n",
       "2584              17         26                2               6        44   \n",
       "2888               6         24                5              14        36   \n",
       "3192               2         14               12              14        24   \n",
       "\n",
       "      num_subsyses  num_supported_cfile  num_supported_file  \\\n",
       "4359             1                    0                   0   \n",
       "2276             1                    0                   0   \n",
       "2584             1                    0                   0   \n",
       "2888             1                    0                   0   \n",
       "3192             1                    0                   0   \n",
       "\n",
       "                             subsys_list  year  \n",
       "4359  ARM/CSR SIRFPRIMA2 MACHINE SUPPORT  2011  \n",
       "2276  ARM/CSR SIRFPRIMA2 MACHINE SUPPORT  2012  \n",
       "2584  ARM/CSR SIRFPRIMA2 MACHINE SUPPORT  2013  \n",
       "2888  ARM/CSR SIRFPRIMA2 MACHINE SUPPORT  2014  \n",
       "3192  ARM/CSR SIRFPRIMA2 MACHINE SUPPORT  2015  "
      ]
     },
     "execution_count": 445,
     "metadata": {},
     "output_type": "execute_result"
    }
   ],
   "source": [
    "stat_my_by_maintained.head()"
   ]
  },
  {
   "cell_type": "code",
   "execution_count": 446,
   "metadata": {
    "collapsed": true
   },
   "outputs": [],
   "source": [
    "stat_my_by_maintained.to_csv(mtnrdir + 'mtnr-yearly-stat-by-maintain.csv', mode='w', header=True, index=False, sep=';')"
   ]
  },
  {
   "cell_type": "code",
   "execution_count": 96,
   "metadata": {
    "collapsed": false
   },
   "outputs": [],
   "source": [
    "stat_my_by_maintained = pd.read_csv(mtnrdir + 'mtnr-yearly-stat-by-maintain.csv', header=0, sep=';')"
   ]
  },
  {
   "cell_type": "code",
   "execution_count": 114,
   "metadata": {
    "collapsed": false
   },
   "outputs": [
    {
     "data": {
      "text/plain": [
       "(163, (7833, 16), 4534)"
      ]
     },
     "execution_count": 114,
     "metadata": {},
     "output_type": "execute_result"
    }
   ],
   "source": [
    "(stat_my_by_maintained.num_file[stat_my_by_maintained.year > 2010] == 0).sum(), stat_my_by_maintained.shape, (stat_my_by_maintained.year > 2010).sum()"
   ]
  },
  {
   "cell_type": "code",
   "execution_count": 115,
   "metadata": {
    "collapsed": false
   },
   "outputs": [],
   "source": [
    "#stat_my_by_maintained[stat_my_by_maintained.mtnr == '[shc_work@mail.ru]']"
   ]
  },
  {
   "cell_type": "code",
   "execution_count": 116,
   "metadata": {
    "collapsed": false
   },
   "outputs": [],
   "source": [
    "#stat_my_by_maintained[np.logical_and(stat_my_by_maintained.mod1.isnull(), stat_my_by_maintained.year >= 2013)].tail()"
   ]
  },
  {
   "cell_type": "code",
   "execution_count": 117,
   "metadata": {
    "collapsed": false
   },
   "outputs": [],
   "source": [
    "#tat_my_by_maintained[stat_my_by_maintained.mtnr=='umalhi@cisco.com']"
   ]
  },
  {
   "cell_type": "code",
   "execution_count": 467,
   "metadata": {
    "collapsed": false
   },
   "outputs": [],
   "source": [
    "s = mtnr_rev['e46d12c65998c7ac6a8544fc356e2297228b207a']['CISCO VIC LOW LATENCY NIC DRIVER']"
   ]
  },
  {
   "cell_type": "code",
   "execution_count": 469,
   "metadata": {
    "collapsed": false
   },
   "outputs": [
    {
     "data": {
      "text/plain": [
       "{'umalhi@cisco.com': ('upinder malhi', 'umalhi@cisco.com')}"
      ]
     },
     "execution_count": 469,
     "metadata": {},
     "output_type": "execute_result"
    }
   ],
   "source": [
    "s.mtnrs"
   ]
  },
  {
   "cell_type": "code",
   "execution_count": 470,
   "metadata": {
    "collapsed": false
   },
   "outputs": [
    {
     "data": {
      "text/plain": [
       "['drivers/infiniband/hw/usnic']"
      ]
     },
     "execution_count": 470,
     "metadata": {},
     "output_type": "execute_result"
    }
   ],
   "source": [
    "s.files"
   ]
  },
  {
   "cell_type": "code",
   "execution_count": 471,
   "metadata": {
    "collapsed": false
   },
   "outputs": [
    {
     "ename": "KeyError",
     "evalue": "'usnic_debugfs.c'",
     "output_type": "error",
     "traceback": [
      "\u001b[0;31m\u001b[0m",
      "\u001b[0;31mKeyError\u001b[0mTraceback (most recent call last)",
      "\u001b[0;32m<ipython-input-471-30beca9c4a43>\u001b[0m in \u001b[0;36m<module>\u001b[0;34m()\u001b[0m\n\u001b[0;32m----> 1\u001b[0;31m \u001b[0mfcate_of_fn\u001b[0m\u001b[0;34m[\u001b[0m\u001b[0;34m'usnic_debugfs.c'\u001b[0m\u001b[0;34m]\u001b[0m\u001b[0;34m\u001b[0m\u001b[0m\n\u001b[0m",
      "\u001b[0;31mKeyError\u001b[0m: 'usnic_debugfs.c'"
     ]
    }
   ],
   "source": [
    "fcate_of_fn['usnic_debugfs.c']"
   ]
  },
  {
   "cell_type": "code",
   "execution_count": null,
   "metadata": {
    "collapsed": true
   },
   "outputs": [],
   "source": []
  },
  {
   "cell_type": "code",
   "execution_count": null,
   "metadata": {
    "collapsed": true
   },
   "outputs": [],
   "source": [
    "def get_maintainer_list_and_subsys_list(fn, fcate_of_fn, fcate_2_subsys, mntr_of_rev):\n",
    "    if fn not in fcate_of_fn:\n",
    "        return idmp['linus torvalds'], Series()\n",
    "    fcates = fcate_of_fn[fn]\n",
    "    ret = []\n",
    "    subsys_list = []\n",
    "    for fc in fcates:\n",
    "        if fc in fcate_2_subsys:\n",
    "            subsys = fcate_2_subsys[fc]\n",
    "            subsys_list.extend(subsys)\n",
    "            for ss in subsys:\n",
    "                ret.extend(mntr_of_rev[ss].mtnrs)\n",
    "\n",
    "    return (idmp['linus torvalds'] if len(ret) == 0 else '#'.join(np.unique(ret))), Series(subsys_list)"
   ]
  },
  {
   "cell_type": "code",
   "execution_count": null,
   "metadata": {
    "collapsed": true
   },
   "outputs": [],
   "source": []
  },
  {
   "cell_type": "code",
   "execution_count": null,
   "metadata": {
    "collapsed": true
   },
   "outputs": [],
   "source": []
  },
  {
   "cell_type": "code",
   "execution_count": null,
   "metadata": {
    "collapsed": true
   },
   "outputs": [],
   "source": []
  },
  {
   "cell_type": "code",
   "execution_count": null,
   "metadata": {
    "collapsed": true
   },
   "outputs": [],
   "source": []
  },
  {
   "cell_type": "code",
   "execution_count": 982,
   "metadata": {
    "collapsed": false
   },
   "outputs": [
    {
     "data": {
      "text/plain": [
       "0"
      ]
     },
     "execution_count": 982,
     "metadata": {},
     "output_type": "execute_result"
    }
   ],
   "source": [
    "mh.sys_name.str.contains('#').sum()"
   ]
  },
  {
   "cell_type": "code",
   "execution_count": 983,
   "metadata": {
    "collapsed": false
   },
   "outputs": [
    {
     "data": {
      "text/plain": [
       "'x'"
      ]
     },
     "execution_count": 983,
     "metadata": {},
     "output_type": "execute_result"
    }
   ],
   "source": [
    "Series([1, 3, 2], index=['a', 'x', 'y']).idxmax()"
   ]
  },
  {
   "cell_type": "code",
   "execution_count": 984,
   "metadata": {
    "collapsed": false
   },
   "outputs": [
    {
     "data": {
      "text/plain": [
       "[[12, 23], [2, 3]]"
      ]
     },
     "execution_count": 984,
     "metadata": {},
     "output_type": "execute_result"
    }
   ],
   "source": [
    "{1:[12, 23], 2:[2, 3]}.values()"
   ]
  },
  {
   "cell_type": "code",
   "execution_count": 609,
   "metadata": {
    "collapsed": true
   },
   "outputs": [],
   "source": [
    "mfiles_of_mtnr = collections.defaultdict(set)"
   ]
  },
  {
   "cell_type": "code",
   "execution_count": 610,
   "metadata": {
    "collapsed": false
   },
   "outputs": [],
   "source": [
    "itr = delta_file_rev_ct.iterrows()"
   ]
  },
  {
   "cell_type": "code",
   "execution_count": 611,
   "metadata": {
    "collapsed": false
   },
   "outputs": [],
   "source": [
    "while True:\n",
    "    try:\n",
    "        idx, onedelta = next(itr)\n",
    "        for m in imlist[idx]:\n",
    "            mfiles_of_mtnr[m].add(onedelta.fn)\n",
    "    except StopIteration:\n",
    "        break"
   ]
  },
  {
   "cell_type": "code",
   "execution_count": 674,
   "metadata": {
    "collapsed": true
   },
   "outputs": [],
   "source": [
    "mtnr_stat = DataFrame({}, index=mfiles_of_mtnr.keys())"
   ]
  },
  {
   "cell_type": "code",
   "execution_count": 675,
   "metadata": {
    "collapsed": false
   },
   "outputs": [],
   "source": [
    "mtnr_stat['num_files'] = map(lambda x:len(mfiles_of_mtnr[x]), mtnr_stat.index)"
   ]
  },
  {
   "cell_type": "code",
   "execution_count": 676,
   "metadata": {
    "collapsed": false
   },
   "outputs": [],
   "source": [
    "mtnr_stat['num_deltas_as_athr'] = (delta_file_rev_ct['aid'].value_counts())[mtnr_stat.index].fillna(0).astype(int)"
   ]
  },
  {
   "cell_type": "code",
   "execution_count": 677,
   "metadata": {
    "collapsed": true
   },
   "outputs": [],
   "source": [
    "mtnr_stat['num_deltas_as_cmtr'] = (delta_file_rev_ct['cid'].value_counts())[mtnr_stat.index].fillna(0).astype(int)"
   ]
  },
  {
   "cell_type": "code",
   "execution_count": 665,
   "metadata": {
    "collapsed": false
   },
   "outputs": [],
   "source": [
    "grp = delta_file_rev_ct.groupby('cid')\n",
    "v = grp['aid'].agg(lambda x:len(np.unique(x)))\n"
   ]
  },
  {
   "cell_type": "code",
   "execution_count": 678,
   "metadata": {
    "collapsed": false
   },
   "outputs": [],
   "source": [
    "mtnr_stat['num_athrs'] = v[mtnr_stat.index].fillna(0).astype(int)"
   ]
  },
  {
   "cell_type": "code",
   "execution_count": 667,
   "metadata": {
    "collapsed": true
   },
   "outputs": [],
   "source": [
    "tmh = mh[np.logical_and(mh['type'] == 'M', mh['op'] =='+')]\n",
    "grp = tmh.groupby('obj')\n",
    "v1 = grp['time'].agg(np.min)\n",
    "tmh = mh[np.logical_and(mh['type'] == 'M', mh['op'] =='-')]\n",
    "grp = tmh.groupby('obj')\n",
    "v2 = grp['time'].agg(np.max)"
   ]
  },
  {
   "cell_type": "code",
   "execution_count": 679,
   "metadata": {
    "collapsed": true
   },
   "outputs": [],
   "source": [
    "mtnr_stat['first_add_time'] = v1[mtnr_stat.index].fillna(0).astype(int)\n",
    "mtnr_stat['last_del_time'] = v2[mtnr_stat.index].fillna(0).astype(int)"
   ]
  },
  {
   "cell_type": "code",
   "execution_count": 680,
   "metadata": {
    "collapsed": false
   },
   "outputs": [],
   "source": [
    "mtnr_stat.to_csv(mtnrdir + mtnr_stat_fn, mode='w', header=False, index=True, sep=';')"
   ]
  },
  {
   "cell_type": "code",
   "execution_count": 681,
   "metadata": {
    "collapsed": false
   },
   "outputs": [
    {
     "data": {
      "text/html": [
       "<div>\n",
       "<table border=\"1\" class=\"dataframe\">\n",
       "  <thead>\n",
       "    <tr style=\"text-align: right;\">\n",
       "      <th></th>\n",
       "      <th>num_files</th>\n",
       "      <th>num_deltas_as_athr</th>\n",
       "      <th>num_deltas_as_cmtr</th>\n",
       "      <th>num_athrs</th>\n",
       "      <th>first_add_time</th>\n",
       "      <th>last_del_time</th>\n",
       "    </tr>\n",
       "  </thead>\n",
       "  <tbody>\n",
       "    <tr>\n",
       "      <th>vdavydov@parallels.com</th>\n",
       "      <td>1</td>\n",
       "      <td>243</td>\n",
       "      <td>0</td>\n",
       "      <td>0</td>\n",
       "      <td>1449944134</td>\n",
       "      <td>1450101799</td>\n",
       "    </tr>\n",
       "    <tr>\n",
       "      <th>rlove@google.com</th>\n",
       "      <td>17</td>\n",
       "      <td>187</td>\n",
       "      <td>74</td>\n",
       "      <td>11</td>\n",
       "      <td>1113690036</td>\n",
       "      <td>1425931807</td>\n",
       "    </tr>\n",
       "    <tr>\n",
       "      <th>neel patel</th>\n",
       "      <td>12</td>\n",
       "      <td>8</td>\n",
       "      <td>0</td>\n",
       "      <td>0</td>\n",
       "      <td>1328389263</td>\n",
       "      <td>1332923715</td>\n",
       "    </tr>\n",
       "    <tr>\n",
       "      <th>james hogan</th>\n",
       "      <td>57</td>\n",
       "      <td>449</td>\n",
       "      <td>166</td>\n",
       "      <td>13</td>\n",
       "      <td>1362254956</td>\n",
       "      <td>1420928231</td>\n",
       "    </tr>\n",
       "    <tr>\n",
       "      <th>anisse astier</th>\n",
       "      <td>1</td>\n",
       "      <td>35</td>\n",
       "      <td>0</td>\n",
       "      <td>0</td>\n",
       "      <td>1261553193</td>\n",
       "      <td>1436865577</td>\n",
       "    </tr>\n",
       "  </tbody>\n",
       "</table>\n",
       "</div>"
      ],
      "text/plain": [
       "                        num_files  num_deltas_as_athr  num_deltas_as_cmtr  \\\n",
       "vdavydov@parallels.com          1                 243                   0   \n",
       "rlove@google.com               17                 187                  74   \n",
       "neel patel                     12                   8                   0   \n",
       "james hogan                    57                 449                 166   \n",
       "anisse astier                   1                  35                   0   \n",
       "\n",
       "                        num_athrs  first_add_time  last_del_time  \n",
       "vdavydov@parallels.com          0      1449944134     1450101799  \n",
       "rlove@google.com               11      1113690036     1425931807  \n",
       "neel patel                      0      1328389263     1332923715  \n",
       "james hogan                    13      1362254956     1420928231  \n",
       "anisse astier                   0      1261553193     1436865577  "
      ]
     },
     "execution_count": 681,
     "metadata": {},
     "output_type": "execute_result"
    }
   ],
   "source": [
    "mtnr_stat.head()"
   ]
  },
  {
   "cell_type": "code",
   "execution_count": null,
   "metadata": {
    "collapsed": true
   },
   "outputs": [],
   "source": []
  },
  {
   "cell_type": "code",
   "execution_count": null,
   "metadata": {
    "collapsed": true
   },
   "outputs": [],
   "source": []
  },
  {
   "cell_type": "markdown",
   "metadata": {},
   "source": [
    "## monthly maintainer stat, by maintained"
   ]
  },
  {
   "cell_type": "markdown",
   "metadata": {},
   "source": [
    "```\n",
    "maintainer,\n",
    "\n",
    "natural month,\n",
    "\n",
    "#files maintained,\n",
    "\n",
    "module (that has the largest fraction of the files he maintains at this \n",
    "month),\n",
    "\n",
    "#authors (all) on the files he maintained,\n",
    "\n",
    "#commits on the files he maintained,\n",
    "\n",
    "#commits he authored on the files he maintains,\n",
    "\n",
    "#commits authored by other maintainers (who maintain other files),\n",
    "\n",
    "# (all) commits he authored,\n",
    "\n",
    "the first time he appeared on MAINTAINERS file,\n",
    "\n",
    "the last time he was not on the MAINTAINERS file (if there is)\n",
    "```"
   ]
  },
  {
   "cell_type": "code",
   "execution_count": 140,
   "metadata": {
    "collapsed": false
   },
   "outputs": [
    {
     "data": {
      "text/html": [
       "<div>\n",
       "<table border=\"1\" class=\"dataframe\">\n",
       "  <thead>\n",
       "    <tr style=\"text-align: right;\">\n",
       "      <th></th>\n",
       "      <th>file</th>\n",
       "      <th>mtnr</th>\n",
       "      <th>rev</th>\n",
       "      <th>status</th>\n",
       "      <th>subsys</th>\n",
       "    </tr>\n",
       "  </thead>\n",
       "  <tbody>\n",
       "    <tr>\n",
       "      <th>0</th>\n",
       "      <td>.gitignore</td>\n",
       "      <td>linus torvalds</td>\n",
       "      <td>81df63a9a5f98edbfaae70729147a33a3b7690a4</td>\n",
       "      <td>Unknown</td>\n",
       "      <td>THE REST</td>\n",
       "    </tr>\n",
       "    <tr>\n",
       "      <th>1</th>\n",
       "      <td>.mailmap</td>\n",
       "      <td>linus torvalds</td>\n",
       "      <td>81df63a9a5f98edbfaae70729147a33a3b7690a4</td>\n",
       "      <td>Unknown</td>\n",
       "      <td>THE REST</td>\n",
       "    </tr>\n",
       "    <tr>\n",
       "      <th>2</th>\n",
       "      <td>COPYING</td>\n",
       "      <td>linus torvalds</td>\n",
       "      <td>81df63a9a5f98edbfaae70729147a33a3b7690a4</td>\n",
       "      <td>Unknown</td>\n",
       "      <td>THE REST</td>\n",
       "    </tr>\n",
       "    <tr>\n",
       "      <th>3</th>\n",
       "      <td>CREDITS</td>\n",
       "      <td>linus torvalds</td>\n",
       "      <td>81df63a9a5f98edbfaae70729147a33a3b7690a4</td>\n",
       "      <td>Unknown</td>\n",
       "      <td>THE REST</td>\n",
       "    </tr>\n",
       "    <tr>\n",
       "      <th>4</th>\n",
       "      <td>Documentation/.gitignore</td>\n",
       "      <td>rlandley@parallels.com</td>\n",
       "      <td>81df63a9a5f98edbfaae70729147a33a3b7690a4</td>\n",
       "      <td>Maintained</td>\n",
       "      <td>DOCUMENTATION</td>\n",
       "    </tr>\n",
       "  </tbody>\n",
       "</table>\n",
       "</div>"
      ],
      "text/plain": [
       "                       file                    mtnr  \\\n",
       "0                .gitignore          linus torvalds   \n",
       "1                  .mailmap          linus torvalds   \n",
       "2                   COPYING          linus torvalds   \n",
       "3                   CREDITS          linus torvalds   \n",
       "4  Documentation/.gitignore  rlandley@parallels.com   \n",
       "\n",
       "                                        rev      status         subsys  \n",
       "0  81df63a9a5f98edbfaae70729147a33a3b7690a4     Unknown       THE REST  \n",
       "1  81df63a9a5f98edbfaae70729147a33a3b7690a4     Unknown       THE REST  \n",
       "2  81df63a9a5f98edbfaae70729147a33a3b7690a4     Unknown       THE REST  \n",
       "3  81df63a9a5f98edbfaae70729147a33a3b7690a4     Unknown       THE REST  \n",
       "4  81df63a9a5f98edbfaae70729147a33a3b7690a4  Maintained  DOCUMENTATION  "
      ]
     },
     "execution_count": 140,
     "metadata": {},
     "output_type": "execute_result"
    }
   ],
   "source": [
    "mf.head()"
   ]
  },
  {
   "cell_type": "code",
   "execution_count": 268,
   "metadata": {
    "collapsed": true
   },
   "outputs": [],
   "source": [
    "tdf = delta[delta.fn == 'MAINTAINERS'][['rev', 'ctm', 'ym']].drop_duplicates()\n",
    "\n",
    "x = mf.merge(tdf, on=['rev'], how='left')\n",
    "\n",
    "dict_mym_by_maintained = dict()"
   ]
  },
  {
   "cell_type": "code",
   "execution_count": null,
   "metadata": {
    "collapsed": true
   },
   "outputs": [],
   "source": []
  },
  {
   "cell_type": "code",
   "execution_count": 269,
   "metadata": {
    "collapsed": true
   },
   "outputs": [],
   "source": [
    "for rev in mtnr_rev.keys():\n",
    "    try:\n",
    "        ym = mh['ym'][mh['rev'] == rev].iloc[0] # mh may not have record of rev\n",
    "    except:\n",
    "        continue\n",
    "    mrev = mtnr_rev[rev]\n",
    "    for sysname in mrev:\n",
    "        subsys = mrev[sysname]\n",
    "        for m in subsys.mtnrs.keys():\n",
    "            mym = (m, ym)\n",
    "            if mym not in dict_mym_by_maintained:\n",
    "                dict_mym_by_maintained[mym] = {'subsyses':set(), \n",
    "                                               'subsyses_supported':set(),\n",
    "                                               'file_list':set(), 'cfile_list':set(),\n",
    "                                               'subsys_file_list':collections.defaultdict(set), \n",
    "                                               'subsys_supported_file_list':collections.defaultdict(set), \n",
    "                                               'subsys_cfile_list':collections.defaultdict(set), \n",
    "                                               'subsys_supported_cfile_list':collections.defaultdict(set)}"
   ]
  },
  {
   "cell_type": "code",
   "execution_count": null,
   "metadata": {
    "collapsed": true
   },
   "outputs": [],
   "source": [
    "maxi = x.shape[0]\n",
    "newi = 0"
   ]
  },
  {
   "cell_type": "code",
   "execution_count": null,
   "metadata": {
    "collapsed": false
   },
   "outputs": [
    {
     "name": "stdout",
     "output_type": "stream",
     "text": [
      "0"
     ]
    }
   ],
   "source": [
    "for i, idx in enumerate(x.index):\n",
    "    if i % 2000000 == 0:\n",
    "        print i / 2000000,\n",
    "    if i < newi:\n",
    "        continue\n",
    "    m, ym, ss, f, st = x.get_value(idx, 'mtnr'), x.get_value(idx, 'ym'), x.get_value(idx, 'subsys'), x.get_value(idx, 'file'), x.get_value(idx, 'status')\n",
    "    mym = (m, ym)\n",
    "    if mym not in dict_mym_by_maintained:\n",
    "        dict_mym_by_maintained[mym] = {'subsyses':set(),\n",
    "                                       'subsyses_supported':set(),\n",
    "                                       'file_list':set(), 'cfile_list':set(),\n",
    "                                       'subsys_file_list':collections.defaultdict(set), \n",
    "                                       'subsys_supported_file_list':collections.defaultdict(set), \n",
    "                                       'subsys_cfile_list':collections.defaultdict(set), \n",
    "                                       'subsys_supported_cfile_list':collections.defaultdict(set)}\n",
    "    dict_mym_by_maintained[mym]['subsyses'].add(ss)\n",
    "    dict_mym_by_maintained[mym]['file_list'].add(f)\n",
    "    dict_mym_by_maintained[mym]['subsys_file_list'][ss].add(f)\n",
    "    is_supported = st == 'Supported'\n",
    "    if is_supported:\n",
    "        dict_mym_by_maintained[mym]['subsyses_supported'].add(ss)\n",
    "        dict_mym_by_maintained[mym]['subsys_supported_file_list'][ss].add(f)\n",
    "        \n",
    "    if f[-1] in ['c', 'C']:\n",
    "        dict_mym_by_maintained[mym]['cfile_list'].add(f)\n",
    "        dict_mym_by_maintained[mym]['subsys_cfile_list'][ss].add(f)\n",
    "        if is_supported:\n",
    "            dict_mym_by_maintained[mym]['subsys_supported_cfile_list'][ss].add(f)"
   ]
  },
  {
   "cell_type": "code",
   "execution_count": null,
   "metadata": {
    "collapsed": true
   },
   "outputs": [],
   "source": [
    "def get_prev_month(mth):\n",
    "    if 0.0098 <= mth - int(mth) <= 0.012:\n",
    "        return mth - 1 + 0.11\n",
    "    return mth -  0.01\n",
    "\n",
    "def get_next_month(mth):\n",
    "    nmth = mth + 0.01\n",
    "    if nmth - int(nmth) >= 0.129: # 0.13\n",
    "        return int(mth) + 1.01\n",
    "    return nmth"
   ]
  },
  {
   "cell_type": "code",
   "execution_count": null,
   "metadata": {
    "collapsed": false
   },
   "outputs": [],
   "source": [
    "for my in dict_mym_by_maintained.keys():\n",
    "    try:\n",
    "        m_prevy = (my[0], get_prev_month(my[1]))\n",
    "        if m_prevy not in dict_mym_by_maintained:\n",
    "            dict_mym_by_maintained[my]['added_file_list'] = dict_mym_by_maintained[my]['file_list']\n",
    "            dict_mym_by_maintained[my]['deled_file_list'] = []\n",
    "            dict_mym_by_maintained[my]['added_cfile_list'] = dict_mym_by_maintained[my]['cfile_list']\n",
    "            dict_mym_by_maintained[my]['deled_cfile_list'] = []\n",
    "        else:\n",
    "            dict_mym_by_maintained[my]['added_file_list'] = list(np.setdiff1d(list(dict_mym_by_maintained[my]['file_list']), list(dict_mym_by_maintained[m_prevy]['file_list'])))\n",
    "            dict_mym_by_maintained[my]['deled_file_list'] = list(np.setdiff1d(list(dict_mym_by_maintained[m_prevy]['file_list']), list(dict_mym_by_maintained[my]['file_list'])))\n",
    "            dict_mym_by_maintained[my]['added_cfile_list'] = list(np.setdiff1d(list(dict_mym_by_maintained[my]['cfile_list']), list(dict_mym_by_maintained[m_prevy]['cfile_list'])))\n",
    "            dict_mym_by_maintained[my]['deled_cfile_list'] = list(np.setdiff1d(list(dict_mym_by_maintained[m_prevy]['cfile_list']), list(dict_mym_by_maintained[my]['cfile_list'])))\n",
    "    except Exception, e:\n",
    "            continue"
   ]
  },
  {
   "cell_type": "code",
   "execution_count": 86,
   "metadata": {
    "collapsed": false
   },
   "outputs": [
    {
     "data": {
      "text/plain": [
       "82971"
      ]
     },
     "execution_count": 86,
     "metadata": {},
     "output_type": "execute_result"
    }
   ],
   "source": [
    "len(dict_mym_by_maintained)"
   ]
  },
  {
   "cell_type": "code",
   "execution_count": 87,
   "metadata": {
    "collapsed": false
   },
   "outputs": [],
   "source": [
    "mtnr_months = sorted({mym[1] for mym in dict_mym_by_maintained})\n",
    "min_month = min(mtnr_months)\n",
    "max_month = max(mtnr_months)\n",
    "\n",
    "mtnrs_set = set([mym[0] for mym in dict_mym_by_maintained])\n",
    "\n",
    "\n",
    "\n",
    "# for m in mtnrs_set:\n",
    "#     prev_month = min_month\n",
    "#     mymp = (m, prev_month)\n",
    "#     now_month = get_next_month(prev_month)\n",
    "#     while now_month <= max_motnh:\n",
    "#         mym = (m, now_month)\n",
    "#         if mymp in dict_mym_by_maintained and mym not in dict_mym_by_maintained:\n",
    "#             dict_mym_by_maintained[mym] = copy.deepcopy(dict_mym_by_maintained[mymp])\n",
    "#         prev_month, mymp = now_month, mym\n",
    "#         now_month = get_next_month(prev_month)\n",
    "\n",
    "prev_month = min_month\n",
    "now_month = get_next_month(prev_month)\n",
    "while now_month <= max_month:\n",
    "    if now_month not in mtnr_months:\n",
    "        for m in mtnrs_set:\n",
    "            mymp = (m, prev_month)\n",
    "            if mymp in dict_mym_by_maintained:\n",
    "                mym = (m, now_month)\n",
    "                dict_mym_by_maintained[mym] = copy.deepcopy(dict_mym_by_maintained[mymp])\n",
    "    prev_month = now_month\n",
    "    now_month = get_next_month(prev_month)"
   ]
  },
  {
   "cell_type": "code",
   "execution_count": 88,
   "metadata": {
    "collapsed": false
   },
   "outputs": [
    {
     "data": {
      "text/plain": [
       "82971"
      ]
     },
     "execution_count": 88,
     "metadata": {},
     "output_type": "execute_result"
    }
   ],
   "source": [
    "len(dict_mym_by_maintained)"
   ]
  },
  {
   "cell_type": "code",
   "execution_count": null,
   "metadata": {
    "collapsed": true
   },
   "outputs": [],
   "source": [
    "for mym in dict_mym_by_maintained:\n",
    "    for key in ['authors_f', 'commits_f', 'commits_authored_f', 'commits_authored_by_other_mtnrs_f', 'commits_authored']:\n",
    "        dict_mym_by_maintained[mym][key] = set()"
   ]
  },
  {
   "cell_type": "code",
   "execution_count": null,
   "metadata": {
    "collapsed": true
   },
   "outputs": [],
   "source": [
    "newi = 0"
   ]
  },
  {
   "cell_type": "code",
   "execution_count": 120,
   "metadata": {
    "collapsed": false
   },
   "outputs": [
    {
     "data": {
      "text/plain": [
       "(1305334, 14)"
      ]
     },
     "execution_count": 120,
     "metadata": {},
     "output_type": "execute_result"
    }
   ],
   "source": [
    "delta.shape"
   ]
  },
  {
   "cell_type": "code",
   "execution_count": null,
   "metadata": {
    "collapsed": true
   },
   "outputs": [],
   "source": [
    "mlist_of_month = collections.defaultdict(list)\n",
    "for mym in dict_mym_by_maintained:\n",
    "    mlist_of_month[mym[1]].append(mym[0])"
   ]
  },
  {
   "cell_type": "code",
   "execution_count": null,
   "metadata": {
    "collapsed": false
   },
   "outputs": [],
   "source": [
    "for i, idx in enumerate(delta.index):\n",
    "    if i % 10000 == 0:\n",
    "        print i / 10000,\n",
    "    if i < newi:\n",
    "        continue\n",
    "    fn, rev, aid, ym = delta.get_value(idx, 'fn'), delta.get_value(idx, 'rev'), delta.get_value(idx, 'aid'), delta.get_value(idx, 'ym')\n",
    "    mlist = imlist[idx]\n",
    "    aym = (aid, ym)\n",
    "    if aym in dict_mym_by_maintained:\n",
    "        dict_mym_by_maintained[aym]['commits_authored'].add(rev)\n",
    "    for m in mlist:\n",
    "        mym = (m, ym)\n",
    "        if mym in dict_mym_by_maintained: # it can be not true\n",
    "            dict_mym_by_maintained[mym]['authors_f'].add(aid)\n",
    "            dict_mym_by_maintained[mym]['commits_f'].add(rev)\n",
    "            if m == aid:\n",
    "                dict_mym_by_maintained[mym]['commits_authored_f'].add(rev)\n",
    "            elif aid in mlist_of_month[ym]:\n",
    "                dict_mym_by_maintained[mym]['commits_authored_by_other_mtnrs_f'].add(rev)    \n",
    "             \n",
    "    "
   ]
  },
  {
   "cell_type": "code",
   "execution_count": 162,
   "metadata": {
    "collapsed": false
   },
   "outputs": [],
   "source": [
    "# for mth in mtnr_months:\n",
    "#     print mth, 'maciej sosnowski' in mlist_of_month[mth]"
   ]
  },
  {
   "cell_type": "code",
   "execution_count": 131,
   "metadata": {
    "collapsed": false
   },
   "outputs": [
    {
     "data": {
      "text/plain": [
       "(498670, 806661)"
      ]
     },
     "execution_count": 131,
     "metadata": {},
     "output_type": "execute_result"
    }
   ],
   "source": [
    "i, idx"
   ]
  },
  {
   "cell_type": "code",
   "execution_count": 158,
   "metadata": {
    "collapsed": false
   },
   "outputs": [
    {
     "data": {
      "text/plain": [
       "(time.struct_time(tm_year=2009, tm_mon=12, tm_mday=20, tm_hour=21, tm_min=24, tm_sec=7, tm_wday=6, tm_yday=354, tm_isdst=0),\n",
       " time.struct_time(tm_year=2010, tm_mon=3, tm_mday=1, tm_hour=15, tm_min=35, tm_sec=42, tm_wday=0, tm_yday=60, tm_isdst=0))"
      ]
     },
     "execution_count": 158,
     "metadata": {},
     "output_type": "execute_result"
    }
   ],
   "source": [
    "time.gmtime(1261344247), time.gmtime(1267457742)"
   ]
  },
  {
   "cell_type": "code",
   "execution_count": 161,
   "metadata": {
    "collapsed": false
   },
   "outputs": [
    {
     "data": {
      "text/plain": [
       "(time.struct_time(tm_year=2010, tm_mon=2, tm_mday=25, tm_hour=19, tm_min=39, tm_sec=30, tm_wday=3, tm_yday=56, tm_isdst=0),\n",
       " time.struct_time(tm_year=2010, tm_mon=3, tm_mday=1, tm_hour=3, tm_min=27, tm_sec=42, tm_wday=0, tm_yday=60, tm_isdst=0))"
      ]
     },
     "execution_count": 161,
     "metadata": {},
     "output_type": "execute_result"
    }
   ],
   "source": [
    "time.gmtime(1267126770), time.gmtime(1267414062)"
   ]
  },
  {
   "cell_type": "code",
   "execution_count": 134,
   "metadata": {
    "collapsed": false
   },
   "outputs": [
    {
     "data": {
      "text/plain": [
       "('dan williams#leo@zh-kernel.org#maciej sosnowski#wei.zhang@freescale.com',\n",
       " 0    ASYNCHRONOUS TRANSFERS/TRANSFORMS (IOAT) API\n",
       " 1            DMA GENERIC OFFLOAD ENGINE SUBSYSTEM\n",
       " 2                            FREESCALE DMA DRIVER\n",
       " dtype: object)"
      ]
     },
     "execution_count": 134,
     "metadata": {},
     "output_type": "execute_result"
    }
   ],
   "source": [
    "get_maintainer_list_and_subsys_list('drivers/dma/fsldma.c', fcate_of_fn, fcate_2_subsys, mntr_of_rev=mtnr_rev['a040d532b912b5dd7d88692b580cff9c88b987e3'])"
   ]
  },
  {
   "cell_type": "code",
   "execution_count": null,
   "metadata": {
    "collapsed": true
   },
   "outputs": [],
   "source": [
    "# get module\n",
    "for mym in dict_mym_by_maintained:\n",
    "    dict_mym_by_maintained[mym]['mod'] = calc_sys2mod(sysname=None, flist=dict_mym_by_maintained[mym]['file_list'])"
   ]
  },
  {
   "cell_type": "code",
   "execution_count": null,
   "metadata": {
    "collapsed": true
   },
   "outputs": [],
   "source": [
    "res = []"
   ]
  },
  {
   "cell_type": "code",
   "execution_count": null,
   "metadata": {
    "collapsed": true
   },
   "outputs": [],
   "source": [
    "for mym in dict_mym_by_maintained:\n",
    "    d = dict_mym_by_maintained[mym]\n",
    "    tmp = {'mtnr':mym[0],\n",
    "           'month':mym[1],\n",
    "           'mod':d['mod'],\n",
    "           'num_files_maintained': len(d['file_list']), \n",
    "           'num_cfiles_maintained': len(d['cfile_list']),\n",
    "           'num_authors_on_maintained_file': len(d['authors_f']), \n",
    "           'num_commits_on_maintained_file': len(d['commits_f']), \n",
    "           'num_commits_he_authored_on_maintained__files': len(d['commits_authored_f']), \n",
    "           'num_commits_authored_by_other_maintainers': len(d['commits_authored_by_other_mtnrs_f']), \n",
    "           'num_commits_he_authored': len(d['commits_authored'])}\n",
    "    \n",
    "    v_my = dict_mym_by_maintained[mym]\n",
    "    try:\n",
    "        tmp['mtnr'], tmp['ym'] = mym[0], mym[1]\n",
    "    except Exception:\n",
    "        continue\n",
    "    tmp['num_subsyses'] = len(v_my['subsyses'])\n",
    "    tmp['num_subsyses_supported'] = len(v_my['subsyses_supported'])\n",
    "    tmp['subsys_list'] = '#'.join(v_my['subsyses'])\n",
    "    tmp['subsys_list_supported'] = '#'.join(v_my['subsyses_supported'])\n",
    "    subsys_f_cnt = 0\n",
    "    for (modi, k) in [('mod1', 'subsys_file_list'), ('mod2', 'subsys_supported_file_list'), ('mod1c', 'subsys_cfile_list'), ('mod2c', 'subsys_supported_cfile_list')]:\n",
    "        t = v_my[k]\n",
    "        tmp['num_' + k[7:-5]] = len(reduce(lambda x, y : set(list(x) + list(y)), t.values(), []))\n",
    "        if len(t) <= 0:\n",
    "            continue\n",
    "        s_cnt = Series(map(lambda v:len(t[v]), t.keys()), index=t.keys())\n",
    "        tmp[modi] = sys2mod[s_cnt.idxmax()]\n",
    "    \n",
    "    for k in ['added_file_list', 'deled_file_list', 'added_cfile_list', 'deled_cfile_list']:\n",
    "        tmp['num_' + k[:-5]] = len(v_my[k])\n",
    "        \n",
    "    res.append(tmp)"
   ]
  },
  {
   "cell_type": "code",
   "execution_count": null,
   "metadata": {
    "collapsed": false
   },
   "outputs": [],
   "source": [
    "mtnr_monthly_stat_by_maintain = DataFrame(res)"
   ]
  },
  {
   "cell_type": "code",
   "execution_count": 259,
   "metadata": {
    "collapsed": false
   },
   "outputs": [],
   "source": [
    "# mtnr_monthly_stat_by_maintain.shape, np.nansum(mtnr_monthly_stat_by_maintain['mod'] == mtnr_monthly_stat_by_maintain['mod1'])"
   ]
  },
  {
   "cell_type": "code",
   "execution_count": 257,
   "metadata": {
    "collapsed": false
   },
   "outputs": [
    {
     "data": {
      "text/plain": [
       "True"
      ]
     },
     "execution_count": 257,
     "metadata": {},
     "output_type": "execute_result"
    }
   ],
   "source": [
    "np.nan!= np.nan"
   ]
  },
  {
   "cell_type": "markdown",
   "metadata": {},
   "source": [
    "#### the first time he appeared on MAINTAINERS file,\n",
    "\n",
    "#### the last time he was not on the MAINTAINERS file (if there is)\n"
   ]
  },
  {
   "cell_type": "code",
   "execution_count": 182,
   "metadata": {
    "collapsed": false
   },
   "outputs": [
    {
     "data": {
      "text/html": [
       "<div>\n",
       "<table border=\"1\" class=\"dataframe\">\n",
       "  <thead>\n",
       "    <tr style=\"text-align: right;\">\n",
       "      <th></th>\n",
       "      <th>sys_name</th>\n",
       "      <th>type</th>\n",
       "      <th>obj</th>\n",
       "      <th>op</th>\n",
       "      <th>rev</th>\n",
       "      <th>time</th>\n",
       "      <th>m_name</th>\n",
       "      <th>m_email</th>\n",
       "      <th>year</th>\n",
       "      <th>ym</th>\n",
       "    </tr>\n",
       "  </thead>\n",
       "  <tbody>\n",
       "    <tr>\n",
       "      <th>0</th>\n",
       "      <td>3C359 NETWORK DRIVER</td>\n",
       "      <td>S</td>\n",
       "      <td>3C359 NETWORK DRIVER</td>\n",
       "      <td>+</td>\n",
       "      <td>1da177e4c3f41524e886b7f1b8a0c1fc7321cac2</td>\n",
       "      <td>1.113690e+09</td>\n",
       "      <td></td>\n",
       "      <td></td>\n",
       "      <td>2005</td>\n",
       "      <td>2005.04</td>\n",
       "    </tr>\n",
       "    <tr>\n",
       "      <th>1</th>\n",
       "      <td>3C359 NETWORK DRIVER</td>\n",
       "      <td>M</td>\n",
       "      <td>mike phillips</td>\n",
       "      <td>+</td>\n",
       "      <td>1da177e4c3f41524e886b7f1b8a0c1fc7321cac2</td>\n",
       "      <td>1.113690e+09</td>\n",
       "      <td>mike phillips</td>\n",
       "      <td></td>\n",
       "      <td>2005</td>\n",
       "      <td>2005.04</td>\n",
       "    </tr>\n",
       "    <tr>\n",
       "      <th>2</th>\n",
       "      <td>3C359 NETWORK DRIVER</td>\n",
       "      <td>ST</td>\n",
       "      <td>Maintained</td>\n",
       "      <td>+</td>\n",
       "      <td>1da177e4c3f41524e886b7f1b8a0c1fc7321cac2</td>\n",
       "      <td>1.113690e+09</td>\n",
       "      <td></td>\n",
       "      <td></td>\n",
       "      <td>2005</td>\n",
       "      <td>2005.04</td>\n",
       "    </tr>\n",
       "    <tr>\n",
       "      <th>3</th>\n",
       "      <td>3C359 NETWORK DRIVER</td>\n",
       "      <td>ST</td>\n",
       "      <td>&lt;__main__.SubSys instance at 0x7fa5df3907e8&gt;</td>\n",
       "      <td>+</td>\n",
       "      <td>9e95ce279fa611226a1ab0dff1c237c080b51b60</td>\n",
       "      <td>1.113690e+09</td>\n",
       "      <td></td>\n",
       "      <td></td>\n",
       "      <td>2005</td>\n",
       "      <td>2005.04</td>\n",
       "    </tr>\n",
       "    <tr>\n",
       "      <th>4</th>\n",
       "      <td>3C359 NETWORK DRIVER</td>\n",
       "      <td>ST</td>\n",
       "      <td>&lt;__main__.SubSys instance at 0x7fa559bdf248&gt;</td>\n",
       "      <td>-</td>\n",
       "      <td>9e95ce279fa611226a1ab0dff1c237c080b51b60</td>\n",
       "      <td>1.113690e+09</td>\n",
       "      <td></td>\n",
       "      <td></td>\n",
       "      <td>2005</td>\n",
       "      <td>2005.04</td>\n",
       "    </tr>\n",
       "  </tbody>\n",
       "</table>\n",
       "</div>"
      ],
      "text/plain": [
       "               sys_name type                                           obj op  \\\n",
       "0  3C359 NETWORK DRIVER    S                          3C359 NETWORK DRIVER  +   \n",
       "1  3C359 NETWORK DRIVER    M                                 mike phillips  +   \n",
       "2  3C359 NETWORK DRIVER   ST                                    Maintained  +   \n",
       "3  3C359 NETWORK DRIVER   ST  <__main__.SubSys instance at 0x7fa5df3907e8>  +   \n",
       "4  3C359 NETWORK DRIVER   ST  <__main__.SubSys instance at 0x7fa559bdf248>  -   \n",
       "\n",
       "                                        rev          time         m_name  \\\n",
       "0  1da177e4c3f41524e886b7f1b8a0c1fc7321cac2  1.113690e+09                  \n",
       "1  1da177e4c3f41524e886b7f1b8a0c1fc7321cac2  1.113690e+09  mike phillips   \n",
       "2  1da177e4c3f41524e886b7f1b8a0c1fc7321cac2  1.113690e+09                  \n",
       "3  9e95ce279fa611226a1ab0dff1c237c080b51b60  1.113690e+09                  \n",
       "4  9e95ce279fa611226a1ab0dff1c237c080b51b60  1.113690e+09                  \n",
       "\n",
       "  m_email  year       ym  \n",
       "0          2005  2005.04  \n",
       "1          2005  2005.04  \n",
       "2          2005  2005.04  \n",
       "3          2005  2005.04  \n",
       "4          2005  2005.04  "
      ]
     },
     "execution_count": 182,
     "metadata": {},
     "output_type": "execute_result"
    }
   ],
   "source": [
    "mh.head()"
   ]
  },
  {
   "cell_type": "code",
   "execution_count": null,
   "metadata": {
    "collapsed": false
   },
   "outputs": [],
   "source": [
    "tmh = mh[np.logical_and(mh['type'] == 'M', mh['op'] == '+')]\n",
    "grp = tmh.groupby('obj')\n",
    "time_first_add = grp['time'].agg(np.min)\n",
    "time_last_add = grp['time'].agg(np.max)\n",
    "\n",
    "tmh = mh[np.logical_and(mh['type'] == 'M', mh['op'] == '-')]\n",
    "grp = tmh.groupby('obj')\n",
    "time_last_del = grp['time'].agg(np.max)\n"
   ]
  },
  {
   "cell_type": "code",
   "execution_count": 261,
   "metadata": {
    "collapsed": false
   },
   "outputs": [
    {
     "data": {
      "text/plain": [
       "1113690036.0"
      ]
     },
     "execution_count": 261,
     "metadata": {},
     "output_type": "execute_result"
    }
   ],
   "source": [
    "time_last_add['3chas3@gmail.com']"
   ]
  },
  {
   "cell_type": "code",
   "execution_count": null,
   "metadata": {
    "collapsed": false
   },
   "outputs": [],
   "source": [
    "for col in ['time_first_add', 'time_last_add', 'time_last_del']:\n",
    "    mtnr_monthly_stat_by_maintain[col] = eval(col + '[mtnr_monthly_stat_by_maintain[\"mtnr\"]].values')\n",
    "    #mtnr_monthly_stat_by_maintain[col] = mtnr_monthly_stat_by_maintain[col].astype(int)"
   ]
  },
  {
   "cell_type": "code",
   "execution_count": 263,
   "metadata": {
    "collapsed": false
   },
   "outputs": [
    {
     "data": {
      "text/plain": [
       "37653"
      ]
     },
     "execution_count": 263,
     "metadata": {},
     "output_type": "execute_result"
    }
   ],
   "source": [
    "(mtnr_monthly_stat_by_maintain.time_last_add > mtnr_monthly_stat_by_maintain.time_last_del).sum()"
   ]
  },
  {
   "cell_type": "code",
   "execution_count": null,
   "metadata": {
    "collapsed": true
   },
   "outputs": [],
   "source": [
    "mtnr_monthly_stat_by_maintain.sort_values(['mtnr', 'month'], inplace=True)"
   ]
  },
  {
   "cell_type": "code",
   "execution_count": 267,
   "metadata": {
    "collapsed": false
   },
   "outputs": [
    {
     "data": {
      "text/html": [
       "<div>\n",
       "<table border=\"1\" class=\"dataframe\">\n",
       "  <thead>\n",
       "    <tr style=\"text-align: right;\">\n",
       "      <th></th>\n",
       "      <th>mod</th>\n",
       "      <th>mod1</th>\n",
       "      <th>mod1c</th>\n",
       "      <th>mod2</th>\n",
       "      <th>mod2c</th>\n",
       "      <th>month</th>\n",
       "      <th>mtnr</th>\n",
       "      <th>num_added_cfile</th>\n",
       "      <th>num_added_file</th>\n",
       "      <th>num_authors_on_maintained_file</th>\n",
       "      <th>...</th>\n",
       "      <th>num_file</th>\n",
       "      <th>num_files_maintained</th>\n",
       "      <th>num_subsyses</th>\n",
       "      <th>num_supported_cfile</th>\n",
       "      <th>num_supported_file</th>\n",
       "      <th>subsys_list</th>\n",
       "      <th>ym</th>\n",
       "      <th>time_first_add</th>\n",
       "      <th>time_last_add</th>\n",
       "      <th>time_last_del</th>\n",
       "    </tr>\n",
       "  </thead>\n",
       "  <tbody>\n",
       "    <tr>\n",
       "      <th>32150</th>\n",
       "      <td>arch</td>\n",
       "      <td>drivers</td>\n",
       "      <td>drivers</td>\n",
       "      <td>NaN</td>\n",
       "      <td>NaN</td>\n",
       "      <td>2011.07</td>\n",
       "      <td>21cnbao@gmail.com</td>\n",
       "      <td>7</td>\n",
       "      <td>23</td>\n",
       "      <td>0</td>\n",
       "      <td>...</td>\n",
       "      <td>23</td>\n",
       "      <td>23</td>\n",
       "      <td>1</td>\n",
       "      <td>0</td>\n",
       "      <td>0</td>\n",
       "      <td>ARM/CSR SIRFPRIMA2 MACHINE SUPPORT</td>\n",
       "      <td>2011.07</td>\n",
       "      <td>1.310487e+09</td>\n",
       "      <td>1.312520e+09</td>\n",
       "      <td>1.312413e+09</td>\n",
       "    </tr>\n",
       "    <tr>\n",
       "      <th>35689</th>\n",
       "      <td>arch</td>\n",
       "      <td>drivers</td>\n",
       "      <td>drivers</td>\n",
       "      <td>NaN</td>\n",
       "      <td>NaN</td>\n",
       "      <td>2011.08</td>\n",
       "      <td>21cnbao@gmail.com</td>\n",
       "      <td>0</td>\n",
       "      <td>0</td>\n",
       "      <td>1</td>\n",
       "      <td>...</td>\n",
       "      <td>23</td>\n",
       "      <td>23</td>\n",
       "      <td>1</td>\n",
       "      <td>0</td>\n",
       "      <td>0</td>\n",
       "      <td>ARM/CSR SIRFPRIMA2 MACHINE SUPPORT</td>\n",
       "      <td>2011.08</td>\n",
       "      <td>1.310487e+09</td>\n",
       "      <td>1.312520e+09</td>\n",
       "      <td>1.312413e+09</td>\n",
       "    </tr>\n",
       "    <tr>\n",
       "      <th>65302</th>\n",
       "      <td>arch</td>\n",
       "      <td>drivers</td>\n",
       "      <td>drivers</td>\n",
       "      <td>NaN</td>\n",
       "      <td>NaN</td>\n",
       "      <td>2011.09</td>\n",
       "      <td>21cnbao@gmail.com</td>\n",
       "      <td>0</td>\n",
       "      <td>0</td>\n",
       "      <td>5</td>\n",
       "      <td>...</td>\n",
       "      <td>23</td>\n",
       "      <td>23</td>\n",
       "      <td>1</td>\n",
       "      <td>0</td>\n",
       "      <td>0</td>\n",
       "      <td>ARM/CSR SIRFPRIMA2 MACHINE SUPPORT</td>\n",
       "      <td>2011.09</td>\n",
       "      <td>1.310487e+09</td>\n",
       "      <td>1.312520e+09</td>\n",
       "      <td>1.312413e+09</td>\n",
       "    </tr>\n",
       "    <tr>\n",
       "      <th>78395</th>\n",
       "      <td>arch</td>\n",
       "      <td>drivers</td>\n",
       "      <td>drivers</td>\n",
       "      <td>NaN</td>\n",
       "      <td>NaN</td>\n",
       "      <td>2011.10</td>\n",
       "      <td>21cnbao@gmail.com</td>\n",
       "      <td>0</td>\n",
       "      <td>0</td>\n",
       "      <td>3</td>\n",
       "      <td>...</td>\n",
       "      <td>23</td>\n",
       "      <td>23</td>\n",
       "      <td>1</td>\n",
       "      <td>0</td>\n",
       "      <td>0</td>\n",
       "      <td>ARM/CSR SIRFPRIMA2 MACHINE SUPPORT</td>\n",
       "      <td>2011.10</td>\n",
       "      <td>1.310487e+09</td>\n",
       "      <td>1.312520e+09</td>\n",
       "      <td>1.312413e+09</td>\n",
       "    </tr>\n",
       "    <tr>\n",
       "      <th>40331</th>\n",
       "      <td>arch</td>\n",
       "      <td>drivers</td>\n",
       "      <td>drivers</td>\n",
       "      <td>NaN</td>\n",
       "      <td>NaN</td>\n",
       "      <td>2011.11</td>\n",
       "      <td>21cnbao@gmail.com</td>\n",
       "      <td>3</td>\n",
       "      <td>5</td>\n",
       "      <td>2</td>\n",
       "      <td>...</td>\n",
       "      <td>28</td>\n",
       "      <td>28</td>\n",
       "      <td>1</td>\n",
       "      <td>0</td>\n",
       "      <td>0</td>\n",
       "      <td>ARM/CSR SIRFPRIMA2 MACHINE SUPPORT</td>\n",
       "      <td>2011.11</td>\n",
       "      <td>1.310487e+09</td>\n",
       "      <td>1.312520e+09</td>\n",
       "      <td>1.312413e+09</td>\n",
       "    </tr>\n",
       "  </tbody>\n",
       "</table>\n",
       "<p>5 rows × 28 columns</p>\n",
       "</div>"
      ],
      "text/plain": [
       "        mod     mod1    mod1c mod2 mod2c    month               mtnr  \\\n",
       "32150  arch  drivers  drivers  NaN   NaN  2011.07  21cnbao@gmail.com   \n",
       "35689  arch  drivers  drivers  NaN   NaN  2011.08  21cnbao@gmail.com   \n",
       "65302  arch  drivers  drivers  NaN   NaN  2011.09  21cnbao@gmail.com   \n",
       "78395  arch  drivers  drivers  NaN   NaN  2011.10  21cnbao@gmail.com   \n",
       "40331  arch  drivers  drivers  NaN   NaN  2011.11  21cnbao@gmail.com   \n",
       "\n",
       "       num_added_cfile  num_added_file  num_authors_on_maintained_file  \\\n",
       "32150                7              23                               0   \n",
       "35689                0               0                               1   \n",
       "65302                0               0                               5   \n",
       "78395                0               0                               3   \n",
       "40331                3               5                               2   \n",
       "\n",
       "           ...        num_file  num_files_maintained  num_subsyses  \\\n",
       "32150      ...              23                    23             1   \n",
       "35689      ...              23                    23             1   \n",
       "65302      ...              23                    23             1   \n",
       "78395      ...              23                    23             1   \n",
       "40331      ...              28                    28             1   \n",
       "\n",
       "       num_supported_cfile  num_supported_file  \\\n",
       "32150                    0                   0   \n",
       "35689                    0                   0   \n",
       "65302                    0                   0   \n",
       "78395                    0                   0   \n",
       "40331                    0                   0   \n",
       "\n",
       "                              subsys_list       ym  time_first_add  \\\n",
       "32150  ARM/CSR SIRFPRIMA2 MACHINE SUPPORT  2011.07    1.310487e+09   \n",
       "35689  ARM/CSR SIRFPRIMA2 MACHINE SUPPORT  2011.08    1.310487e+09   \n",
       "65302  ARM/CSR SIRFPRIMA2 MACHINE SUPPORT  2011.09    1.310487e+09   \n",
       "78395  ARM/CSR SIRFPRIMA2 MACHINE SUPPORT  2011.10    1.310487e+09   \n",
       "40331  ARM/CSR SIRFPRIMA2 MACHINE SUPPORT  2011.11    1.310487e+09   \n",
       "\n",
       "       time_last_add  time_last_del  \n",
       "32150   1.312520e+09   1.312413e+09  \n",
       "35689   1.312520e+09   1.312413e+09  \n",
       "65302   1.312520e+09   1.312413e+09  \n",
       "78395   1.312520e+09   1.312413e+09  \n",
       "40331   1.312520e+09   1.312413e+09  \n",
       "\n",
       "[5 rows x 28 columns]"
      ]
     },
     "execution_count": 267,
     "metadata": {},
     "output_type": "execute_result"
    }
   ],
   "source": [
    "mtnr_monthly_stat_by_maintain.head()"
   ]
  },
  {
   "cell_type": "code",
   "execution_count": null,
   "metadata": {
    "collapsed": true
   },
   "outputs": [],
   "source": []
  },
  {
   "cell_type": "code",
   "execution_count": null,
   "metadata": {
    "collapsed": true
   },
   "outputs": [],
   "source": [
    "mtnr_monthly_stat_by_maintain['month'] = map(lambda v : '{:0<7}'.format(v), mtnr_monthly_stat_by_maintain['month'])"
   ]
  },
  {
   "cell_type": "code",
   "execution_count": null,
   "metadata": {
    "collapsed": true
   },
   "outputs": [],
   "source": [
    "mtnr_monthly_stat_by_maintain.to_csv(mtnrdir + 'mtnr_monthly_stat_by_maintain_more.csv', header=True, index=False, sep=';')"
   ]
  },
  {
   "cell_type": "code",
   "execution_count": 287,
   "metadata": {
    "collapsed": false
   },
   "outputs": [
    {
     "data": {
      "text/plain": [
       "1"
      ]
     },
     "execution_count": 287,
     "metadata": {},
     "output_type": "execute_result"
    }
   ],
   "source": [
    "1"
   ]
  }
 ],
 "metadata": {
  "anaconda-cloud": {},
  "kernelspec": {
   "display_name": "Python [default]",
   "language": "python",
   "name": "python2"
  },
  "language_info": {
   "codemirror_mode": {
    "name": "ipython",
    "version": 2
   },
   "file_extension": ".py",
   "mimetype": "text/x-python",
   "name": "python",
   "nbconvert_exporter": "python",
   "pygments_lexer": "ipython2",
   "version": "2.7.12"
  }
 },
 "nbformat": 4,
 "nbformat_minor": 1
}
